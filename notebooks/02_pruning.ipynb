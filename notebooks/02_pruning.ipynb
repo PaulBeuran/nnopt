{
 "cells": [
  {
   "cell_type": "markdown",
   "id": "5e6172af",
   "metadata": {},
   "source": [
    "# 2. Pruning\n",
    "\n",
    "This notebook demonstrates how to prune a model using the `torh.torch.nn.utils.prune` and `torch-pruning` library. Pruning is a technique to reduce the size of a neural network by removing weights that are deemed unnecessary, which can lead to faster inference times and reduced memory usage.\n",
    "\n",
    "There is 2 types of pruning:\n",
    "- **Unstructured pruning**: Removes individual weights using an importance metric (e.g., low-magnitude weights are pruned). This can lead to sparse models, which reduce drastically the number of parameters but must rely on specialized hardware and/or libraries to take advantage of the sparsity during inference.\n",
    "- **Structured pruning**: Removes entire channels or layers, using a metric measuring an entire channel or layer importance (e.g., low-magnitude channels are pruned). This leads to a more regular model that can be used on standard hardware without requiring specialized libraries.\n",
    "\n",
    "Metrics used for pruning are typically based on the magnitude of weights, gradients, or other statistics that indicate the importance of a weight or a channel.\n",
    "\n",
    "The process is defined as such:\n",
    "* A Torch model is loaded.\n",
    "* A pruning strategy is defined, which specifies how to prune the model (e.g., unstructured or structured pruning, and the importance metric to use).\n",
    "* The model is pruned using the defined strategy.\n",
    "* The model is exported PyTorch format for further optimization or deployment.\n",
    "\n",
    "2 pruning methods will be used in this notebook, both for 2 models (image and audio classification):\n",
    "* L1-magntiude unstructured pruning using `torch.torch.nn.utils.prune`.\n",
    "* L1-magnitude structured pruning using `torch-pruning`."
   ]
  },
  {
   "cell_type": "markdown",
   "id": "e405ace3",
   "metadata": {},
   "source": [
    "# Setup"
   ]
  },
  {
   "cell_type": "code",
   "execution_count": 1,
   "id": "498b4ad5",
   "metadata": {},
   "outputs": [],
   "source": [
    "from typing import Any\n",
    "\n",
    "import torch\n",
    "\n",
    "from matplotlib import pyplot as plt\n",
    "\n",
    "from nnopt.model.eval import eval_model\n",
    "from nnopt.model.prune import prune_finetune, count_model_parameters\n",
    "from nnopt.model.const import DEVICE, DTYPE\n",
    "\n",
    "from nnopt.recipes.mobilenetv2_cifar10 import get_mobilenetv2_cifar10_model, get_cifar10_datasets, save_mobilenetv2_cifar10_model"
   ]
  },
  {
   "cell_type": "code",
   "execution_count": 2,
   "id": "127fa4db",
   "metadata": {},
   "outputs": [
    {
     "name": "stderr",
     "output_type": "stream",
     "text": [
      "2025-06-10 21:05:16,740 - nnopt.recipes.mobilenetv2_cifar10 - INFO - Loading MobileNetV2 model for CIFAR-10 from version: mobilenetv2_cifar10/baseline at /home/pbeuran/repos/nnopt/models\n",
      "2025-06-10 21:05:16,977 - nnopt.recipes.mobilenetv2_cifar10 - INFO - Loaded metadata: {'metrics_values': {'val_metrics': {'accuracy': 0.7796, 'avg_loss': 0.6432003515243531, 'samples_per_second': 4038.3580272218437, 'avg_time_per_batch': 0.015672493328692545, 'avg_time_per_sample': 0.00024762539459334223, 'n_params': 2236682, 'n_nonzero_params': 2236682}, 'test_metrics': {'accuracy': 0.9016, 'avg_loss': 0.28529461288452146, 'samples_per_second': 7993.7841294417485, 'avg_time_per_batch': 0.00796797442669642, 'avg_time_per_sample': 0.0001250971984991338, 'n_params': 2236682, 'n_nonzero_params': 2236682}}}\n",
      "2025-06-10 21:05:16,978 - nnopt.recipes.mobilenetv2_cifar10 - INFO - Loading existing training and validation datasets...\n",
      "2025-06-10 21:05:18,510 - nnopt.recipes.mobilenetv2_cifar10 - INFO - Loading existing test dataset...\n"
     ]
    }
   ],
   "source": [
    "# MobilenetV2 CIFAR-10 model\n",
    "mobilenetv2_cifar10_baseline, mobilenetv2_cifar10_baseline_metadata = get_mobilenetv2_cifar10_model(version=\"mobilenetv2_cifar10/baseline\",)\n",
    "\n",
    "# CIFAR-10 datasets\n",
    "cifar10_train_dataset, cifar10_val_dataset, cifar10_test_dataset = get_cifar10_datasets()"
   ]
  },
  {
   "cell_type": "code",
   "execution_count": 3,
   "id": "545c447b",
   "metadata": {},
   "outputs": [
    {
     "name": "stdout",
     "output_type": "stream",
     "text": [
      "Validation accuracy of MobileNetV2 on CIFAR-10 (baseline): 0.78\n",
      "Test accuracy of MobileNetV2 on CIFAR-10 (baseline): 0.90\n"
     ]
    }
   ],
   "source": [
    "# Evaluate the adapted model on the validation and test set\n",
    "mobilenetv2_cifar10_val_accuracy_baseline = mobilenetv2_cifar10_baseline_metadata[\"metrics_values\"][\"val_metrics\"][\"accuracy\"]\n",
    "mobilenetv2_cifar10_test_accuracy_baseline = mobilenetv2_cifar10_baseline_metadata[\"metrics_values\"][\"test_metrics\"][\"accuracy\"]\n",
    "print(f\"Validation accuracy of MobileNetV2 on CIFAR-10 (baseline): {mobilenetv2_cifar10_val_accuracy_baseline:.2f}\")\n",
    "print(f\"Test accuracy of MobileNetV2 on CIFAR-10 (baseline): {mobilenetv2_cifar10_test_accuracy_baseline:.2f}\")"
   ]
  },
  {
   "cell_type": "markdown",
   "id": "04a0356a",
   "metadata": {},
   "source": [
    "# L1 unstructured pruning"
   ]
  },
  {
   "cell_type": "code",
   "execution_count": null,
   "id": "c4da6cf1",
   "metadata": {},
   "outputs": [
    {
     "name": "stderr",
     "output_type": "stream",
     "text": [
      "2025-06-10 21:05:18,684 - nnopt.recipes.mobilenetv2_cifar10 - INFO - Loading MobileNetV2 model for CIFAR-10 from version: mobilenetv2_cifar10/baseline at /home/pbeuran/repos/nnopt/models\n",
      "2025-06-10 21:05:18,770 - nnopt.recipes.mobilenetv2_cifar10 - INFO - Loaded metadata: {'metrics_values': {'val_metrics': {'accuracy': 0.7796, 'avg_loss': 0.6432003515243531, 'samples_per_second': 4038.3580272218437, 'avg_time_per_batch': 0.015672493328692545, 'avg_time_per_sample': 0.00024762539459334223, 'n_params': 2236682, 'n_nonzero_params': 2236682}, 'test_metrics': {'accuracy': 0.9016, 'avg_loss': 0.28529461288452146, 'samples_per_second': 7993.7841294417485, 'avg_time_per_batch': 0.00796797442669642, 'avg_time_per_sample': 0.0001250971984991338, 'n_params': 2236682, 'n_nonzero_params': 2236682}}}\n",
      "2025-06-10 21:05:18,770 - nnopt.model.prune - INFO - Starting pruning with method: l1_unstructured_pruning, amount: 0.50\n",
      "2025-06-10 21:05:18,771 - nnopt.model.prune - INFO - Applying L1 unstructured pruning with amount: 0.50 for parameter 'weight' in layers: ['Linear', 'Conv2d']\n"
     ]
    },
    {
     "name": "stdout",
     "output_type": "stream",
     "text": [
      "************************************************************\n"
     ]
    },
    {
     "name": "stderr",
     "output_type": "stream",
     "text": [
      "2025-06-10 21:05:18,881 - nnopt.model.prune - INFO - Applied L1 unstructured pruning to 53 layers.\n",
      "2025-06-10 21:05:18,882 - nnopt.model.prune - INFO - Evaluating the pruned model on the validation dataset...\n",
      "2025-06-10 21:05:18,883 - nnopt.model.eval - INFO - Starting evaluation on device: cuda, dtype: torch.bfloat16, batch size: 64\n",
      "2025-06-10 21:05:18,901 - nnopt.model.eval - INFO - Starting warmup for 5 batches...\n",
      "[Warmup]: 100%|██████████| 5/5 [00:01<00:00,  3.26it/s]\n",
      "2025-06-10 21:05:20,510 - nnopt.model.eval - INFO - Warmup complete.\n",
      "[Evaluation]: 100%|██████████| 79/79 [00:04<00:00, 18.77it/s, acc=0.0960, cpu=3.6%, gpu_mem=6.6/24.0GB (27.6%), gpu_util=29.0%, loss=2.6953, ram=9.9/30.9GB (37.6%), samples/s=337.9]  \n",
      "2025-06-10 21:05:24,754 - nnopt.model.prune - INFO - Validation accuracy for pruned method l1_unstructured_pruning with pruning amount 0.50: 0.0960\n",
      "2025-06-10 21:05:24,754 - nnopt.model.prune - INFO - Starting finetuning of the pruned model...\n"
     ]
    },
    {
     "name": "stdout",
     "output_type": "stream",
     "text": [
      "Evaluation Complete: Avg Loss: 2.3867, Accuracy: 0.0960\n",
      "Throughput: 6369.38 samples/sec | Avg Batch Time: 9.94 ms | Avg Sample Time: 0.16 ms\n",
      "System Stats: CPU Usage: 12.30% | RAM Usage: 9.7/30.9GB (37.0%) | GPU 0 Util: 29.00% | GPU 0 Mem: 6.6/24.0GB (27.6%)\n"
     ]
    },
    {
     "name": "stderr",
     "output_type": "stream",
     "text": [
      "Epoch 1/3 [Training]: 100%|██████████| 704/704 [00:36<00:00, 19.37it/s, acc=0.6876, cpu=2.9%, gpu_mem=9.1/24.0GB (37.8%), gpu_util=56.0%, loss=0.8258, ram=10.1/30.9GB (38.1%), samples/s=155.3]  \n",
      "Epoch 1/3 [Validation]: 100%|██████████| 79/79 [00:04<00:00, 18.06it/s, acc=0.7334, cpu=2.7%, gpu_mem=9.1/24.0GB (38.0%), gpu_util=31.0%, loss=1.0696, ram=10.0/30.9GB (38.0%), samples/s=986.7]  \n"
     ]
    },
    {
     "name": "stdout",
     "output_type": "stream",
     "text": [
      "Epoch 1/3, Train Loss: 0.8940, Train Acc: 0.6876, Train Throughput: 1898.62 samples/s | Val Loss: 0.7746, Val Acc: 0.7334, Val Throughput: 5781.59 samples/s | CPU Usage: 11.70% | RAM Usage: 9.8/30.9GB (37.3%) | GPU 0 Util: 31.00% | GPU 0 Mem: 9.1/24.0GB (38.0%)\n"
     ]
    },
    {
     "name": "stderr",
     "output_type": "stream",
     "text": [
      "Epoch 2/3 [Training]: 100%|██████████| 704/704 [00:36<00:00, 19.27it/s, acc=0.7353, cpu=2.8%, gpu_mem=9.1/24.0GB (37.8%), gpu_util=62.0%, loss=0.3952, ram=10.1/30.9GB (38.2%), samples/s=400.7]  \n",
      "Epoch 2/3 [Validation]: 100%|██████████| 79/79 [00:04<00:00, 18.27it/s, acc=0.7438, cpu=2.9%, gpu_mem=9.1/24.0GB (37.9%), gpu_util=29.0%, loss=0.5589, ram=10.0/30.9GB (37.9%), samples/s=998.7]  \n"
     ]
    },
    {
     "name": "stdout",
     "output_type": "stream",
     "text": [
      "Epoch 2/3, Train Loss: 0.7592, Train Acc: 0.7353, Train Throughput: 1912.24 samples/s | Val Loss: 0.7365, Val Acc: 0.7438, Val Throughput: 5955.08 samples/s | CPU Usage: 12.80% | RAM Usage: 9.8/30.9GB (37.3%) | GPU 0 Util: 29.00% | GPU 0 Mem: 9.1/24.0GB (37.9%)\n"
     ]
    },
    {
     "name": "stderr",
     "output_type": "stream",
     "text": [
      "Epoch 3/3 [Training]: 100%|██████████| 704/704 [00:36<00:00, 19.24it/s, acc=0.7540, cpu=4.2%, gpu_mem=9.1/24.0GB (37.8%), gpu_util=62.0%, loss=1.2091, ram=10.1/30.9GB (38.3%), samples/s=414.3]  \n",
      "Epoch 3/3 [Validation]: 100%|██████████| 79/79 [00:04<00:00, 18.49it/s, acc=0.7626, cpu=3.1%, gpu_mem=9.1/24.0GB (37.8%), gpu_util=30.0%, loss=1.1370, ram=10.1/30.9GB (38.0%), samples/s=1030.0] \n",
      "2025-06-10 21:07:27,220 - nnopt.model.prune - INFO - Evaluating the pruned and finetuned model on the validation dataset...\n",
      "2025-06-10 21:07:27,220 - nnopt.model.eval - INFO - Starting evaluation on device: cuda, dtype: torch.bfloat16, batch size: 64\n",
      "2025-06-10 21:07:27,223 - nnopt.model.eval - INFO - Starting warmup for 5 batches...\n"
     ]
    },
    {
     "name": "stdout",
     "output_type": "stream",
     "text": [
      "Epoch 3/3, Train Loss: 0.7001, Train Acc: 0.7540, Train Throughput: 1916.25 samples/s | Val Loss: 0.6917, Val Acc: 0.7626, Val Throughput: 5766.87 samples/s | CPU Usage: 10.30% | RAM Usage: 9.9/30.9GB (37.3%) | GPU 0 Util: 27.00% | GPU 0 Mem: 9.1/24.0GB (37.8%)\n"
     ]
    },
    {
     "name": "stderr",
     "output_type": "stream",
     "text": [
      "[Warmup]: 100%|██████████| 5/5 [00:00<00:00,  7.31it/s]\n",
      "2025-06-10 21:07:28,005 - nnopt.model.eval - INFO - Warmup complete.\n",
      "[Evaluation]: 100%|██████████| 79/79 [00:04<00:00, 18.40it/s, acc=0.7568, cpu=0.0%, gpu_mem=9.1/24.0GB (37.8%), gpu_util=36.0%, loss=0.7497, ram=10.1/30.9GB (38.2%), samples/s=986.2]  \n",
      "2025-06-10 21:07:32,321 - nnopt.model.prune - INFO - Validation accuracy for pruned and finetuned model: 0.7568\n",
      "2025-06-10 21:07:32,322 - nnopt.model.prune - INFO - Making pruning permanent by removing reparameterization...\n",
      "2025-06-10 21:07:32,324 - nnopt.model.prune - INFO - Made pruning permanent for 53 layers.\n",
      "2025-06-10 21:07:32,325 - nnopt.model.prune - INFO - Removed pruning reparameterization from the pruned finetuned model.\n",
      "2025-06-10 21:07:32,325 - nnopt.model.eval - INFO - Starting evaluation on device: cuda, dtype: torch.bfloat16, batch size: 64\n",
      "2025-06-10 21:07:32,328 - nnopt.model.eval - INFO - Starting warmup for 5 batches...\n"
     ]
    },
    {
     "name": "stdout",
     "output_type": "stream",
     "text": [
      "Evaluation Complete: Avg Loss: 0.6944, Accuracy: 0.7568\n",
      "Throughput: 4203.78 samples/sec | Avg Batch Time: 15.06 ms | Avg Sample Time: 0.24 ms\n",
      "System Stats: CPU Usage: 10.40% | RAM Usage: 9.8/30.9GB (37.3%) | GPU 0 Util: 36.00% | GPU 0 Mem: 9.1/24.0GB (37.8%)\n"
     ]
    },
    {
     "name": "stderr",
     "output_type": "stream",
     "text": [
      "[Warmup]: 100%|██████████| 5/5 [00:00<00:00,  7.37it/s]\n",
      "2025-06-10 21:07:33,100 - nnopt.model.eval - INFO - Warmup complete.\n",
      "[Evaluation]: 100%|██████████| 79/79 [00:04<00:00, 18.53it/s, acc=0.7598, cpu=6.7%, gpu_mem=9.1/24.0GB (37.8%), gpu_util=38.0%, loss=0.5994, ram=10.1/30.9GB (38.2%), samples/s=1253.0] \n",
      "2025-06-10 21:07:37,385 - nnopt.model.eval - INFO - Starting evaluation on device: cuda, dtype: torch.bfloat16, batch size: 64\n",
      "2025-06-10 21:07:37,388 - nnopt.model.eval - INFO - Starting warmup for 5 batches...\n"
     ]
    },
    {
     "name": "stdout",
     "output_type": "stream",
     "text": [
      "Evaluation Complete: Avg Loss: 0.6887, Accuracy: 0.7598\n",
      "Throughput: 3745.98 samples/sec | Avg Batch Time: 16.90 ms | Avg Sample Time: 0.27 ms\n",
      "System Stats: CPU Usage: 13.00% | RAM Usage: 9.8/30.9GB (37.3%) | GPU 0 Util: 38.00% | GPU 0 Mem: 9.1/24.0GB (37.8%)\n"
     ]
    },
    {
     "name": "stderr",
     "output_type": "stream",
     "text": [
      "[Warmup]: 100%|██████████| 5/5 [00:00<00:00, 15.25it/s]\n",
      "2025-06-10 21:07:37,807 - nnopt.model.eval - INFO - Warmup complete.\n",
      "[Evaluation]: 100%|██████████| 157/157 [00:03<00:00, 40.95it/s, acc=0.8945, cpu=3.5%, gpu_mem=9.1/24.0GB (37.8%), gpu_util=31.0%, loss=0.1489, ram=10.1/30.9GB (38.3%), samples/s=662.0]  \n",
      "2025-06-10 21:07:41,702 - nnopt.recipes.mobilenetv2_cifar10 - INFO - Metadata saved to /home/pbeuran/repos/nnopt/models/mobilenetv2_cifar10/l1_unstructured_pruning_0.5/metadata.json\n",
      "2025-06-10 21:07:41,703 - nnopt.recipes.mobilenetv2_cifar10 - INFO - Model saved to /home/pbeuran/repos/nnopt/models/mobilenetv2_cifar10/l1_unstructured_pruning_0.5/model.pt\n",
      "2025-06-10 21:07:41,704 - nnopt.recipes.mobilenetv2_cifar10 - INFO - Loading MobileNetV2 model for CIFAR-10 from version: mobilenetv2_cifar10/baseline at /home/pbeuran/repos/nnopt/models\n",
      "2025-06-10 21:07:41,794 - nnopt.recipes.mobilenetv2_cifar10 - INFO - Loaded metadata: {'metrics_values': {'val_metrics': {'accuracy': 0.7796, 'avg_loss': 0.6432003515243531, 'samples_per_second': 4038.3580272218437, 'avg_time_per_batch': 0.015672493328692545, 'avg_time_per_sample': 0.00024762539459334223, 'n_params': 2236682, 'n_nonzero_params': 2236682}, 'test_metrics': {'accuracy': 0.9016, 'avg_loss': 0.28529461288452146, 'samples_per_second': 7993.7841294417485, 'avg_time_per_batch': 0.00796797442669642, 'avg_time_per_sample': 0.0001250971984991338, 'n_params': 2236682, 'n_nonzero_params': 2236682}}}\n",
      "2025-06-10 21:07:41,794 - nnopt.model.prune - INFO - Starting pruning with method: l1_unstructured_pruning, amount: 0.70\n",
      "2025-06-10 21:07:41,795 - nnopt.model.prune - INFO - Applying L1 unstructured pruning with amount: 0.70 for parameter 'weight' in layers: ['Linear', 'Conv2d']\n"
     ]
    },
    {
     "name": "stdout",
     "output_type": "stream",
     "text": [
      "Evaluation Complete: Avg Loss: 0.3136, Accuracy: 0.8945\n",
      "Throughput: 7497.45 samples/sec | Avg Batch Time: 8.50 ms | Avg Sample Time: 0.13 ms\n",
      "System Stats: CPU Usage: 12.10% | RAM Usage: 9.9/30.9GB (37.4%) | GPU 0 Util: 31.00% | GPU 0 Mem: 9.1/24.0GB (37.8%)\n",
      "************************************************************\n",
      "\n",
      "************************************************************\n"
     ]
    },
    {
     "name": "stderr",
     "output_type": "stream",
     "text": [
      "2025-06-10 21:07:41,944 - nnopt.model.prune - INFO - Applied L1 unstructured pruning to 53 layers.\n",
      "2025-06-10 21:07:41,945 - nnopt.model.prune - INFO - Evaluating the pruned model on the validation dataset...\n",
      "2025-06-10 21:07:41,946 - nnopt.model.eval - INFO - Starting evaluation on device: cuda, dtype: torch.bfloat16, batch size: 64\n",
      "2025-06-10 21:07:41,962 - nnopt.model.eval - INFO - Starting warmup for 5 batches...\n",
      "[Warmup]: 100%|██████████| 5/5 [00:00<00:00,  7.39it/s]\n",
      "2025-06-10 21:07:42,733 - nnopt.model.eval - INFO - Warmup complete.\n",
      "[Evaluation]: 100%|██████████| 79/79 [00:04<00:00, 18.07it/s, acc=0.0942, cpu=3.0%, gpu_mem=9.1/24.0GB (37.8%), gpu_util=35.0%, loss=2.3750, ram=10.2/30.9GB (38.4%), samples/s=998.1]  \n",
      "2025-06-10 21:07:47,125 - nnopt.model.prune - INFO - Validation accuracy for pruned method l1_unstructured_pruning with pruning amount 0.70: 0.0942\n",
      "2025-06-10 21:07:47,125 - nnopt.model.prune - INFO - Starting finetuning of the pruned model...\n"
     ]
    },
    {
     "name": "stdout",
     "output_type": "stream",
     "text": [
      "Evaluation Complete: Avg Loss: 2.3120, Accuracy: 0.0942\n",
      "Throughput: 4518.60 samples/sec | Avg Batch Time: 14.01 ms | Avg Sample Time: 0.22 ms\n",
      "System Stats: CPU Usage: 10.80% | RAM Usage: 9.9/30.9GB (37.5%) | GPU 0 Util: 35.00% | GPU 0 Mem: 9.1/24.0GB (37.8%)\n"
     ]
    },
    {
     "name": "stderr",
     "output_type": "stream",
     "text": [
      "Epoch 1/3 [Training]: 100%|██████████| 704/704 [00:36<00:00, 19.29it/s, acc=0.5875, cpu=2.6%, gpu_mem=9.1/24.0GB (37.8%), gpu_util=61.0%, loss=1.2494, ram=10.1/30.9GB (38.2%), samples/s=365.9]  \n",
      "Epoch 1/3 [Validation]: 100%|██████████| 79/79 [00:04<00:00, 18.22it/s, acc=0.6620, cpu=2.9%, gpu_mem=9.1/24.0GB (37.8%), gpu_util=29.0%, loss=1.0510, ram=10.2/30.9GB (38.4%), samples/s=967.1]  \n"
     ]
    },
    {
     "name": "stdout",
     "output_type": "stream",
     "text": [
      "Epoch 1/3, Train Loss: 1.1645, Train Acc: 0.5875, Train Throughput: 1927.11 samples/s | Val Loss: 0.9642, Val Acc: 0.6620, Val Throughput: 5826.51 samples/s | CPU Usage: 11.00% | RAM Usage: 9.9/30.9GB (37.5%) | GPU 0 Util: 29.00% | GPU 0 Mem: 9.1/24.0GB (37.8%)\n"
     ]
    },
    {
     "name": "stderr",
     "output_type": "stream",
     "text": [
      "Epoch 2/3 [Training]: 100%|██████████| 704/704 [00:36<00:00, 19.10it/s, acc=0.6788, cpu=5.3%, gpu_mem=9.1/24.0GB (37.8%), gpu_util=56.0%, loss=0.8622, ram=10.2/30.9GB (38.4%), samples/s=398.1]  \n",
      "Epoch 2/3 [Validation]: 100%|██████████| 79/79 [00:04<00:00, 18.30it/s, acc=0.6910, cpu=5.7%, gpu_mem=9.1/24.0GB (37.9%), gpu_util=31.0%, loss=1.0839, ram=10.2/30.9GB (38.4%), samples/s=1023.1] \n"
     ]
    },
    {
     "name": "stdout",
     "output_type": "stream",
     "text": [
      "Epoch 2/3, Train Loss: 0.9132, Train Acc: 0.6788, Train Throughput: 1884.09 samples/s | Val Loss: 0.8827, Val Acc: 0.6910, Val Throughput: 5799.48 samples/s | CPU Usage: 11.90% | RAM Usage: 9.9/30.9GB (37.5%) | GPU 0 Util: 31.00% | GPU 0 Mem: 9.1/24.0GB (37.9%)\n"
     ]
    },
    {
     "name": "stderr",
     "output_type": "stream",
     "text": [
      "Epoch 3/3 [Training]:  11%|█         | 78/704 [00:04<00:35, 17.88it/s, acc=0.6988, cpu=20.3%, gpu_mem=9.1/24.0GB (38.0%), gpu_util=47.0%, loss=0.7322, ram=10.2/30.9GB (38.5%), samples/s=1870.7]"
     ]
    }
   ],
   "source": [
    "# Prune using L1 unstructured pruning, finetune, and evaluate for 0.5, 0.7, and 0.9 sparsity levels\n",
    "unstruct_pruned_amount_model_version_map: dict[float, str] = {}\n",
    "unstruct_pruned_amount_metrics_map: dict[float, Any] = {}\n",
    "for sparsity in [0.5, 0.7, 0.9]:\n",
    "    print(\"***\" * 20)\n",
    "    # Prune and finetune the model\n",
    "    mobilenetv2_cifar10_pruned = prune_finetune(\n",
    "    model=get_mobilenetv2_cifar10_model(version=\"mobilenetv2_cifar10/baseline\")[0],\n",
    "    train_dataset=cifar10_train_dataset,\n",
    "    val_dataset=cifar10_val_dataset,\n",
    "    pruning_method=\"l1_unstructured_pruning\",\n",
    "    pruning_amount=sparsity,\n",
    "    batch_size=64,  # Adjust batch size as needed\n",
    "    num_epochs=3,\n",
    "    device=DEVICE,\n",
    "    use_amp=True,\n",
    "    dtype=DTYPE\n",
    ")\n",
    "    # Save the model and its metadata\n",
    "    unstruct_pruned_amount_model_version_map[sparsity] = f\"mobilenetv2_cifar10/l1_unstructured_pruning_{sparsity}\"\n",
    "    unstruct_pruned_amount_metrics_map[sparsity] = {\n",
    "        \"val_metrics\": eval_model(\n",
    "            model=mobilenetv2_cifar10_pruned,\n",
    "            test_dataset=cifar10_val_dataset,\n",
    "            batch_size=64,  # Adjust batch size as needed\n",
    "            device=DEVICE,\n",
    "            use_amp=True,\n",
    "            dtype=DTYPE\n",
    "        ),\n",
    "        \"test_metrics\": eval_model(\n",
    "            model=mobilenetv2_cifar10_pruned,\n",
    "            test_dataset=cifar10_test_dataset,\n",
    "            batch_size=64,  # Adjust batch size as needed\n",
    "            device=DEVICE,\n",
    "            use_amp=True,\n",
    "            dtype=DTYPE\n",
    "        ),\n",
    "    }\n",
    "    print((\"***\" * 20) + \"\\n\")\n",
    "    save_mobilenetv2_cifar10_model(\n",
    "        model=mobilenetv2_cifar10_pruned,\n",
    "        version=f\"mobilenetv2_cifar10/l1_unstructured_pruning_{sparsity}\",\n",
    "        unstruct_sparse_config={\n",
    "            \"pruning_amount\": sparsity\n",
    "        },\n",
    "        metrics_values=unstruct_pruned_amount_metrics_map[sparsity]\n",
    "    )"
   ]
  },
  {
   "cell_type": "code",
   "execution_count": null,
   "id": "b84e79d0",
   "metadata": {},
   "outputs": [
    {
     "name": "stdout",
     "output_type": "stream",
     "text": [
      "Sparsity: 0.50, Validation Accuracy: 0.76, Test Accuracy: 0.88\n",
      "Sparsity: 0.70, Validation Accuracy: 0.72, Test Accuracy: 0.85\n",
      "Sparsity: 0.90, Validation Accuracy: 0.14, Test Accuracy: 0.13\n"
     ]
    }
   ],
   "source": [
    "# Print the sparsity and accuracy results\n",
    "for sparsity, metrics in unstruct_pruned_amount_metrics_map.items():\n",
    "    print(f\"Sparsity: {sparsity:.2f}, Validation Accuracy: {metrics['val_metrics']['accuracy']:.2f}, Test Accuracy: {metrics['test_metrics']['accuracy']:.2f}\")"
   ]
  },
  {
   "cell_type": "code",
   "execution_count": null,
   "id": "52256079",
   "metadata": {},
   "outputs": [
    {
     "data": {
      "image/png": "[encoded data removed]",
      "text/plain": [
       "<Figure size 1000x500 with 1 Axes>"
      ]
     },
     "metadata": {},
     "output_type": "display_data"
    }
   ],
   "source": [
    "# Plot the sparsity levels vs accuracy for validation and test sets (baseline is considered as 0 sparsity)\n",
    "sparsity_levels = [0.] + list(unstruct_pruned_amount_metrics_map.keys())\n",
    "val_accuracies = [mobilenetv2_cifar10_val_accuracy_baseline] + [unstruct_pruned_amount_metrics_map[sparsity][\"val_metrics\"][\"accuracy\"] for sparsity in sparsity_levels[1:]]\n",
    "test_accuracies = [mobilenetv2_cifar10_test_accuracy_baseline] + [unstruct_pruned_amount_metrics_map[sparsity][\"test_metrics\"][\"accuracy\"] for sparsity in sparsity_levels[1:]]\n",
    "plt.figure(figsize=(10, 5))\n",
    "plt.plot(sparsity_levels, val_accuracies, marker='o', label='Validation Accuracy')\n",
    "plt.plot(sparsity_levels, test_accuracies, marker='o', label='Test Accuracy')\n",
    "plt.title('L1 Unstructured Pruning: Sparsity Levels vs Accuracy')\n",
    "plt.xlabel('Sparsity Level')\n",
    "plt.ylabel('Accuracy')\n",
    "plt.xticks(sparsity_levels)\n",
    "plt.grid()\n",
    "plt.legend()\n",
    "plt.show()"
   ]
  },
  {
   "cell_type": "markdown",
   "id": "8a5b0684",
   "metadata": {},
   "source": [
    "# L1 structured pruning"
   ]
  },
  {
   "cell_type": "code",
   "execution_count": null,
   "id": "d364be53",
   "metadata": {},
   "outputs": [
    {
     "name": "stderr",
     "output_type": "stream",
     "text": [
      "2025-06-10 20:53:37,975 - nnopt.recipes.mobilenetv2_cifar10 - INFO - Loading MobileNetV2 model for CIFAR-10 from version: mobilenetv2_cifar10/baseline at /home/pbeuran/repos/nnopt/models\n",
      "2025-06-10 20:53:38,100 - nnopt.recipes.mobilenetv2_cifar10 - INFO - Loaded metadata: {'metrics_values': {'val_metrics': {'accuracy': 0.7796, 'avg_loss': 0.6432003515243531, 'samples_per_second': 4038.3580272218437, 'avg_time_per_batch': 0.015672493328692545, 'avg_time_per_sample': 0.00024762539459334223, 'n_params': 2236682, 'n_nonzero_params': 2236682}, 'test_metrics': {'accuracy': 0.9016, 'avg_loss': 0.28529461288452146, 'samples_per_second': 7993.7841294417485, 'avg_time_per_batch': 0.00796797442669642, 'avg_time_per_sample': 0.0001250971984991338, 'n_params': 2236682, 'n_nonzero_params': 2236682}}}\n",
      "2025-06-10 20:53:38,133 - nnopt.model.prune - INFO - Starting pruning with method: l1_structured_pruning, amount: 0.10\n",
      "2025-06-10 20:53:38,135 - nnopt.model.prune - INFO - Applying L1 structured pruning with amount: 0.10\n",
      "2025-06-10 20:53:38,135 - nnopt.model.prune - INFO - Initial model parameters: 2236682\n"
     ]
    },
    {
     "name": "stdout",
     "output_type": "stream",
     "text": [
      "************************************************************\n"
     ]
    },
    {
     "name": "stderr",
     "output_type": "stream",
     "text": [
      "2025-06-10 20:53:38,600 - nnopt.model.prune - INFO - Applied structured pruning to 52 layers.\n",
      "2025-06-10 20:53:38,602 - nnopt.model.prune - INFO - Final model parameters after structured pruning: 1484452\n",
      "2025-06-10 20:53:38,602 - nnopt.model.prune - INFO - Parameter reduction: 752230 (33.63%)\n",
      "2025-06-10 20:53:38,603 - nnopt.model.prune - INFO - Evaluating the pruned model on the validation dataset...\n",
      "2025-06-10 20:53:38,604 - nnopt.model.eval - INFO - Starting evaluation on device: cuda, dtype: torch.bfloat16, batch size: 64\n",
      "2025-06-10 20:53:38,606 - nnopt.model.eval - INFO - Starting warmup for 5 batches...\n",
      "[Warmup]: 100%|██████████| 5/5 [00:00<00:00,  6.20it/s]\n",
      "2025-06-10 20:53:39,510 - nnopt.model.eval - INFO - Warmup complete.\n",
      "[Evaluation]: 100%|██████████| 79/79 [00:04<00:00, 17.78it/s, acc=0.0902, cpu=2.7%, gpu_mem=9.1/24.0GB (38.0%), gpu_util=19.0%, loss=2.4404, ram=10.9/30.9GB (40.7%), samples/s=102.0]   \n",
      "2025-06-10 20:53:43,978 - nnopt.model.prune - INFO - Validation accuracy for pruned method l1_structured_pruning with pruning amount 0.10: 0.0902\n",
      "2025-06-10 20:53:43,979 - nnopt.model.prune - INFO - Starting finetuning of the pruned model...\n"
     ]
    },
    {
     "name": "stdout",
     "output_type": "stream",
     "text": [
      "Evaluation Complete: Avg Loss: 3.5231, Accuracy: 0.0902\n",
      "Throughput: 6371.86 samples/sec | Avg Batch Time: 9.93 ms | Avg Sample Time: 0.16 ms\n",
      "System Stats: CPU Usage: 12.40% | RAM Usage: 10.3/30.9GB (38.7%) | GPU 0 Util: 19.00% | GPU 0 Mem: 9.1/24.0GB (38.0%)\n"
     ]
    },
    {
     "name": "stderr",
     "output_type": "stream",
     "text": [
      "Epoch 1/3 [Training]: 100%|██████████| 704/704 [00:37<00:00, 18.99it/s, acc=0.5995, cpu=3.3%, gpu_mem=9.1/24.0GB (37.9%), gpu_util=54.0%, loss=1.1480, ram=10.8/30.9GB (40.5%), samples/s=180.6]  \n",
      "Epoch 1/3 [Validation]: 100%|██████████| 79/79 [00:04<00:00, 18.22it/s, acc=0.6592, cpu=3.1%, gpu_mem=9.1/24.0GB (37.9%), gpu_util=25.0%, loss=1.1650, ram=10.4/30.9GB (39.1%), samples/s=1067.2]  \n"
     ]
    },
    {
     "name": "stdout",
     "output_type": "stream",
     "text": [
      "Epoch 1/3, Train Loss: 1.1387, Train Acc: 0.5995, Train Throughput: 2052.47 samples/s | Val Loss: 0.9782, Val Acc: 0.6592, Val Throughput: 7026.59 samples/s | CPU Usage: 10.00% | RAM Usage: 10.2/30.9GB (38.5%) | GPU 0 Util: 25.00% | GPU 0 Mem: 9.1/24.0GB (37.9%)\n"
     ]
    },
    {
     "name": "stderr",
     "output_type": "stream",
     "text": [
      "Epoch 2/3 [Training]: 100%|██████████| 704/704 [00:36<00:00, 19.06it/s, acc=0.6782, cpu=6.9%, gpu_mem=9.1/24.0GB (38.0%), gpu_util=54.0%, loss=0.6405, ram=10.6/30.9GB (39.7%), samples/s=404.5]  \n",
      "Epoch 2/3 [Validation]: 100%|██████████| 79/79 [00:04<00:00, 18.29it/s, acc=0.6846, cpu=6.2%, gpu_mem=9.1/24.0GB (38.0%), gpu_util=28.0%, loss=1.2646, ram=10.5/30.9GB (39.5%), samples/s=1104.4]  \n"
     ]
    },
    {
     "name": "stdout",
     "output_type": "stream",
     "text": [
      "Epoch 2/3, Train Loss: 0.9232, Train Acc: 0.6782, Train Throughput: 2085.39 samples/s | Val Loss: 0.8990, Val Acc: 0.6846, Val Throughput: 6772.81 samples/s | CPU Usage: 13.90% | RAM Usage: 10.3/30.9GB (38.8%) | GPU 0 Util: 31.00% | GPU 0 Mem: 9.1/24.0GB (38.0%)\n"
     ]
    },
    {
     "name": "stderr",
     "output_type": "stream",
     "text": [
      "Epoch 3/3 [Training]: 100%|██████████| 704/704 [00:36<00:00, 19.14it/s, acc=0.7099, cpu=2.9%, gpu_mem=9.2/24.0GB (38.2%), gpu_util=50.0%, loss=0.4994, ram=10.5/30.9GB (39.4%), samples/s=423.9]  \n",
      "Epoch 3/3 [Validation]: 100%|██████████| 79/79 [00:04<00:00, 17.59it/s, acc=0.7164, cpu=5.9%, gpu_mem=9.2/24.0GB (38.3%), gpu_util=30.0%, loss=1.1130, ram=10.4/30.9GB (39.3%), samples/s=1085.7]  \n",
      "2025-06-10 20:55:47,942 - nnopt.model.prune - INFO - Evaluating the pruned and finetuned model on the validation dataset...\n",
      "2025-06-10 20:55:47,942 - nnopt.model.eval - INFO - Starting evaluation on device: cuda, dtype: torch.bfloat16, batch size: 64\n",
      "2025-06-10 20:55:47,945 - nnopt.model.eval - INFO - Starting warmup for 5 batches...\n"
     ]
    },
    {
     "name": "stdout",
     "output_type": "stream",
     "text": [
      "Epoch 3/3, Train Loss: 0.8356, Train Acc: 0.7099, Train Throughput: 2089.20 samples/s | Val Loss: 0.8489, Val Acc: 0.7164, Val Throughput: 6537.83 samples/s | CPU Usage: 10.40% | RAM Usage: 10.2/30.9GB (38.4%) | GPU 0 Util: 30.00% | GPU 0 Mem: 9.2/24.0GB (38.3%)\n"
     ]
    },
    {
     "name": "stderr",
     "output_type": "stream",
     "text": [
      "[Warmup]: 100%|██████████| 5/5 [00:00<00:00,  7.21it/s]\n",
      "2025-06-10 20:55:48,736 - nnopt.model.eval - INFO - Warmup complete.\n",
      "[Evaluation]: 100%|██████████| 79/79 [00:04<00:00, 18.09it/s, acc=0.7022, cpu=8.6%, gpu_mem=9.2/24.0GB (38.2%), gpu_util=33.0%, loss=0.9136, ram=10.4/30.9GB (39.3%), samples/s=1039.4] \n",
      "2025-06-10 20:55:53,126 - nnopt.model.prune - INFO - Validation accuracy for pruned and finetuned model: 0.7022\n",
      "2025-06-10 20:55:53,127 - nnopt.model.prune - INFO - Making pruning permanent by removing reparameterization...\n",
      "2025-06-10 20:55:53,128 - nnopt.model.prune - WARNING - No pruning reparameterization was removed. Was the model pruned?\n",
      "2025-06-10 20:55:53,128 - nnopt.model.prune - INFO - Removed pruning reparameterization from the pruned finetuned model.\n",
      "2025-06-10 20:55:53,131 - nnopt.model.eval - INFO - Starting evaluation on device: cuda, dtype: torch.bfloat16, batch size: 64\n",
      "2025-06-10 20:55:53,134 - nnopt.model.eval - INFO - Starting warmup for 5 batches...\n"
     ]
    },
    {
     "name": "stdout",
     "output_type": "stream",
     "text": [
      "Evaluation Complete: Avg Loss: 0.8470, Accuracy: 0.7022\n",
      "Throughput: 4548.51 samples/sec | Avg Batch Time: 13.91 ms | Avg Sample Time: 0.22 ms\n",
      "System Stats: CPU Usage: 15.70% | RAM Usage: 10.2/30.9GB (38.4%) | GPU 0 Util: 33.00% | GPU 0 Mem: 9.2/24.0GB (38.2%)\n"
     ]
    },
    {
     "name": "stderr",
     "output_type": "stream",
     "text": [
      "[Warmup]: 100%|██████████| 5/5 [00:00<00:00,  7.14it/s]\n",
      "2025-06-10 20:55:53,942 - nnopt.model.eval - INFO - Warmup complete.\n",
      "[Evaluation]: 100%|██████████| 79/79 [00:04<00:00, 17.86it/s, acc=0.7028, cpu=0.0%, gpu_mem=9.1/24.0GB (38.1%), gpu_util=33.0%, loss=1.1034, ram=10.5/30.9GB (39.3%), samples/s=1104.4] \n",
      "2025-06-10 20:55:58,386 - nnopt.model.eval - INFO - Starting evaluation on device: cuda, dtype: torch.bfloat16, batch size: 64\n",
      "2025-06-10 20:55:58,389 - nnopt.model.eval - INFO - Starting warmup for 5 batches...\n"
     ]
    },
    {
     "name": "stdout",
     "output_type": "stream",
     "text": [
      "Evaluation Complete: Avg Loss: 0.8774, Accuracy: 0.7028\n",
      "Throughput: 4538.44 samples/sec | Avg Batch Time: 13.95 ms | Avg Sample Time: 0.22 ms\n",
      "System Stats: CPU Usage: 10.70% | RAM Usage: 10.2/30.9GB (38.4%) | GPU 0 Util: 33.00% | GPU 0 Mem: 9.1/24.0GB (38.1%)\n"
     ]
    },
    {
     "name": "stderr",
     "output_type": "stream",
     "text": [
      "[Warmup]: 100%|██████████| 5/5 [00:00<00:00, 12.69it/s]\n",
      "2025-06-10 20:55:58,880 - nnopt.model.eval - INFO - Warmup complete.\n",
      "[Evaluation]: 100%|██████████| 157/157 [00:03<00:00, 40.26it/s, acc=0.8316, cpu=5.1%, gpu_mem=9.2/24.0GB (38.2%), gpu_util=35.0%, loss=0.3418, ram=10.4/30.9GB (39.1%), samples/s=744.0]  \n",
      "2025-06-10 20:56:02,841 - nnopt.recipes.mobilenetv2_cifar10 - INFO - Metadata saved to /home/pbeuran/repos/nnopt/models/mobilenetv2_cifar10/l1_structured_pruning_0.1/metadata.json\n",
      "2025-06-10 20:56:02,842 - nnopt.recipes.mobilenetv2_cifar10 - INFO - Model saved to /home/pbeuran/repos/nnopt/models/mobilenetv2_cifar10/l1_structured_pruning_0.1/model.pt\n",
      "2025-06-10 20:56:02,842 - nnopt.recipes.mobilenetv2_cifar10 - INFO - Loading MobileNetV2 model for CIFAR-10 from version: mobilenetv2_cifar10/baseline at /home/pbeuran/repos/nnopt/models\n",
      "2025-06-10 20:56:02,940 - nnopt.recipes.mobilenetv2_cifar10 - INFO - Loaded metadata: {'metrics_values': {'val_metrics': {'accuracy': 0.7796, 'avg_loss': 0.6432003515243531, 'samples_per_second': 4038.3580272218437, 'avg_time_per_batch': 0.015672493328692545, 'avg_time_per_sample': 0.00024762539459334223, 'n_params': 2236682, 'n_nonzero_params': 2236682}, 'test_metrics': {'accuracy': 0.9016, 'avg_loss': 0.28529461288452146, 'samples_per_second': 7993.7841294417485, 'avg_time_per_batch': 0.00796797442669642, 'avg_time_per_sample': 0.0001250971984991338, 'n_params': 2236682, 'n_nonzero_params': 2236682}}}\n",
      "2025-06-10 20:56:02,955 - nnopt.model.prune - INFO - Starting pruning with method: l1_structured_pruning, amount: 0.30\n",
      "2025-06-10 20:56:02,956 - nnopt.model.prune - INFO - Applying L1 structured pruning with amount: 0.30\n",
      "2025-06-10 20:56:02,957 - nnopt.model.prune - INFO - Initial model parameters: 2236682\n"
     ]
    },
    {
     "name": "stdout",
     "output_type": "stream",
     "text": [
      "Evaluation Complete: Avg Loss: 0.4949, Accuracy: 0.8316\n",
      "Throughput: 7826.94 samples/sec | Avg Batch Time: 8.14 ms | Avg Sample Time: 0.13 ms\n",
      "System Stats: CPU Usage: 10.20% | RAM Usage: 10.2/30.9GB (38.4%) | GPU 0 Util: 35.00% | GPU 0 Mem: 9.2/24.0GB (38.2%)\n",
      "************************************************************\n",
      "\n",
      "************************************************************\n"
     ]
    },
    {
     "name": "stderr",
     "output_type": "stream",
     "text": [
      "2025-06-10 20:56:03,055 - nnopt.model.prune - INFO - Applied structured pruning to 52 layers.\n",
      "2025-06-10 20:56:03,056 - nnopt.model.prune - INFO - Final model parameters after structured pruning: 601161\n",
      "2025-06-10 20:56:03,056 - nnopt.model.prune - INFO - Parameter reduction: 1635521 (73.12%)\n",
      "2025-06-10 20:56:03,057 - nnopt.model.prune - INFO - Evaluating the pruned model on the validation dataset...\n",
      "2025-06-10 20:56:03,057 - nnopt.model.eval - INFO - Starting evaluation on device: cuda, dtype: torch.bfloat16, batch size: 64\n",
      "2025-06-10 20:56:03,059 - nnopt.model.eval - INFO - Starting warmup for 5 batches...\n",
      "[Warmup]: 100%|██████████| 5/5 [00:00<00:00,  7.26it/s]\n",
      "2025-06-10 20:56:03,848 - nnopt.model.eval - INFO - Warmup complete.\n",
      "[Evaluation]: 100%|██████████| 79/79 [00:04<00:00, 18.09it/s, acc=0.0934, cpu=1.2%, gpu_mem=9.1/24.0GB (38.0%), gpu_util=23.0%, loss=3.1777, ram=10.5/30.9GB (39.4%), samples/s=341.9]  \n",
      "2025-06-10 20:56:08,235 - nnopt.model.prune - INFO - Validation accuracy for pruned method l1_structured_pruning with pruning amount 0.30: 0.0934\n",
      "2025-06-10 20:56:08,236 - nnopt.model.prune - INFO - Starting finetuning of the pruned model...\n"
     ]
    },
    {
     "name": "stdout",
     "output_type": "stream",
     "text": [
      "Evaluation Complete: Avg Loss: 5.3104, Accuracy: 0.0934\n",
      "Throughput: 6849.07 samples/sec | Avg Batch Time: 9.24 ms | Avg Sample Time: 0.15 ms\n",
      "System Stats: CPU Usage: 10.40% | RAM Usage: 10.2/30.9GB (38.5%) | GPU 0 Util: 17.00% | GPU 0 Mem: 9.1/24.0GB (38.0%)\n"
     ]
    },
    {
     "name": "stderr",
     "output_type": "stream",
     "text": [
      "Epoch 1/3 [Training]: 100%|██████████| 704/704 [00:36<00:00, 19.08it/s, acc=0.4143, cpu=2.1%, gpu_mem=9.1/24.0GB (38.0%), gpu_util=40.0%, loss=1.0486, ram=10.4/30.9GB (39.3%), samples/s=135.5]  \n",
      "Epoch 1/3 [Validation]: 100%|██████████| 79/79 [00:04<00:00, 18.04it/s, acc=0.5000, cpu=0.0%, gpu_mem=9.1/24.0GB (38.0%), gpu_util=21.0%, loss=1.1248, ram=10.4/30.9GB (39.3%), samples/s=1302.8]  \n"
     ]
    },
    {
     "name": "stdout",
     "output_type": "stream",
     "text": [
      "Epoch 1/3, Train Loss: 1.6198, Train Acc: 0.4143, Train Throughput: 2451.62 samples/s | Val Loss: 1.4105, Val Acc: 0.5000, Val Throughput: 8913.30 samples/s | CPU Usage: 10.50% | RAM Usage: 10.1/30.9GB (38.3%) | GPU 0 Util: 21.00% | GPU 0 Mem: 9.1/24.0GB (38.0%)\n"
     ]
    },
    {
     "name": "stderr",
     "output_type": "stream",
     "text": [
      "Epoch 2/3 [Training]: 100%|██████████| 704/704 [00:36<00:00, 19.08it/s, acc=0.5493, cpu=3.2%, gpu_mem=9.1/24.0GB (38.0%), gpu_util=37.0%, loss=1.6156, ram=10.5/30.9GB (39.4%), samples/s=476.2]  \n",
      "Epoch 2/3 [Validation]: 100%|██████████| 79/79 [00:04<00:00, 17.84it/s, acc=0.5860, cpu=6.5%, gpu_mem=9.1/24.0GB (38.0%), gpu_util=20.0%, loss=0.9444, ram=10.5/30.9GB (39.3%), samples/s=1180.4]  \n"
     ]
    },
    {
     "name": "stdout",
     "output_type": "stream",
     "text": [
      "Epoch 2/3, Train Loss: 1.2746, Train Acc: 0.5493, Train Throughput: 2444.89 samples/s | Val Loss: 1.1706, Val Acc: 0.5860, Val Throughput: 8729.11 samples/s | CPU Usage: 11.10% | RAM Usage: 10.2/30.9GB (38.4%) | GPU 0 Util: 25.00% | GPU 0 Mem: 9.1/24.0GB (38.0%)\n"
     ]
    },
    {
     "name": "stderr",
     "output_type": "stream",
     "text": [
      "Epoch 3/3 [Training]: 100%|██████████| 704/704 [00:36<00:00, 19.11it/s, acc=0.5979, cpu=6.0%, gpu_mem=9.1/24.0GB (38.1%), gpu_util=40.0%, loss=0.9595, ram=10.4/30.9GB (39.0%), samples/s=455.1]  \n",
      "Epoch 3/3 [Validation]: 100%|██████████| 79/79 [00:04<00:00, 18.45it/s, acc=0.6138, cpu=6.5%, gpu_mem=9.1/24.0GB (38.1%), gpu_util=22.0%, loss=1.4701, ram=10.3/30.9GB (39.0%), samples/s=1209.3]  \n",
      "2025-06-10 20:58:11,961 - nnopt.model.prune - INFO - Evaluating the pruned and finetuned model on the validation dataset...\n",
      "2025-06-10 20:58:11,961 - nnopt.model.eval - INFO - Starting evaluation on device: cuda, dtype: torch.bfloat16, batch size: 64\n",
      "2025-06-10 20:58:11,964 - nnopt.model.eval - INFO - Starting warmup for 5 batches...\n"
     ]
    },
    {
     "name": "stdout",
     "output_type": "stream",
     "text": [
      "Epoch 3/3, Train Loss: 1.1409, Train Acc: 0.5979, Train Throughput: 2430.52 samples/s | Val Loss: 1.1141, Val Acc: 0.6138, Val Throughput: 9083.93 samples/s | CPU Usage: 14.00% | RAM Usage: 10.1/30.9GB (38.3%) | GPU 0 Util: 22.00% | GPU 0 Mem: 9.1/24.0GB (38.1%)\n"
     ]
    },
    {
     "name": "stderr",
     "output_type": "stream",
     "text": [
      "[Warmup]: 100%|██████████| 5/5 [00:00<00:00,  6.94it/s]\n",
      "2025-06-10 20:58:12,784 - nnopt.model.eval - INFO - Warmup complete.\n",
      "[Evaluation]: 100%|██████████| 79/79 [00:04<00:00, 17.97it/s, acc=0.6024, cpu=3.3%, gpu_mem=9.2/24.0GB (38.2%), gpu_util=24.0%, loss=1.0687, ram=10.3/30.9GB (39.0%), samples/s=1173.8]  \n",
      "2025-06-10 20:58:17,201 - nnopt.model.prune - INFO - Validation accuracy for pruned and finetuned model: 0.6024\n",
      "2025-06-10 20:58:17,201 - nnopt.model.prune - INFO - Making pruning permanent by removing reparameterization...\n",
      "2025-06-10 20:58:17,202 - nnopt.model.prune - WARNING - No pruning reparameterization was removed. Was the model pruned?\n",
      "2025-06-10 20:58:17,202 - nnopt.model.prune - INFO - Removed pruning reparameterization from the pruned finetuned model.\n",
      "2025-06-10 20:58:17,205 - nnopt.model.eval - INFO - Starting evaluation on device: cuda, dtype: torch.bfloat16, batch size: 64\n",
      "2025-06-10 20:58:17,208 - nnopt.model.eval - INFO - Starting warmup for 5 batches...\n"
     ]
    },
    {
     "name": "stdout",
     "output_type": "stream",
     "text": [
      "Evaluation Complete: Avg Loss: 1.1318, Accuracy: 0.6024\n",
      "Throughput: 6611.32 samples/sec | Avg Batch Time: 9.57 ms | Avg Sample Time: 0.15 ms\n",
      "System Stats: CPU Usage: 10.10% | RAM Usage: 10.1/30.9GB (38.3%) | GPU 0 Util: 15.00% | GPU 0 Mem: 9.2/24.0GB (38.2%)\n"
     ]
    },
    {
     "name": "stderr",
     "output_type": "stream",
     "text": [
      "[Warmup]: 100%|██████████| 5/5 [00:00<00:00,  7.24it/s]\n",
      "2025-06-10 20:58:17,998 - nnopt.model.eval - INFO - Warmup complete.\n",
      "[Evaluation]: 100%|██████████| 79/79 [00:04<00:00, 18.27it/s, acc=0.6050, cpu=3.2%, gpu_mem=9.1/24.0GB (38.0%), gpu_util=19.0%, loss=1.1525, ram=10.3/30.9GB (38.9%), samples/s=1109.8]  \n",
      "2025-06-10 20:58:22,343 - nnopt.model.eval - INFO - Starting evaluation on device: cuda, dtype: torch.bfloat16, batch size: 64\n",
      "2025-06-10 20:58:22,346 - nnopt.model.eval - INFO - Starting warmup for 5 batches...\n"
     ]
    },
    {
     "name": "stdout",
     "output_type": "stream",
     "text": [
      "Evaluation Complete: Avg Loss: 1.1162, Accuracy: 0.6050\n",
      "Throughput: 6333.02 samples/sec | Avg Batch Time: 9.99 ms | Avg Sample Time: 0.16 ms\n",
      "System Stats: CPU Usage: 10.40% | RAM Usage: 10.1/30.9GB (38.2%) | GPU 0 Util: 19.00% | GPU 0 Mem: 9.1/24.0GB (38.0%)\n"
     ]
    },
    {
     "name": "stderr",
     "output_type": "stream",
     "text": [
      "[Warmup]: 100%|██████████| 5/5 [00:00<00:00, 12.27it/s]\n",
      "2025-06-10 20:58:22,854 - nnopt.model.eval - INFO - Warmup complete.\n",
      "[Evaluation]: 100%|██████████| 157/157 [00:03<00:00, 39.99it/s, acc=0.7452, cpu=6.5%, gpu_mem=9.2/24.0GB (38.1%), gpu_util=40.0%, loss=0.8359, ram=10.4/30.9GB (39.2%), samples/s=766.6]  \n",
      "2025-06-10 20:58:26,834 - nnopt.recipes.mobilenetv2_cifar10 - INFO - Metadata saved to /home/pbeuran/repos/nnopt/models/mobilenetv2_cifar10/l1_structured_pruning_0.3/metadata.json\n",
      "2025-06-10 20:58:26,835 - nnopt.recipes.mobilenetv2_cifar10 - INFO - Model saved to /home/pbeuran/repos/nnopt/models/mobilenetv2_cifar10/l1_structured_pruning_0.3/model.pt\n",
      "2025-06-10 20:58:26,835 - nnopt.recipes.mobilenetv2_cifar10 - INFO - Loading MobileNetV2 model for CIFAR-10 from version: mobilenetv2_cifar10/baseline at /home/pbeuran/repos/nnopt/models\n",
      "2025-06-10 20:58:26,948 - nnopt.recipes.mobilenetv2_cifar10 - INFO - Loaded metadata: {'metrics_values': {'val_metrics': {'accuracy': 0.7796, 'avg_loss': 0.6432003515243531, 'samples_per_second': 4038.3580272218437, 'avg_time_per_batch': 0.015672493328692545, 'avg_time_per_sample': 0.00024762539459334223, 'n_params': 2236682, 'n_nonzero_params': 2236682}, 'test_metrics': {'accuracy': 0.9016, 'avg_loss': 0.28529461288452146, 'samples_per_second': 7993.7841294417485, 'avg_time_per_batch': 0.00796797442669642, 'avg_time_per_sample': 0.0001250971984991338, 'n_params': 2236682, 'n_nonzero_params': 2236682}}}\n",
      "2025-06-10 20:58:26,964 - nnopt.model.prune - INFO - Starting pruning with method: l1_structured_pruning, amount: 0.50\n",
      "2025-06-10 20:58:26,965 - nnopt.model.prune - INFO - Applying L1 structured pruning with amount: 0.50\n",
      "2025-06-10 20:58:26,966 - nnopt.model.prune - INFO - Initial model parameters: 2236682\n"
     ]
    },
    {
     "name": "stdout",
     "output_type": "stream",
     "text": [
      "Evaluation Complete: Avg Loss: 0.7412, Accuracy: 0.7452\n",
      "Throughput: 7830.18 samples/sec | Avg Batch Time: 8.13 ms | Avg Sample Time: 0.13 ms\n",
      "System Stats: CPU Usage: 12.20% | RAM Usage: 10.1/30.9GB (38.3%) | GPU 0 Util: 31.00% | GPU 0 Mem: 9.2/24.0GB (38.1%)\n",
      "************************************************************\n",
      "\n",
      "************************************************************\n"
     ]
    },
    {
     "name": "stderr",
     "output_type": "stream",
     "text": [
      "2025-06-10 20:58:27,075 - nnopt.model.prune - INFO - Applied structured pruning to 52 layers.\n",
      "2025-06-10 20:58:27,076 - nnopt.model.prune - INFO - Final model parameters after structured pruning: 214210\n",
      "2025-06-10 20:58:27,076 - nnopt.model.prune - INFO - Parameter reduction: 2022472 (90.42%)\n",
      "2025-06-10 20:58:27,077 - nnopt.model.prune - INFO - Evaluating the pruned model on the validation dataset...\n",
      "2025-06-10 20:58:27,077 - nnopt.model.eval - INFO - Starting evaluation on device: cuda, dtype: torch.bfloat16, batch size: 64\n",
      "2025-06-10 20:58:27,080 - nnopt.model.eval - INFO - Starting warmup for 5 batches...\n",
      "[Warmup]: 100%|██████████| 5/5 [00:00<00:00,  7.19it/s]\n",
      "2025-06-10 20:58:27,882 - nnopt.model.eval - INFO - Warmup complete.\n",
      "[Evaluation]: 100%|██████████| 79/79 [00:04<00:00, 17.37it/s, acc=0.0922, cpu=2.6%, gpu_mem=9.1/24.0GB (38.0%), gpu_util=23.0%, loss=2.5625, ram=10.4/30.9GB (39.1%), samples/s=379.7]  \n",
      "2025-06-10 20:58:32,449 - nnopt.model.prune - INFO - Validation accuracy for pruned method l1_structured_pruning with pruning amount 0.50: 0.0922\n",
      "2025-06-10 20:58:32,450 - nnopt.model.prune - INFO - Starting finetuning of the pruned model...\n"
     ]
    },
    {
     "name": "stdout",
     "output_type": "stream",
     "text": [
      "Evaluation Complete: Avg Loss: 3.1680, Accuracy: 0.0922\n",
      "Throughput: 6958.96 samples/sec | Avg Batch Time: 9.09 ms | Avg Sample Time: 0.14 ms\n",
      "System Stats: CPU Usage: 11.10% | RAM Usage: 10.1/30.9GB (38.3%) | GPU 0 Util: 23.00% | GPU 0 Mem: 9.1/24.0GB (38.0%)\n"
     ]
    },
    {
     "name": "stderr",
     "output_type": "stream",
     "text": [
      "Epoch 1/3 [Training]: 100%|██████████| 704/704 [00:37<00:00, 19.00it/s, acc=0.3008, cpu=3.0%, gpu_mem=9.1/24.0GB (38.0%), gpu_util=38.0%, loss=1.6862, ram=10.6/30.9GB (39.8%), samples/s=135.3]  \n",
      "Epoch 1/3 [Validation]: 100%|██████████| 79/79 [00:04<00:00, 17.96it/s, acc=0.3742, cpu=3.2%, gpu_mem=9.1/24.0GB (38.0%), gpu_util=30.0%, loss=1.8921, ram=10.5/30.9GB (39.6%), samples/s=1260.0]  \n"
     ]
    },
    {
     "name": "stdout",
     "output_type": "stream",
     "text": [
      "Epoch 1/3, Train Loss: 1.8895, Train Acc: 0.3008, Train Throughput: 2506.36 samples/s | Val Loss: 1.7161, Val Acc: 0.3742, Val Throughput: 8611.38 samples/s | CPU Usage: 12.50% | RAM Usage: 10.3/30.9GB (38.9%) | GPU 0 Util: 30.00% | GPU 0 Mem: 9.1/24.0GB (38.0%)\n"
     ]
    },
    {
     "name": "stderr",
     "output_type": "stream",
     "text": [
      "Epoch 2/3 [Training]: 100%|██████████| 704/704 [00:37<00:00, 18.92it/s, acc=0.4134, cpu=1.6%, gpu_mem=9.1/24.0GB (38.0%), gpu_util=36.0%, loss=1.4912, ram=10.5/30.9GB (39.6%), samples/s=479.8]  \n",
      "Epoch 2/3 [Validation]: 100%|██████████| 79/79 [00:04<00:00, 17.75it/s, acc=0.4560, cpu=0.0%, gpu_mem=9.2/24.0GB (38.2%), gpu_util=50.0%, loss=1.6829, ram=10.5/30.9GB (39.5%), samples/s=1143.6]  \n"
     ]
    },
    {
     "name": "stdout",
     "output_type": "stream",
     "text": [
      "Epoch 2/3, Train Loss: 1.6249, Train Acc: 0.4134, Train Throughput: 2571.81 samples/s | Val Loss: 1.5011, Val Acc: 0.4560, Val Throughput: 8343.30 samples/s | CPU Usage: 11.10% | RAM Usage: 10.2/30.9GB (38.6%) | GPU 0 Util: 29.00% | GPU 0 Mem: 9.2/24.0GB (38.2%)\n"
     ]
    },
    {
     "name": "stderr",
     "output_type": "stream",
     "text": [
      "Epoch 3/3 [Training]: 100%|██████████| 704/704 [00:37<00:00, 18.88it/s, acc=0.4768, cpu=4.7%, gpu_mem=9.1/24.0GB (38.0%), gpu_util=35.0%, loss=1.2634, ram=10.7/30.9GB (40.2%), samples/s=468.0]  \n",
      "Epoch 3/3 [Validation]: 100%|██████████| 79/79 [00:04<00:00, 17.46it/s, acc=0.5128, cpu=6.3%, gpu_mem=9.1/24.0GB (38.0%), gpu_util=33.0%, loss=1.8188, ram=10.7/30.9GB (40.0%), samples/s=1240.4]  \n",
      "2025-06-10 21:00:37,392 - nnopt.model.prune - INFO - Evaluating the pruned and finetuned model on the validation dataset...\n",
      "2025-06-10 21:00:37,392 - nnopt.model.eval - INFO - Starting evaluation on device: cuda, dtype: torch.bfloat16, batch size: 64\n",
      "2025-06-10 21:00:37,395 - nnopt.model.eval - INFO - Starting warmup for 5 batches...\n"
     ]
    },
    {
     "name": "stdout",
     "output_type": "stream",
     "text": [
      "Epoch 3/3, Train Loss: 1.4579, Train Acc: 0.4768, Train Throughput: 2481.78 samples/s | Val Loss: 1.3794, Val Acc: 0.5128, Val Throughput: 7990.40 samples/s | CPU Usage: 11.10% | RAM Usage: 10.4/30.9GB (39.1%) | GPU 0 Util: 30.00% | GPU 0 Mem: 9.1/24.0GB (38.0%)\n"
     ]
    },
    {
     "name": "stderr",
     "output_type": "stream",
     "text": [
      "[Warmup]: 100%|██████████| 5/5 [00:00<00:00,  6.66it/s]\n",
      "2025-06-10 21:00:38,248 - nnopt.model.eval - INFO - Warmup complete.\n",
      "[Evaluation]: 100%|██████████| 79/79 [00:04<00:00, 18.05it/s, acc=0.5088, cpu=25.8%, gpu_mem=9.1/24.0GB (38.1%), gpu_util=7.0%, loss=1.4350, ram=10.7/30.9GB (40.0%), samples/s=1207.6]  \n",
      "2025-06-10 21:00:42,645 - nnopt.model.prune - INFO - Validation accuracy for pruned and finetuned model: 0.5088\n",
      "2025-06-10 21:00:42,646 - nnopt.model.prune - INFO - Making pruning permanent by removing reparameterization...\n",
      "2025-06-10 21:00:42,647 - nnopt.model.prune - WARNING - No pruning reparameterization was removed. Was the model pruned?\n",
      "2025-06-10 21:00:42,647 - nnopt.model.prune - INFO - Removed pruning reparameterization from the pruned finetuned model.\n",
      "2025-06-10 21:00:42,650 - nnopt.model.eval - INFO - Starting evaluation on device: cuda, dtype: torch.bfloat16, batch size: 64\n",
      "2025-06-10 21:00:42,654 - nnopt.model.eval - INFO - Starting warmup for 5 batches...\n"
     ]
    },
    {
     "name": "stdout",
     "output_type": "stream",
     "text": [
      "Evaluation Complete: Avg Loss: 1.3765, Accuracy: 0.5088\n",
      "Throughput: 7592.21 samples/sec | Avg Batch Time: 8.34 ms | Avg Sample Time: 0.13 ms\n",
      "System Stats: CPU Usage: 25.10% | RAM Usage: 10.4/30.9GB (39.0%) | GPU 0 Util: 7.00% | GPU 0 Mem: 9.1/24.0GB (38.1%)\n"
     ]
    },
    {
     "name": "stderr",
     "output_type": "stream",
     "text": [
      "[Warmup]: 100%|██████████| 5/5 [00:00<00:00,  6.89it/s]\n",
      "2025-06-10 21:00:43,483 - nnopt.model.eval - INFO - Warmup complete.\n",
      "[Evaluation]: 100%|██████████| 79/79 [00:04<00:00, 18.07it/s, acc=0.5074, cpu=6.5%, gpu_mem=9.1/24.0GB (38.1%), gpu_util=28.0%, loss=1.3260, ram=10.6/30.9GB (39.7%), samples/s=1299.8] \n",
      "2025-06-10 21:00:47,874 - nnopt.model.eval - INFO - Starting evaluation on device: cuda, dtype: torch.bfloat16, batch size: 64\n",
      "2025-06-10 21:00:47,876 - nnopt.model.eval - INFO - Starting warmup for 5 batches...\n"
     ]
    },
    {
     "name": "stdout",
     "output_type": "stream",
     "text": [
      "Evaluation Complete: Avg Loss: 1.3793, Accuracy: 0.5074\n",
      "Throughput: 6698.47 samples/sec | Avg Batch Time: 9.45 ms | Avg Sample Time: 0.15 ms\n",
      "System Stats: CPU Usage: 13.30% | RAM Usage: 10.3/30.9GB (38.8%) | GPU 0 Util: 28.00% | GPU 0 Mem: 9.1/24.0GB (38.1%)\n"
     ]
    },
    {
     "name": "stderr",
     "output_type": "stream",
     "text": [
      "[Warmup]: 100%|██████████| 5/5 [00:00<00:00, 12.43it/s]\n",
      "2025-06-10 21:00:48,375 - nnopt.model.eval - INFO - Warmup complete.\n",
      "[Evaluation]: 100%|██████████| 157/157 [00:03<00:00, 39.98it/s, acc=0.6239, cpu=5.1%, gpu_mem=9.1/24.0GB (38.0%), gpu_util=28.0%, loss=0.8761, ram=10.6/30.9GB (39.7%), samples/s=759.1]   \n",
      "2025-06-10 21:00:52,349 - nnopt.recipes.mobilenetv2_cifar10 - INFO - Metadata saved to /home/pbeuran/repos/nnopt/models/mobilenetv2_cifar10/l1_structured_pruning_0.5/metadata.json\n",
      "2025-06-10 21:00:52,351 - nnopt.recipes.mobilenetv2_cifar10 - INFO - Model saved to /home/pbeuran/repos/nnopt/models/mobilenetv2_cifar10/l1_structured_pruning_0.5/model.pt\n"
     ]
    },
    {
     "name": "stdout",
     "output_type": "stream",
     "text": [
      "Evaluation Complete: Avg Loss: 1.0647, Accuracy: 0.6239\n",
      "Throughput: 8192.90 samples/sec | Avg Batch Time: 7.77 ms | Avg Sample Time: 0.12 ms\n",
      "System Stats: CPU Usage: 13.40% | RAM Usage: 10.3/30.9GB (38.7%) | GPU 0 Util: 28.00% | GPU 0 Mem: 9.1/24.0GB (38.0%)\n",
      "************************************************************\n",
      "\n"
     ]
    }
   ],
   "source": [
    "# Prune using L1 structured pruning, finetune, and evaluate for 0.5, 0.7, and 0.9 sparsity levels\n",
    "struct_pruned_amount_model_version_map: dict[float, str] = {}\n",
    "struct_pruned_amount_metrics_map: dict[float, dict[str, float]] = {}\n",
    "for sparsity in [0.1, 0.3, 0.5]:\n",
    "    print(\"***\" * 20)\n",
    "    # Prune and finetune the model\n",
    "    _mobilnet_v2_cifar10_model, _ = get_mobilenetv2_cifar10_model(version=\"mobilenetv2_cifar10/baseline\")\n",
    "    mobilenetv2_cifar10_pruned = prune_finetune(\n",
    "    model=_mobilnet_v2_cifar10_model.to(DEVICE),\n",
    "    train_dataset=cifar10_train_dataset,\n",
    "    val_dataset=cifar10_val_dataset,\n",
    "    pruning_method=\"l1_structured_pruning\",\n",
    "    pruning_amount=sparsity,\n",
    "    pruning_kwargs={\n",
    "        \"example_inputs\": torch.randn(1, 3, 224, 224, device=DEVICE),  # Example input for structured pruning\n",
    "    },\n",
    "    batch_size=64,  # Adjust batch size as needed\n",
    "    num_epochs=3,\n",
    "    device=DEVICE,\n",
    "    use_amp=True,\n",
    "    dtype=DTYPE\n",
    ")\n",
    "    # Save the model and its metadata\n",
    "    struct_pruned_amount_model_version_map[sparsity] = f\"mobilenetv2_cifar10/l1_structured_pruning_{sparsity}\"\n",
    "    struct_pruned_amount_metrics_map[sparsity] = {\n",
    "        \"val_metrics\": eval_model(\n",
    "            model=mobilenetv2_cifar10_pruned,\n",
    "            test_dataset=cifar10_val_dataset,\n",
    "            batch_size=64,  # Adjust batch size as needed\n",
    "            device=DEVICE,\n",
    "            use_amp=True,\n",
    "            dtype=DTYPE\n",
    "        ),\n",
    "        \"test_metrics\": eval_model(\n",
    "            model=mobilenetv2_cifar10_pruned,\n",
    "            test_dataset=cifar10_test_dataset,\n",
    "            batch_size=64,  # Adjust batch size as needed\n",
    "            device=DEVICE,\n",
    "            use_amp=True,\n",
    "            dtype=DTYPE\n",
    "        ),\n",
    "        \"relative_sparsity\": count_model_parameters(mobilenetv2_cifar10_pruned)/count_model_parameters(_mobilnet_v2_cifar10_model)\n",
    "    }\n",
    "    print((\"***\" * 20) + \"\\n\")\n",
    "    save_mobilenetv2_cifar10_model(\n",
    "        model=mobilenetv2_cifar10_pruned,\n",
    "        version=f\"mobilenetv2_cifar10/l1_structured_pruning_{sparsity}\",\n",
    "        metrics_values=struct_pruned_amount_metrics_map[sparsity]\n",
    "    )"
   ]
  },
  {
   "cell_type": "code",
   "execution_count": null,
   "id": "6f60c6a5",
   "metadata": {},
   "outputs": [
    {
     "name": "stdout",
     "output_type": "stream",
     "text": [
      "Sparsity: 0.10, Relative Sparsity: 1.00, Validation Accuracy: 0.70, Test Accuracy: 0.83\n",
      "Sparsity: 0.30, Relative Sparsity: 1.00, Validation Accuracy: 0.60, Test Accuracy: 0.75\n",
      "Sparsity: 0.50, Relative Sparsity: 1.00, Validation Accuracy: 0.51, Test Accuracy: 0.62\n"
     ]
    }
   ],
   "source": [
    "# Print the sparsity and accuracy results\n",
    "for sparsity, metrics in struct_pruned_amount_metrics_map.items():\n",
    "    print(f\"Sparsity: {sparsity:.2f}, Relative Sparsity: {metrics['relative_sparsity']:.2f}, Validation Accuracy: {metrics['val_metrics']['accuracy']:.2f}, Test Accuracy: {metrics['test_metrics']['accuracy']:.2f}\")"
   ]
  },
  {
   "cell_type": "code",
   "execution_count": null,
   "id": "75ad7ddb",
   "metadata": {},
   "outputs": [
    {
     "data": {
      "image/png": "[encoded data removed]",
      "text/plain": [
       "<Figure size 1000x500 with 1 Axes>"
      ]
     },
     "metadata": {},
     "output_type": "display_data"
    }
   ],
   "source": [
    "# Plot the sparsity levels vs accuracy for validation and test sets (baseline is considered as 0 sparsity)\n",
    "sparsity_levels = [0.] + list(struct_pruned_amount_metrics_map.keys())\n",
    "val_accuracies = [mobilenetv2_cifar10_val_accuracy_baseline] + [struct_pruned_amount_metrics_map[sparsity][\"val_metrics\"][\"accuracy\"] for sparsity in sparsity_levels[1:]]\n",
    "test_accuracies = [mobilenetv2_cifar10_test_accuracy_baseline] + [struct_pruned_amount_metrics_map[sparsity][\"test_metrics\"][\"accuracy\"] for sparsity in sparsity_levels[1:]]\n",
    "plt.figure(figsize=(10, 5))\n",
    "plt.plot(sparsity_levels, val_accuracies, marker='o', label='Validation Accuracy')\n",
    "plt.plot(sparsity_levels, test_accuracies, marker='o', label='Test Accuracy')\n",
    "plt.title('L1 Structured Pruning: Sparsity Levels vs Accuracy')\n",
    "plt.xlabel('Sparsity Level')\n",
    "plt.ylabel('Accuracy')\n",
    "plt.xticks(sparsity_levels)\n",
    "plt.grid()\n",
    "plt.legend()\n",
    "plt.show()"
   ]
  },
  {
   "cell_type": "code",
   "execution_count": null,
   "id": "faa9327d",
   "metadata": {},
   "outputs": [],
   "source": [
    "# Plot the sparsity levels vs accuracy for validation and test sets (baseline is considered as 0 sparsity)\n",
    "sparsity_levels = [0.] + [v[\"relative_sparsity\"] for v in struct_pruned_amount_metrics_map.values()]\n",
    "val_accuracies = [mobilenetv2_cifar10_val_accuracy_baseline] + [struct_pruned_amount_metrics_map[sparsity][\"val_metrics\"][\"accuracy\"] for sparsity in sparsity_levels[1:]]\n",
    "test_accuracies = [mobilenetv2_cifar10_test_accuracy_baseline] + [struct_pruned_amount_metrics_map[sparsity][\"test_metrics\"][\"accuracy\"] for sparsity in sparsity_levels[1:]]\n",
    "plt.figure(figsize=(10, 5))\n",
    "plt.plot(sparsity_levels, val_accuracies, marker='o', label='Validation Accuracy')\n",
    "plt.plot(sparsity_levels, test_accuracies, marker='o', label='Test Accuracy')\n",
    "plt.title('L1 Structured Pruning: Sparsity Levels vs Accuracy')\n",
    "plt.xlabel('Sparsity Level (Relative)')\n",
    "plt.ylabel('Accuracy')\n",
    "plt.xticks(sparsity_levels)\n",
    "plt.grid()\n",
    "plt.legend()\n",
    "plt.show()"
   ]
  }
 ],
 "metadata": {
  "kernelspec": {
   "display_name": ".venv",
   "language": "python",
   "name": "python3"
  },
  "language_info": {
   "codemirror_mode": {
    "name": "ipython",
    "version": 3
   },
   "file_extension": ".py",
   "mimetype": "text/x-python",
   "name": "python",
   "nbconvert_exporter": "python",
   "pygments_lexer": "ipython3",
   "version": "3.12.3"
  }
 },
 "nbformat": 4,
 "nbformat_minor": 5
}
