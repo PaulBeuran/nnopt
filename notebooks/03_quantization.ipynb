{
 "cells": [
  {
   "cell_type": "markdown",
   "id": "35a11d12",
   "metadata": {},
   "source": [
    "# 3. Quantization\n",
    "\n",
    "This notebook demonstrates how to quantize a model to INT8 using `torch.quantization`. Quantization, and especially INT8 quantization, aims to transform a 32-bits floating-point model into a more efficient 8-bits integer representation, leading up to 4x smaller model size and faster inference times due to integer arithmetic.\n",
    "\n",
    "This is achieved by replacing the floating-point operations in the model with their integer counterparts. This requires a calibration step to determine the scale ($S$) and zero-point ($Z$) for each quantized tensor. The relationship between the real-world floating-point value ($r$) and its quantized integer representation ($q$) is given by:\n",
    "\n",
    "$q = \\text{round}(r / S) + Z$\n",
    "\n",
    "Conversely, the dequantized value ($r_{\\text{approx}}$) can be obtained by:\n",
    "\n",
    "$r_{\\text{approx}} = S \\cdot (q - Z)$\n",
    "\n",
    "The calibration process involves running inference on a representative dataset (the calibration dataset) to observe the range of activation values and determine appropriate $S$ and $Z$ values for each layer's weights and activations to minimize the loss of accuracy due to quantization.\n",
    "\n",
    "Quantization is applied to both the weights and activations of the model. The weights are quantized to INT8, while the activations can be quantized to either INT8 or UINT8, depending on the use case. The choice of quantization type (symmetric vs. asymmetric) also affects how $S$ and $Z$ are calculated.\n",
    "\n",
    "There are two main approaches to quantizing a model:\n",
    "\n",
    "* **Post-Training Quantization (PTQ):** This is the simpler approach where a pre-trained FP32 model is quantized without any retraining. It involves:\n",
    "    * Calibrating the model by feeding it a small, representative dataset (calibration data) to collect statistics (e.g., min/max ranges) of the weights and activations.\n",
    "    *   These statistics are then used to calculate the quantization parameters ($S$ and $Z$) for each layer.\n",
    "PTQ is fast and easy to implement but might lead to a more significant accuracy drop, especially for models sensitive to quantization.\n",
    "\n",
    "* **Quantization-Aware Training (QAT):** QAT simulates the quantization effects (noise and clamping) during the training or fine-tuning process. It inserts \"fake quantization\" modules into the model architecture. These modules mimic the quantization and dequantization steps during the forward pass, while the backward pass uses straight-through estimators (STE) to allow gradients to flow.\n",
    "The model learns to become robust to the quantization noise, often resulting in better accuracy compared to PTQ, but it requires access to the training pipeline and more computational resources.\n",
    "\n",
    "The choice of $S$ and $Z$ is crucial for minimizing the quantization error. Common methods include:\n",
    "\n",
    "* **Min-Max:** The simplest method. $S$ and $Z$ are determined by the minimum ($r_{\\text{min}}$) and maximum ($r_{\\text{max}}$) values observed in the tensor during calibration. Depending on how 0.0f maps to integers, the formulas are:\n",
    "    * For asymmetric quantization (where 0.0f might not map to an integer 0):\n",
    "        $S = (r_{\\text{max}} - r_{\\text{min}}) / (q_{\\text{max}} - q_{\\text{min}})$\n",
    "        $Z = q_{\\text{min}} - \\text{round}(r_{\\text{min}} / S)$\n",
    "        (where $q_{\\text{min}}$ and $q_{\\text{max}}$ are the min/max values of the target integer range, e.g., 0 and 255 for uint8, or -128 and 127 for int8).\n",
    "    * For symmetric quantization (where 0.0f maps to integer 0, so $Z=0$ for signed types or $Z$ is fixed for unsigned types):\n",
    "        $S = \\max(|r_{\\text{min}}|, |r_{\\text{max}}|) / \\text{range\\_limit}$\n",
    "        (e.g., `range_limit` is 127 for int8).\n",
    "This method is sensitive to outliers, as a single extreme value can significantly skew the range and thus the scale.\n",
    "\n",
    "* **Percentile:** Instead of using the absolute min/max, this method uses percentile values (e.g., 1st and 99th percentile, or 0.1th and 99.9th percentile) of the observed data range to determine $r_{\\text{min}}$ and $r_{\\text{max}}$. This helps to mitigate the impact of extreme outliers.\n",
    "\n",
    "* **Histogram (or KL-Divergence):** This method aims to find quantization parameters that minimize the information loss, often measured by the Kullback-Leibler (KL) divergence between the distribution of the original FP32 values and the dequantized INT8 values. It involves iterating through different clipping thresholds (which define the effective $r_{\\text{min}}$ and $r_{\\text{max}}$) and selecting the one that minimizes the KL divergence. This often provides a better trade-off between range coverage and quantization precision, especially when outliers are present.\n",
    "\n",
    "In this notebook, we will apply PTQ and QAT to a MobileNetV2 model adapted for the CIFAR-10 dataset, using the `torch.quantization` default modules and methods (histogram for activations, min-max for weights). We will compare the accuracy of the quantized model with the original FP32 model and observe the impact of quantization on model size and inference speed on CPU."
   ]
  },
  {
   "cell_type": "markdown",
   "id": "66f5c80c",
   "metadata": {},
   "source": [
    "# Setup"
   ]
  },
  {
   "cell_type": "code",
   "execution_count": 1,
   "id": "f756debc",
   "metadata": {},
   "outputs": [
    {
     "name": "stderr",
     "output_type": "stream",
     "text": [
      "/home/pbeuran/repos/nnopt/.venv/lib/python3.12/site-packages/openvino/runtime/__init__.py:10: DeprecationWarning: The `openvino.runtime` module is deprecated and will be removed in the 2026.0 release. Please replace `openvino.runtime` with `openvino`.\n",
      "  warnings.warn(\n",
      "2025-06-13 21:44:38,727 - nnopt.recipes.mobilenetv2_cifar10 - INFO - Using device: cuda, dtype: torch.bfloat16\n"
     ]
    }
   ],
   "source": [
    "from typing import Any\n",
    "\n",
    "import torch\n",
    "\n",
    "from matplotlib import pyplot as plt\n",
    "\n",
    "from nnopt.model.eval import eval_model\n",
    "from nnopt.model.quant import post_training_quantization, quantization_aware_training\n",
    "from nnopt.model.const import DEVICE, DTYPE\n",
    "from nnopt.model.analysis import plot_model_performance_scatter\n",
    "\n",
    "from nnopt.recipes.mobilenetv2_cifar10 import load_mobilenetv2_cifar10_model, get_cifar10_datasets, save_mobilenetv2_cifar10_model, convert_mobilenetv2_cifar10_to_quantized, save_mobilenetv2_cifar10_model"
   ]
  },
  {
   "cell_type": "code",
   "execution_count": 2,
   "id": "4e3c28fc",
   "metadata": {},
   "outputs": [
    {
     "name": "stderr",
     "output_type": "stream",
     "text": [
      "2025-06-13 21:44:38,734 - nnopt.recipes.mobilenetv2_cifar10 - INFO - Loading existing training and validation datasets...\n",
      "2025-06-13 21:44:40,313 - nnopt.recipes.mobilenetv2_cifar10 - INFO - Loading existing test dataset...\n"
     ]
    }
   ],
   "source": [
    "# CIFAR-10 dataset\n",
    "cifar10_train_dataset, cifar10_val_dataset, cifar10_test_dataset = get_cifar10_datasets()"
   ]
  },
  {
   "cell_type": "code",
   "execution_count": 3,
   "id": "14136a65",
   "metadata": {},
   "outputs": [],
   "source": [
    "def ptq_mobilenetv2_cifar10(\n",
    "    version: str = \"mobilenetv2_cifar10/baseline\",\n",
    "    mode: str = \"model\"\n",
    ") -> tuple[torch.nn.Module, dict[str, Any], dict[str, Any]]:\n",
    "    \"\"\"\n",
    "    Post-training quantization of MobileNetV2 on CIFAR-10.\n",
    "    \"\"\"\n",
    "    # Load the baseline model\n",
    "    mobilenetv2_cifar10_quant, mobilenetv2_cifar10_metadata = load_mobilenetv2_cifar10_model(version=version, mode=mode, convert_to_quantized=True)\n",
    "\n",
    "    # Post-training quantization\n",
    "    mobilenetv2_cifar10_ptq_int8 = post_training_quantization(\n",
    "        model=convert_mobilenetv2_cifar10_to_quantized(mobilenetv2_cifar10_quant),\n",
    "        val_dataset=cifar10_val_dataset,\n",
    "        num_calibration_batches=100,\n",
    "        batch_size=32,\n",
    "    )\n",
    "\n",
    "    # Evaluate the quantized model\n",
    "    val_metrics = eval_model(\n",
    "        model=mobilenetv2_cifar10_ptq_int8,\n",
    "        test_dataset=cifar10_val_dataset,\n",
    "        device=\"cpu\",\n",
    "        use_amp=False,\n",
    "        dtype=torch.float32,\n",
    "    )\n",
    "    test_metrics = eval_model(\n",
    "        model=mobilenetv2_cifar10_ptq_int8,\n",
    "        test_dataset=cifar10_test_dataset,\n",
    "        device=\"cpu\",\n",
    "        use_amp=False,\n",
    "        dtype=torch.float32,\n",
    "    )\n",
    "\n",
    "    mobilenetv2_cifar10_val_accuracy_quantized = val_metrics[\"accuracy\"]\n",
    "    mobilenetv2_cifar10_test_accuracy_quantized = test_metrics[\"accuracy\"]\n",
    "\n",
    "    print(f\"Validation accuracy of MobileNetV2 on CIFAR-10 (quantized): {mobilenetv2_cifar10_val_accuracy_quantized:.2f}\")\n",
    "    print(f\"Test accuracy of MobileNetV2 on CIFAR-10 (quantized): {mobilenetv2_cifar10_test_accuracy_quantized:.2f}\")\n",
    "\n",
    "    # Save the quantized model\n",
    "    sub_version = version.split(\"/\")[-1]\n",
    "    save_mobilenetv2_cifar10_model(\n",
    "        model=mobilenetv2_cifar10_ptq_int8,\n",
    "        version=f\"mobilenetv2_cifar10/int8/ptq_{sub_version}\",\n",
    "        metrics_values={\n",
    "            \"val_metrics\": val_metrics,\n",
    "            \"test_metrics\": test_metrics,\n",
    "        },\n",
    "        unstruct_sparse_config=mobilenetv2_cifar10_metadata.get(\"unstruct_sparse_config\", None),\n",
    "    )\n",
    "\n",
    "    return mobilenetv2_cifar10_ptq_int8, val_metrics, test_metrics"
   ]
  },
  {
   "cell_type": "code",
   "execution_count": 4,
   "id": "b30a3734",
   "metadata": {},
   "outputs": [],
   "source": [
    "def qat_mobilenetv2_cifar10(\n",
    "    version: str = \"mobilenetv2_cifar10/baseline\",\n",
    ") -> tuple[torch.nn.Module, dict[str, Any], dict[str, Any]]:\n",
    "    \"\"\"\n",
    "    Quantization-aware training of MobileNetV2 on CIFAR-10.\n",
    "    \"\"\"\n",
    "    # Load the baseline model\n",
    "    mobilenetv2_cifar10_quant, mobilenetv2_cifar10_metadata = load_mobilenetv2_cifar10_model(version=version, convert_to_quantized=True)\n",
    "\n",
    "    # Quantization-aware training\n",
    "    mobilenetv2_cifar10_qat_int8 = quantization_aware_training(\n",
    "        model=mobilenetv2_cifar10_quant,\n",
    "        train_dataset=cifar10_train_dataset,\n",
    "        val_dataset=cifar10_val_dataset,\n",
    "        epochs=5,\n",
    "        batch_size=64,\n",
    "        training_device=DEVICE\n",
    "    )\n",
    "\n",
    "    # Evaluate the quantized model\n",
    "    val_metrics = eval_model(\n",
    "        model=mobilenetv2_cifar10_qat_int8,\n",
    "        test_dataset=cifar10_val_dataset,\n",
    "        device=\"cpu\",\n",
    "        use_amp=False,\n",
    "        dtype=torch.float32,\n",
    "    )\n",
    "    test_metrics = eval_model(\n",
    "        model=mobilenetv2_cifar10_qat_int8,\n",
    "        test_dataset=cifar10_test_dataset,\n",
    "        device=\"cpu\",\n",
    "        use_amp=False,\n",
    "        dtype=torch.float32,\n",
    "    )\n",
    "\n",
    "    mobilenetv2_cifar10_val_accuracy_quantized = val_metrics[\"accuracy\"]\n",
    "    mobilenetv2_cifar10_test_accuracy_quantized = test_metrics[\"accuracy\"]\n",
    "\n",
    "    print(f\"Validation accuracy of MobileNetV2 on CIFAR-10 (quantized): {mobilenetv2_cifar10_val_accuracy_quantized:.2f}\")\n",
    "    print(f\"Test accuracy of MobileNetV2 on CIFAR-10 (quantized): {mobilenetv2_cifar10_test_accuracy_quantized:.2f}\")\n",
    "\n",
    "    # Save the quantized model\n",
    "    sub_version = version.split(\"/\")[-1]\n",
    "    save_mobilenetv2_cifar10_model(\n",
    "        model=mobilenetv2_cifar10_qat_int8,\n",
    "        version=f\"mobilenetv2_cifar10/int8/qat_{sub_version}\",\n",
    "        metrics_values={\n",
    "            \"val_metrics\": val_metrics,\n",
    "            \"test_metrics\": test_metrics,\n",
    "        },\n",
    "        unstruct_sparse_config=mobilenetv2_cifar10_metadata.get(\"unstruct_sparse_config\", None),\n",
    "    )\n",
    "    return mobilenetv2_cifar10_qat_int8, val_metrics, test_metrics"
   ]
  },
  {
   "cell_type": "markdown",
   "id": "2dc1e5a1",
   "metadata": {},
   "source": [
    "# Post-Training Quantization (PTQ)"
   ]
  },
  {
   "cell_type": "markdown",
   "id": "1fdeb92b",
   "metadata": {},
   "source": [
    "## Baseline Model"
   ]
  },
  {
   "cell_type": "code",
   "execution_count": 5,
   "id": "4ad609f6",
   "metadata": {},
   "outputs": [
    {
     "name": "stderr",
     "output_type": "stream",
     "text": [
      "2025-06-13 21:44:40,510 - nnopt.recipes.mobilenetv2_cifar10 - INFO - Loading MobileNetV2 model for CIFAR-10 from version: mobilenetv2_cifar10/fp32/baseline at /home/pbeuran/repos/nnopt/models\n",
      "2025-06-13 21:44:40,511 - nnopt.recipes.mobilenetv2_cifar10 - INFO - Loaded metadata: {'metrics_values': {'val_metrics': {'accuracy': 0.9242, 'avg_loss': 0.21477387733459471, 'samples_per_second': 7911.222902166802, 'avg_time_per_batch': 8.00017140500131, 'avg_time_per_sample': 0.12640270819902072, 'params_stats': {'int_weight_params': 0, 'float_weight_params': 2202560, 'float_bias_params': 10, 'bn_param_params': 34112, 'other_float_params': 0, 'total_params': 2236682}}, 'test_metrics': {'accuracy': 0.9273, 'avg_loss': 0.20880980265140534, 'samples_per_second': 7854.464952039895, 'avg_time_per_batch': 8.109306987152756, 'avg_time_per_sample': 0.12731611969829829, 'params_stats': {'int_weight_params': 0, 'float_weight_params': 2202560, 'float_bias_params': 10, 'bn_param_params': 34112, 'other_float_params': 0, 'total_params': 2236682}}}}\n",
      "2025-06-13 21:44:40,512 - nnopt.recipes.mobilenetv2_cifar10 - INFO - Loading model from /home/pbeuran/repos/nnopt/models/mobilenetv2_cifar10/fp32/baseline/model.pt\n",
      "2025-06-13 21:44:40,709 - nnopt.recipes.mobilenetv2_cifar10 - INFO - Converting model to quantized version...\n",
      "2025-06-13 21:44:40,710 - nnopt.recipes.mobilenetv2_cifar10 - INFO - Loading MobileNetV2 model with weights: None, to_quantize: True, is_quantized: False\n",
      "2025-06-13 21:44:40,743 - nnopt.recipes.mobilenetv2_cifar10 - INFO - Replacing head of the model to match 10 classes\n",
      "2025-06-13 21:44:40,760 - nnopt.recipes.mobilenetv2_cifar10 - INFO - Model converted to quantized version.\n",
      "2025-06-13 21:44:40,761 - nnopt.recipes.mobilenetv2_cifar10 - INFO - Loading MobileNetV2 model with weights: None, to_quantize: True, is_quantized: False\n",
      "2025-06-13 21:44:40,791 - nnopt.recipes.mobilenetv2_cifar10 - INFO - Replacing head of the model to match 10 classes\n",
      "2025-06-13 21:44:40,799 - nnopt.model.quant - INFO - Starting in-place post-training quantization...\n",
      "2025-06-13 21:44:40,801 - nnopt.model.quant - INFO - Attempting to remove pruning reparameterization...\n",
      "2025-06-13 21:44:40,802 - nnopt.model.prune - INFO - Making pruning permanent by removing reparameterization...\n",
      "2025-06-13 21:44:40,802 - nnopt.model.prune - WARNING - No pruning reparameterization was removed. Was the model pruned?\n",
      "2025-06-13 21:44:40,803 - nnopt.model.quant - INFO - Pruning reparameterization removal step completed.\n",
      "2025-06-13 21:44:40,803 - nnopt.model.quant - INFO - Attempting to fuse model modules...\n",
      "2025-06-13 21:44:40,814 - nnopt.model.quant - INFO - Model fusion step completed.\n",
      "2025-06-13 21:44:40,815 - nnopt.model.quant - INFO - Preparing model for quantization (inserting observers)...\n",
      "/home/pbeuran/repos/nnopt/.venv/lib/python3.12/site-packages/torch/ao/quantization/observer.py:244: UserWarning: Please use quant_min and quant_max to specify the range for observers.                     reduce_range will be deprecated in a future release of PyTorch.\n",
      "  warnings.warn(\n",
      "2025-06-13 21:44:40,846 - nnopt.model.quant - INFO - Model prepared for quantization.\n",
      "2025-06-13 21:44:40,846 - nnopt.model.quant - INFO - Starting calibration with 100 batches...\n",
      "100%|██████████| 100/100 [00:09<00:00, 10.01it/s]\n",
      "2025-06-13 21:44:50,973 - nnopt.model.quant - INFO - Calibration completed over 100 batches.\n",
      "2025-06-13 21:44:50,974 - nnopt.model.quant - INFO - Converting model to quantized version...\n",
      "/home/pbeuran/repos/nnopt/.venv/lib/python3.12/site-packages/torch/ao/quantization/observer.py:1333: UserWarning: must run observer before calling calculate_qparams.                                    Returning default scale and zero point \n",
      "  warnings.warn(\n",
      "2025-06-13 21:44:51,333 - nnopt.model.quant - INFO - Model quantization completed.\n",
      "2025-06-13 21:44:51,334 - nnopt.model.quant - INFO - Starting evaluation of the quantized model...\n",
      "2025-06-13 21:44:51,334 - nnopt.model.eval - INFO - Starting evaluation on device: cpu, dtype: torch.float32, batch size: 32\n",
      "2025-06-13 21:44:51,335 - nnopt.model.eval - INFO - Starting warmup for 5 batches...\n",
      "[Warmup]: 100%|██████████| 5/5 [00:00<00:00, 17.41it/s]\n",
      "2025-06-13 21:44:51,692 - nnopt.model.eval - INFO - Warmup complete.\n",
      "[Evaluation]: 100%|██████████| 157/157 [00:04<00:00, 35.04it/s, acc=0.8930, cpu=46.3%, loss=0.7114, ram=5.5/30.9GB (21.3%), samples/s=673.9] \n",
      "2025-06-13 21:44:56,187 - nnopt.model.quant - INFO - Post-training quantization metrics: {'accuracy': 0.893, 'avg_loss': 0.3198510060787201, 'samples_per_second': 1227.5545354258986, 'avg_time_per_batch': 25.943559197484014, 'avg_time_per_sample': 0.814627758800998, 'params_stats': {'int_weight_params': 2202560, 'float_weight_params': 0, 'float_bias_params': 17066, 'bn_param_params': 0, 'other_float_params': 0, 'total_params': 2219626}}\n",
      "2025-06-13 21:44:56,188 - nnopt.model.eval - INFO - Starting evaluation on device: cpu, dtype: torch.float32, batch size: 32\n",
      "2025-06-13 21:44:56,189 - nnopt.model.eval - INFO - Starting warmup for 5 batches...\n"
     ]
    },
    {
     "name": "stdout",
     "output_type": "stream",
     "text": [
      "Evaluation Complete: Avg Loss: 0.3199, Accuracy: 0.8930\n",
      "Throughput: 1227.55 samples/sec | Avg Batch Time: 25.94 ms | Avg Sample Time: 0.81 ms\n",
      "System Stats: CPU Usage: 14.30% | RAM Usage: 5.3/30.9GB (20.6%)\n"
     ]
    },
    {
     "name": "stderr",
     "output_type": "stream",
     "text": [
      "[Warmup]: 100%|██████████| 5/5 [00:00<00:00, 17.09it/s]\n",
      "2025-06-13 21:44:56,555 - nnopt.model.eval - INFO - Warmup complete.\n",
      "[Evaluation]: 100%|██████████| 157/157 [00:04<00:00, 33.88it/s, acc=0.8930, cpu=56.8%, loss=0.7114, ram=5.4/30.9GB (21.2%), samples/s=802.3] \n",
      "2025-06-13 21:45:01,204 - nnopt.model.eval - INFO - Starting evaluation on device: cpu, dtype: torch.float32, batch size: 32\n",
      "2025-06-13 21:45:01,206 - nnopt.model.eval - INFO - Starting warmup for 5 batches...\n"
     ]
    },
    {
     "name": "stdout",
     "output_type": "stream",
     "text": [
      "Evaluation Complete: Avg Loss: 0.3199, Accuracy: 0.8930\n",
      "Throughput: 1185.41 samples/sec | Avg Batch Time: 26.87 ms | Avg Sample Time: 0.84 ms\n",
      "System Stats: CPU Usage: 12.90% | RAM Usage: 5.3/30.9GB (20.6%)\n"
     ]
    },
    {
     "name": "stderr",
     "output_type": "stream",
     "text": [
      "[Warmup]: 100%|██████████| 5/5 [00:00<00:00, 17.09it/s]\n",
      "2025-06-13 21:45:01,573 - nnopt.model.eval - INFO - Warmup complete.\n",
      "[Evaluation]: 100%|██████████| 313/313 [00:11<00:00, 27.44it/s, acc=0.8943, cpu=56.8%, loss=0.1032, ram=5.8/30.9GB (22.3%), samples/s=832.9] \n",
      "2025-06-13 21:45:13,027 - nnopt.recipes.mobilenetv2_cifar10 - INFO - Model saved to /home/pbeuran/repos/nnopt/models/mobilenetv2_cifar10/int8/ptq_baseline/model.pt\n",
      "2025-06-13 21:45:13,046 - nnopt.recipes.mobilenetv2_cifar10 - INFO - Model state_dict saved to /home/pbeuran/repos/nnopt/models/mobilenetv2_cifar10/int8/ptq_baseline/state_dict.pt\n",
      "2025-06-13 21:45:13,047 - nnopt.recipes.mobilenetv2_cifar10 - INFO - Metadata saved to /home/pbeuran/repos/nnopt/models/mobilenetv2_cifar10/int8/ptq_baseline/metadata.json\n",
      "2025-06-13 21:45:13,048 - nnopt.model.prune - INFO - Making pruning permanent by removing reparameterization...\n",
      "2025-06-13 21:45:13,048 - nnopt.model.prune - WARNING - No pruning reparameterization was removed. Was the model pruned?\n",
      "2025-06-13 21:45:13,049 - nnopt.recipes.mobilenetv2_cifar10 - INFO - Saving model in JIT script format...\n"
     ]
    },
    {
     "name": "stdout",
     "output_type": "stream",
     "text": [
      "Evaluation Complete: Avg Loss: 0.3138, Accuracy: 0.8943\n",
      "Throughput: 1122.63 samples/sec | Avg Batch Time: 28.46 ms | Avg Sample Time: 0.89 ms\n",
      "System Stats: CPU Usage: 15.10% | RAM Usage: 5.6/30.9GB (21.7%)\n",
      "Validation accuracy of MobileNetV2 on CIFAR-10 (quantized): 0.89\n",
      "Test accuracy of MobileNetV2 on CIFAR-10 (quantized): 0.89\n"
     ]
    },
    {
     "name": "stderr",
     "output_type": "stream",
     "text": [
      "2025-06-13 21:45:13,530 - nnopt.recipes.mobilenetv2_cifar10 - INFO - JIT script model saved to /home/pbeuran/repos/nnopt/models/mobilenetv2_cifar10/int8/ptq_baseline/jit_script.pt\n",
      "2025-06-13 21:45:13,531 - nnopt.recipes.mobilenetv2_cifar10 - INFO - Saving model in JIT trace format...\n",
      "2025-06-13 21:45:14,316 - nnopt.recipes.mobilenetv2_cifar10 - INFO - JIT model saved to /home/pbeuran/repos/nnopt/models/mobilenetv2_cifar10/int8/ptq_baseline/jit_trace.pt\n"
     ]
    }
   ],
   "source": [
    "mobilenetv2_cifar10_ptq_int8, mobilenetv2_cifar10_ptq_int8_val_metrics, mobilenetv2_cifar10_ptq_int8_test_metrics = ptq_mobilenetv2_cifar10(\n",
    "    version=\"mobilenetv2_cifar10/fp32/baseline\",\n",
    ")"
   ]
  },
  {
   "cell_type": "markdown",
   "id": "05c4156b",
   "metadata": {},
   "source": [
    "## L1 Unstructured Pruning"
   ]
  },
  {
   "cell_type": "code",
   "execution_count": 6,
   "id": "fee65dcf",
   "metadata": {},
   "outputs": [
    {
     "name": "stderr",
     "output_type": "stream",
     "text": [
      "2025-06-13 21:45:14,326 - nnopt.recipes.mobilenetv2_cifar10 - INFO - Loading MobileNetV2 model for CIFAR-10 from version: mobilenetv2_cifar10/fp32/l1_unstruct_prune_0.7 at /home/pbeuran/repos/nnopt/models\n",
      "2025-06-13 21:45:14,327 - nnopt.recipes.mobilenetv2_cifar10 - INFO - Loaded metadata: {'unstructured_sparse_config': {'pruning_amount': 0.7}, 'metrics_values': {'val_metrics': {'accuracy': 0.8686, 'avg_loss': 0.3839114749908447, 'samples_per_second': 8510.816916383365, 'avg_time_per_batch': 7.436552784806189, 'avg_time_per_sample': 0.11749753399993779, 'params_stats': {'int_weight_params': 0, 'float_weight_params': 2202560, 'float_bias_params': 10, 'bn_param_params': 34112, 'other_float_params': 0, 'total_params': 2236682}}, 'test_metrics': {'accuracy': 0.8719, 'avg_loss': 0.37607471809387205, 'samples_per_second': 8470.41367302276, 'avg_time_per_batch': 7.519617101911101, 'avg_time_per_sample': 0.11805798850000429, 'params_stats': {'int_weight_params': 0, 'float_weight_params': 2202560, 'float_bias_params': 10, 'bn_param_params': 34112, 'other_float_params': 0, 'total_params': 2236682}}}}\n",
      "2025-06-13 21:45:14,328 - nnopt.recipes.mobilenetv2_cifar10 - INFO - Loading model from /home/pbeuran/repos/nnopt/models/mobilenetv2_cifar10/fp32/l1_unstruct_prune_0.7/model.pt\n",
      "2025-06-13 21:45:14,383 - nnopt.recipes.mobilenetv2_cifar10 - INFO - Converting model to quantized version...\n",
      "2025-06-13 21:45:14,383 - nnopt.recipes.mobilenetv2_cifar10 - INFO - Loading MobileNetV2 model with weights: None, to_quantize: True, is_quantized: False\n",
      "2025-06-13 21:45:14,414 - nnopt.recipes.mobilenetv2_cifar10 - INFO - Replacing head of the model to match 10 classes\n",
      "2025-06-13 21:45:14,441 - nnopt.recipes.mobilenetv2_cifar10 - INFO - Model converted to quantized version.\n",
      "2025-06-13 21:45:14,441 - nnopt.recipes.mobilenetv2_cifar10 - INFO - Loading MobileNetV2 model with weights: None, to_quantize: True, is_quantized: False\n",
      "2025-06-13 21:45:14,473 - nnopt.recipes.mobilenetv2_cifar10 - INFO - Replacing head of the model to match 10 classes\n",
      "2025-06-13 21:45:14,480 - nnopt.model.quant - INFO - Starting in-place post-training quantization...\n",
      "2025-06-13 21:45:14,483 - nnopt.model.quant - INFO - Attempting to remove pruning reparameterization...\n",
      "2025-06-13 21:45:14,483 - nnopt.model.prune - INFO - Making pruning permanent by removing reparameterization...\n",
      "2025-06-13 21:45:14,484 - nnopt.model.prune - WARNING - No pruning reparameterization was removed. Was the model pruned?\n",
      "2025-06-13 21:45:14,484 - nnopt.model.quant - INFO - Pruning reparameterization removal step completed.\n",
      "2025-06-13 21:45:14,485 - nnopt.model.quant - INFO - Attempting to fuse model modules...\n",
      "2025-06-13 21:45:14,497 - nnopt.model.quant - INFO - Model fusion step completed.\n",
      "2025-06-13 21:45:14,497 - nnopt.model.quant - INFO - Preparing model for quantization (inserting observers)...\n",
      "2025-06-13 21:45:14,528 - nnopt.model.quant - INFO - Model prepared for quantization.\n",
      "2025-06-13 21:45:14,528 - nnopt.model.quant - INFO - Starting calibration with 100 batches...\n",
      "100%|██████████| 100/100 [00:09<00:00, 10.04it/s]\n",
      "2025-06-13 21:45:24,664 - nnopt.model.quant - INFO - Calibration completed over 100 batches.\n",
      "2025-06-13 21:45:24,664 - nnopt.model.quant - INFO - Converting model to quantized version...\n",
      "2025-06-13 21:45:25,043 - nnopt.model.quant - INFO - Model quantization completed.\n",
      "2025-06-13 21:45:25,043 - nnopt.model.quant - INFO - Starting evaluation of the quantized model...\n",
      "2025-06-13 21:45:25,044 - nnopt.model.eval - INFO - Starting evaluation on device: cpu, dtype: torch.float32, batch size: 32\n",
      "2025-06-13 21:45:25,044 - nnopt.model.eval - INFO - Starting warmup for 5 batches...\n",
      "[Warmup]: 100%|██████████| 5/5 [00:00<00:00, 14.44it/s]\n",
      "2025-06-13 21:45:25,464 - nnopt.model.eval - INFO - Warmup complete.\n",
      "[Evaluation]: 100%|██████████| 157/157 [00:07<00:00, 22.00it/s, acc=0.8552, cpu=50.0%, loss=0.7289, ram=5.5/30.9GB (21.7%), samples/s=716.3]\n",
      "2025-06-13 21:45:32,614 - nnopt.model.quant - INFO - Post-training quantization metrics: {'accuracy': 0.8552, 'avg_loss': 0.4192711515903473, 'samples_per_second': 752.0836880947024, 'avg_time_per_batch': 42.345199426731334, 'avg_time_per_sample': 1.329639261999364, 'params_stats': {'int_weight_params': 2202560, 'float_weight_params': 0, 'float_bias_params': 17066, 'bn_param_params': 0, 'other_float_params': 0, 'total_params': 2219626}}\n",
      "2025-06-13 21:45:32,614 - nnopt.model.eval - INFO - Starting evaluation on device: cpu, dtype: torch.float32, batch size: 32\n",
      "2025-06-13 21:45:32,616 - nnopt.model.eval - INFO - Starting warmup for 5 batches...\n"
     ]
    },
    {
     "name": "stdout",
     "output_type": "stream",
     "text": [
      "Evaluation Complete: Avg Loss: 0.4193, Accuracy: 0.8552\n",
      "Throughput: 752.08 samples/sec | Avg Batch Time: 42.35 ms | Avg Sample Time: 1.33 ms\n",
      "System Stats: CPU Usage: 14.70% | RAM Usage: 5.3/30.9GB (21.1%)\n"
     ]
    },
    {
     "name": "stderr",
     "output_type": "stream",
     "text": [
      "[Warmup]: 100%|██████████| 5/5 [00:00<00:00, 13.44it/s]\n",
      "2025-06-13 21:45:33,065 - nnopt.model.eval - INFO - Warmup complete.\n",
      "[Evaluation]: 100%|██████████| 157/157 [00:07<00:00, 21.57it/s, acc=0.8552, cpu=50.0%, loss=0.7289, ram=5.5/30.9GB (21.7%), samples/s=789.9]\n",
      "2025-06-13 21:45:40,358 - nnopt.model.eval - INFO - Starting evaluation on device: cpu, dtype: torch.float32, batch size: 32\n",
      "2025-06-13 21:45:40,359 - nnopt.model.eval - INFO - Starting warmup for 5 batches...\n"
     ]
    },
    {
     "name": "stdout",
     "output_type": "stream",
     "text": [
      "Evaluation Complete: Avg Loss: 0.4193, Accuracy: 0.8552\n",
      "Throughput: 736.45 samples/sec | Avg Batch Time: 43.24 ms | Avg Sample Time: 1.36 ms\n",
      "System Stats: CPU Usage: 13.20% | RAM Usage: 5.4/30.9GB (21.1%)\n"
     ]
    },
    {
     "name": "stderr",
     "output_type": "stream",
     "text": [
      "[Warmup]: 100%|██████████| 5/5 [00:00<00:00, 13.22it/s]\n",
      "2025-06-13 21:45:40,817 - nnopt.model.eval - INFO - Warmup complete.\n",
      "[Evaluation]: 100%|██████████| 313/313 [00:16<00:00, 19.38it/s, acc=0.8554, cpu=49.1%, loss=0.4880, ram=5.5/30.9GB (21.6%), samples/s=1032.4]\n",
      "2025-06-13 21:45:57,007 - nnopt.recipes.mobilenetv2_cifar10 - INFO - Model saved to /home/pbeuran/repos/nnopt/models/mobilenetv2_cifar10/int8/ptq_l1_unstruct_prune_0.7/model.pt\n",
      "2025-06-13 21:45:57,025 - nnopt.recipes.mobilenetv2_cifar10 - INFO - Model state_dict saved to /home/pbeuran/repos/nnopt/models/mobilenetv2_cifar10/int8/ptq_l1_unstruct_prune_0.7/state_dict.pt\n",
      "2025-06-13 21:45:57,025 - nnopt.recipes.mobilenetv2_cifar10 - INFO - Metadata saved to /home/pbeuran/repos/nnopt/models/mobilenetv2_cifar10/int8/ptq_l1_unstruct_prune_0.7/metadata.json\n",
      "2025-06-13 21:45:57,026 - nnopt.model.prune - INFO - Making pruning permanent by removing reparameterization...\n",
      "2025-06-13 21:45:57,026 - nnopt.model.prune - WARNING - No pruning reparameterization was removed. Was the model pruned?\n",
      "2025-06-13 21:45:57,027 - nnopt.recipes.mobilenetv2_cifar10 - INFO - Saving model in JIT script format...\n"
     ]
    },
    {
     "name": "stdout",
     "output_type": "stream",
     "text": [
      "Evaluation Complete: Avg Loss: 0.4238, Accuracy: 0.8554\n",
      "Throughput: 733.82 samples/sec | Avg Batch Time: 43.54 ms | Avg Sample Time: 1.36 ms\n",
      "System Stats: CPU Usage: 13.20% | RAM Usage: 5.3/30.9GB (20.9%)\n",
      "Validation accuracy of MobileNetV2 on CIFAR-10 (quantized): 0.86\n",
      "Test accuracy of MobileNetV2 on CIFAR-10 (quantized): 0.86\n"
     ]
    },
    {
     "name": "stderr",
     "output_type": "stream",
     "text": [
      "2025-06-13 21:45:57,287 - nnopt.recipes.mobilenetv2_cifar10 - INFO - JIT script model saved to /home/pbeuran/repos/nnopt/models/mobilenetv2_cifar10/int8/ptq_l1_unstruct_prune_0.7/jit_script.pt\n",
      "2025-06-13 21:45:57,288 - nnopt.recipes.mobilenetv2_cifar10 - INFO - Saving model in JIT trace format...\n",
      "2025-06-13 21:45:57,970 - nnopt.recipes.mobilenetv2_cifar10 - INFO - JIT model saved to /home/pbeuran/repos/nnopt/models/mobilenetv2_cifar10/int8/ptq_l1_unstruct_prune_0.7/jit_trace.pt\n"
     ]
    }
   ],
   "source": [
    "mobilenetv2_cifar10_ptq_unstruct_prune, mobilenetv2_cifar10_ptq_unstruct_val_metrics, mobilenetv2_cifar10_ptq_unstruct_test_metrics = ptq_mobilenetv2_cifar10(\n",
    "    version=\"mobilenetv2_cifar10/fp32/l1_unstruct_prune_0.7\"\n",
    ")"
   ]
  },
  {
   "cell_type": "markdown",
   "id": "922b6e93",
   "metadata": {},
   "source": [
    "# Quantization-Aware Training (QAT)"
   ]
  },
  {
   "cell_type": "markdown",
   "id": "acafe863",
   "metadata": {},
   "source": [
    "## Baseline Model"
   ]
  },
  {
   "cell_type": "code",
   "execution_count": 7,
   "id": "20c7894b",
   "metadata": {},
   "outputs": [
    {
     "name": "stderr",
     "output_type": "stream",
     "text": [
      "2025-06-13 21:45:57,980 - nnopt.recipes.mobilenetv2_cifar10 - INFO - Loading MobileNetV2 model for CIFAR-10 from version: mobilenetv2_cifar10/fp32/baseline at /home/pbeuran/repos/nnopt/models\n",
      "2025-06-13 21:45:57,981 - nnopt.recipes.mobilenetv2_cifar10 - INFO - Loaded metadata: {'metrics_values': {'val_metrics': {'accuracy': 0.9242, 'avg_loss': 0.21477387733459471, 'samples_per_second': 7911.222902166802, 'avg_time_per_batch': 8.00017140500131, 'avg_time_per_sample': 0.12640270819902072, 'params_stats': {'int_weight_params': 0, 'float_weight_params': 2202560, 'float_bias_params': 10, 'bn_param_params': 34112, 'other_float_params': 0, 'total_params': 2236682}}, 'test_metrics': {'accuracy': 0.9273, 'avg_loss': 0.20880980265140534, 'samples_per_second': 7854.464952039895, 'avg_time_per_batch': 8.109306987152756, 'avg_time_per_sample': 0.12731611969829829, 'params_stats': {'int_weight_params': 0, 'float_weight_params': 2202560, 'float_bias_params': 10, 'bn_param_params': 34112, 'other_float_params': 0, 'total_params': 2236682}}}}\n",
      "2025-06-13 21:45:57,982 - nnopt.recipes.mobilenetv2_cifar10 - INFO - Loading model from /home/pbeuran/repos/nnopt/models/mobilenetv2_cifar10/fp32/baseline/model.pt\n",
      "2025-06-13 21:45:58,038 - nnopt.recipes.mobilenetv2_cifar10 - INFO - Converting model to quantized version...\n",
      "2025-06-13 21:45:58,039 - nnopt.recipes.mobilenetv2_cifar10 - INFO - Loading MobileNetV2 model with weights: None, to_quantize: True, is_quantized: False\n",
      "2025-06-13 21:45:58,066 - nnopt.recipes.mobilenetv2_cifar10 - INFO - Replacing head of the model to match 10 classes\n",
      "2025-06-13 21:45:58,087 - nnopt.recipes.mobilenetv2_cifar10 - INFO - Model converted to quantized version.\n",
      "2025-06-13 21:45:58,088 - nnopt.model.quant - INFO - Preparing model for quantization-aware training...\n",
      "2025-06-13 21:45:58,089 - nnopt.model.quant - INFO - Attempting to fuse model modules...\n",
      "2025-06-13 21:45:58,091 - nnopt.model.quant - INFO - Model fusion step completed.\n",
      "2025-06-13 21:45:58,092 - nnopt.model.quant - INFO - Making pruning permanent (if model was pruned) before INT8 conversion...\n",
      "2025-06-13 21:45:58,092 - nnopt.model.prune - INFO - Making pruning permanent by removing reparameterization...\n",
      "2025-06-13 21:45:58,093 - nnopt.model.prune - WARNING - No pruning reparameterization was removed. Was the model pruned?\n",
      "2025-06-13 21:45:58,093 - nnopt.model.quant - INFO - Pruning reparameterization removed.\n",
      "2025-06-13 21:45:58,094 - nnopt.model.quant - INFO - Preparing model for QAT (inserting FakeQuantize modules)...\n",
      "2025-06-13 21:45:58,239 - nnopt.model.quant - INFO - Model prepared for quantization-aware training.\n",
      "2025-06-13 21:45:58,239 - nnopt.model.quant - INFO - Starting quantization-aware training for 5 epochs on cuda...\n",
      "Epoch 1/5 [Training]: 100%|██████████| 704/704 [01:14<00:00,  9.51it/s, acc=0.6421, cpu=3.2%, gpu_mem=10.5/24.0GB (43.7%), gpu_util=76.0%, loss=1.4297, ram=6.0/30.9GB (24.9%), samples/s=106.0] \n",
      "Epoch 1/5 [Validation]: 100%|██████████| 79/79 [00:03<00:00, 20.66it/s, acc=0.8184, cpu=3.1%, gpu_mem=10.5/24.0GB (43.7%), gpu_util=56.0%, loss=1.0412, ram=5.8/30.9GB (24.5%), samples/s=286.8]  \n"
     ]
    },
    {
     "name": "stdout",
     "output_type": "stream",
     "text": [
      "Epoch 1/5, Train Loss: 1.0399, Train Acc: 0.6421, Train Throughput: 674.93 samples/s | Val Loss: 0.5338, Val Acc: 0.8184, Val Throughput: 1537.31 samples/s | CPU Usage: 11.90% | RAM Usage: 5.6/30.9GB (23.8%) | GPU 0 Util: 56.00% | GPU 0 Mem: 10.5/24.0GB (43.7%)\n"
     ]
    },
    {
     "name": "stderr",
     "output_type": "stream",
     "text": [
      "Epoch 2/5 [Training]: 100%|██████████| 704/704 [01:13<00:00,  9.55it/s, acc=0.7008, cpu=4.3%, gpu_mem=10.4/24.0GB (43.4%), gpu_util=76.0%, loss=0.4406, ram=5.8/30.9GB (24.3%), samples/s=169.8] \n",
      "Epoch 2/5 [Validation]: 100%|██████████| 79/79 [00:04<00:00, 19.55it/s, acc=0.8410, cpu=3.0%, gpu_mem=10.5/24.0GB (43.8%), gpu_util=55.0%, loss=0.9356, ram=5.7/30.9GB (24.1%), samples/s=279.4]  \n"
     ]
    },
    {
     "name": "stdout",
     "output_type": "stream",
     "text": [
      "Epoch 2/5, Train Loss: 0.8633, Train Acc: 0.7008, Train Throughput: 678.90 samples/s | Val Loss: 0.4780, Val Acc: 0.8410, Val Throughput: 1458.82 samples/s | CPU Usage: 12.70% | RAM Usage: 5.5/30.9GB (23.4%) | GPU 0 Util: 44.00% | GPU 0 Mem: 10.5/24.0GB (43.8%)\n"
     ]
    },
    {
     "name": "stderr",
     "output_type": "stream",
     "text": [
      "Epoch 3/5 [Training]: 100%|██████████| 704/704 [01:14<00:00,  9.43it/s, acc=0.7198, cpu=3.4%, gpu_mem=10.4/24.0GB (43.5%), gpu_util=75.0%, loss=0.2510, ram=5.8/30.9GB (24.4%), samples/s=183.6] \n",
      "Epoch 3/5 [Validation]: 100%|██████████| 79/79 [00:03<00:00, 21.02it/s, acc=0.8722, cpu=4.3%, gpu_mem=10.4/24.0GB (43.5%), gpu_util=57.0%, loss=0.5034, ram=5.8/30.9GB (24.4%), samples/s=302.4]  \n"
     ]
    },
    {
     "name": "stdout",
     "output_type": "stream",
     "text": [
      "Epoch 3/5, Train Loss: 0.8093, Train Acc: 0.7198, Train Throughput: 685.12 samples/s | Val Loss: 0.3865, Val Acc: 0.8722, Val Throughput: 1567.96 samples/s | CPU Usage: 11.40% | RAM Usage: 5.5/30.9GB (23.5%) | GPU 0 Util: 57.00% | GPU 0 Mem: 10.4/24.0GB (43.5%)\n"
     ]
    },
    {
     "name": "stderr",
     "output_type": "stream",
     "text": [
      "Epoch 4/5 [Training]: 100%|██████████| 704/704 [01:13<00:00,  9.61it/s, acc=0.7351, cpu=6.3%, gpu_mem=10.5/24.0GB (43.6%), gpu_util=75.0%, loss=1.0281, ram=5.8/30.9GB (24.5%), samples/s=172.9] \n",
      "Epoch 4/5 [Validation]: 100%|██████████| 79/79 [00:03<00:00, 20.83it/s, acc=0.8762, cpu=2.2%, gpu_mem=10.5/24.0GB (43.6%), gpu_util=56.0%, loss=0.6212, ram=5.8/30.9GB (24.4%), samples/s=294.7]  \n"
     ]
    },
    {
     "name": "stdout",
     "output_type": "stream",
     "text": [
      "Epoch 4/5, Train Loss: 0.7639, Train Acc: 0.7351, Train Throughput: 681.04 samples/s | Val Loss: 0.3724, Val Acc: 0.8762, Val Throughput: 1547.37 samples/s | CPU Usage: 11.90% | RAM Usage: 5.5/30.9GB (23.5%) | GPU 0 Util: 48.00% | GPU 0 Mem: 10.5/24.0GB (43.6%)\n"
     ]
    },
    {
     "name": "stderr",
     "output_type": "stream",
     "text": [
      "Epoch 5/5 [Training]: 100%|██████████| 704/704 [01:12<00:00,  9.68it/s, acc=0.7412, cpu=3.3%, gpu_mem=10.5/24.0GB (43.6%), gpu_util=76.0%, loss=0.8838, ram=5.8/30.9GB (24.5%), samples/s=176.9] \n",
      "Epoch 5/5 [Validation]: 100%|██████████| 79/79 [00:03<00:00, 20.57it/s, acc=0.8762, cpu=3.2%, gpu_mem=10.5/24.0GB (43.6%), gpu_util=54.0%, loss=1.0112, ram=5.8/30.9GB (24.4%), samples/s=296.9]  \n",
      "2025-06-13 21:52:25,923 - nnopt.model.quant - INFO - Converting QAT model to a fully quantized model (INT8)...\n",
      "/home/pbeuran/repos/nnopt/.venv/lib/python3.12/site-packages/torch/ao/quantization/utils.py:408: UserWarning: must run observer before calling calculate_qparams. Returning default values.\n",
      "  warnings.warn(\n",
      "2025-06-13 21:52:26,069 - nnopt.model.quant - INFO - QAT model converted to INT8.\n",
      "2025-06-13 21:52:26,069 - nnopt.model.quant - INFO - Starting evaluation of the QAT quantized model...\n",
      "2025-06-13 21:52:26,070 - nnopt.model.eval - INFO - Starting evaluation on device: cpu, dtype: torch.float32, batch size: 64\n",
      "2025-06-13 21:52:26,071 - nnopt.model.eval - INFO - Starting warmup for 5 batches...\n"
     ]
    },
    {
     "name": "stdout",
     "output_type": "stream",
     "text": [
      "Epoch 5/5, Train Loss: 0.7462, Train Acc: 0.7412, Train Throughput: 687.37 samples/s | Val Loss: 0.3612, Val Acc: 0.8762, Val Throughput: 1543.87 samples/s | CPU Usage: 10.10% | RAM Usage: 5.5/30.9GB (23.5%) | GPU 0 Util: 54.00% | GPU 0 Mem: 10.5/24.0GB (43.6%)\n"
     ]
    },
    {
     "name": "stderr",
     "output_type": "stream",
     "text": [
      "[Warmup]: 100%|██████████| 5/5 [00:00<00:00,  7.30it/s]\n",
      "2025-06-13 21:52:26,849 - nnopt.model.eval - INFO - Warmup complete.\n",
      "[Evaluation]: 100%|██████████| 79/79 [00:08<00:00,  9.03it/s, acc=0.8700, cpu=51.3%, loss=1.0012, ram=5.9/30.9GB (24.9%), samples/s=771.5]\n",
      "2025-06-13 21:52:35,615 - nnopt.model.quant - INFO - Quantization-aware training metrics: {'accuracy': 0.87, 'avg_loss': 0.38183158798217776, 'samples_per_second': 756.680140414012, 'avg_time_per_batch': 83.64318799998773, 'avg_time_per_sample': 1.3215623703998063, 'params_stats': {'int_weight_params': 2202560, 'float_weight_params': 0, 'float_bias_params': 17066, 'bn_param_params': 0, 'other_float_params': 0, 'total_params': 2219626}}\n",
      "2025-06-13 21:52:35,616 - nnopt.model.eval - INFO - Starting evaluation on device: cpu, dtype: torch.float32, batch size: 32\n",
      "2025-06-13 21:52:35,617 - nnopt.model.eval - INFO - Starting warmup for 5 batches...\n"
     ]
    },
    {
     "name": "stdout",
     "output_type": "stream",
     "text": [
      "Evaluation Complete: Avg Loss: 0.3818, Accuracy: 0.8700\n",
      "Throughput: 756.68 samples/sec | Avg Batch Time: 83.64 ms | Avg Sample Time: 1.32 ms\n",
      "System Stats: CPU Usage: 12.20% | RAM Usage: 5.6/30.9GB (23.9%)\n"
     ]
    },
    {
     "name": "stderr",
     "output_type": "stream",
     "text": [
      "[Warmup]: 100%|██████████| 5/5 [00:00<00:00, 13.47it/s]\n",
      "2025-06-13 21:52:36,085 - nnopt.model.eval - INFO - Warmup complete.\n",
      "[Evaluation]: 100%|██████████| 157/157 [00:07<00:00, 21.15it/s, acc=0.8700, cpu=52.8%, loss=1.0012, ram=5.8/30.9GB (24.5%), samples/s=833.4]\n",
      "2025-06-13 21:52:43,524 - nnopt.model.eval - INFO - Starting evaluation on device: cpu, dtype: torch.float32, batch size: 32\n",
      "2025-06-13 21:52:43,525 - nnopt.model.eval - INFO - Starting warmup for 5 batches...\n"
     ]
    },
    {
     "name": "stdout",
     "output_type": "stream",
     "text": [
      "Evaluation Complete: Avg Loss: 0.3818, Accuracy: 0.8700\n",
      "Throughput: 721.14 samples/sec | Avg Batch Time: 44.16 ms | Avg Sample Time: 1.39 ms\n",
      "System Stats: CPU Usage: 14.90% | RAM Usage: 5.6/30.9GB (23.9%)\n"
     ]
    },
    {
     "name": "stderr",
     "output_type": "stream",
     "text": [
      "[Warmup]: 100%|██████████| 5/5 [00:00<00:00, 13.64it/s]\n",
      "2025-06-13 21:52:43,983 - nnopt.model.eval - INFO - Warmup complete.\n",
      "[Evaluation]: 100%|██████████| 313/313 [00:14<00:00, 21.15it/s, acc=0.8674, cpu=47.3%, loss=0.4250, ram=5.8/30.9GB (24.6%), samples/s=933.5]\n",
      "2025-06-13 21:52:58,827 - nnopt.recipes.mobilenetv2_cifar10 - INFO - Model saved to /home/pbeuran/repos/nnopt/models/mobilenetv2_cifar10/int8/qat_baseline/model.pt\n",
      "2025-06-13 21:52:58,848 - nnopt.recipes.mobilenetv2_cifar10 - INFO - Model state_dict saved to /home/pbeuran/repos/nnopt/models/mobilenetv2_cifar10/int8/qat_baseline/state_dict.pt\n",
      "2025-06-13 21:52:58,849 - nnopt.recipes.mobilenetv2_cifar10 - INFO - Metadata saved to /home/pbeuran/repos/nnopt/models/mobilenetv2_cifar10/int8/qat_baseline/metadata.json\n",
      "2025-06-13 21:52:58,850 - nnopt.model.prune - INFO - Making pruning permanent by removing reparameterization...\n",
      "2025-06-13 21:52:58,851 - nnopt.model.prune - WARNING - No pruning reparameterization was removed. Was the model pruned?\n",
      "2025-06-13 21:52:58,851 - nnopt.recipes.mobilenetv2_cifar10 - INFO - Saving model in JIT script format...\n"
     ]
    },
    {
     "name": "stdout",
     "output_type": "stream",
     "text": [
      "Evaluation Complete: Avg Loss: 0.3909, Accuracy: 0.8674\n",
      "Throughput: 713.96 samples/sec | Avg Batch Time: 44.75 ms | Avg Sample Time: 1.40 ms\n",
      "System Stats: CPU Usage: 15.80% | RAM Usage: 5.6/30.9GB (24.0%)\n",
      "Validation accuracy of MobileNetV2 on CIFAR-10 (quantized): 0.87\n",
      "Test accuracy of MobileNetV2 on CIFAR-10 (quantized): 0.87\n"
     ]
    },
    {
     "name": "stderr",
     "output_type": "stream",
     "text": [
      "2025-06-13 21:52:59,281 - nnopt.recipes.mobilenetv2_cifar10 - INFO - JIT script model saved to /home/pbeuran/repos/nnopt/models/mobilenetv2_cifar10/int8/qat_baseline/jit_script.pt\n",
      "2025-06-13 21:52:59,281 - nnopt.recipes.mobilenetv2_cifar10 - INFO - Saving model in JIT trace format...\n",
      "2025-06-13 21:53:00,021 - nnopt.recipes.mobilenetv2_cifar10 - INFO - JIT model saved to /home/pbeuran/repos/nnopt/models/mobilenetv2_cifar10/int8/qat_baseline/jit_trace.pt\n"
     ]
    }
   ],
   "source": [
    "mobilenetv2_cifar10_qat_int8, mobilenetv2_cifar10_qat_int8_val_metrics, mobilenetv2_cifar10_qat_int8_test_metrics = qat_mobilenetv2_cifar10(\n",
    "    version=\"mobilenetv2_cifar10/fp32/baseline\"\n",
    ")"
   ]
  },
  {
   "cell_type": "markdown",
   "id": "e5e378bd",
   "metadata": {},
   "source": [
    "# L1 Unstructured Pruning"
   ]
  },
  {
   "cell_type": "code",
   "execution_count": 8,
   "id": "3580886e",
   "metadata": {},
   "outputs": [
    {
     "name": "stderr",
     "output_type": "stream",
     "text": [
      "2025-06-13 21:53:00,030 - nnopt.recipes.mobilenetv2_cifar10 - INFO - Loading MobileNetV2 model for CIFAR-10 from version: mobilenetv2_cifar10/fp32/l1_unstruct_prune_0.7 at /home/pbeuran/repos/nnopt/models\n",
      "2025-06-13 21:53:00,031 - nnopt.recipes.mobilenetv2_cifar10 - INFO - Loaded metadata: {'unstructured_sparse_config': {'pruning_amount': 0.7}, 'metrics_values': {'val_metrics': {'accuracy': 0.8686, 'avg_loss': 0.3839114749908447, 'samples_per_second': 8510.816916383365, 'avg_time_per_batch': 7.436552784806189, 'avg_time_per_sample': 0.11749753399993779, 'params_stats': {'int_weight_params': 0, 'float_weight_params': 2202560, 'float_bias_params': 10, 'bn_param_params': 34112, 'other_float_params': 0, 'total_params': 2236682}}, 'test_metrics': {'accuracy': 0.8719, 'avg_loss': 0.37607471809387205, 'samples_per_second': 8470.41367302276, 'avg_time_per_batch': 7.519617101911101, 'avg_time_per_sample': 0.11805798850000429, 'params_stats': {'int_weight_params': 0, 'float_weight_params': 2202560, 'float_bias_params': 10, 'bn_param_params': 34112, 'other_float_params': 0, 'total_params': 2236682}}}}\n",
      "2025-06-13 21:53:00,031 - nnopt.recipes.mobilenetv2_cifar10 - INFO - Loading model from /home/pbeuran/repos/nnopt/models/mobilenetv2_cifar10/fp32/l1_unstruct_prune_0.7/model.pt\n",
      "2025-06-13 21:53:00,092 - nnopt.recipes.mobilenetv2_cifar10 - INFO - Converting model to quantized version...\n",
      "2025-06-13 21:53:00,093 - nnopt.recipes.mobilenetv2_cifar10 - INFO - Loading MobileNetV2 model with weights: None, to_quantize: True, is_quantized: False\n",
      "2025-06-13 21:53:00,122 - nnopt.recipes.mobilenetv2_cifar10 - INFO - Replacing head of the model to match 10 classes\n",
      "2025-06-13 21:53:00,144 - nnopt.recipes.mobilenetv2_cifar10 - INFO - Model converted to quantized version.\n",
      "2025-06-13 21:53:00,145 - nnopt.model.quant - INFO - Preparing model for quantization-aware training...\n",
      "2025-06-13 21:53:00,146 - nnopt.model.quant - INFO - Attempting to fuse model modules...\n",
      "2025-06-13 21:53:00,149 - nnopt.model.quant - INFO - Model fusion step completed.\n",
      "2025-06-13 21:53:00,149 - nnopt.model.quant - INFO - Making pruning permanent (if model was pruned) before INT8 conversion...\n",
      "2025-06-13 21:53:00,149 - nnopt.model.prune - INFO - Making pruning permanent by removing reparameterization...\n",
      "2025-06-13 21:53:00,150 - nnopt.model.prune - WARNING - No pruning reparameterization was removed. Was the model pruned?\n",
      "2025-06-13 21:53:00,150 - nnopt.model.quant - INFO - Pruning reparameterization removed.\n",
      "2025-06-13 21:53:00,151 - nnopt.model.quant - INFO - Preparing model for QAT (inserting FakeQuantize modules)...\n",
      "2025-06-13 21:53:00,297 - nnopt.model.quant - INFO - Model prepared for quantization-aware training.\n",
      "2025-06-13 21:53:00,297 - nnopt.model.quant - INFO - Starting quantization-aware training for 5 epochs on cuda...\n",
      "Epoch 1/5 [Training]: 100%|██████████| 704/704 [01:15<00:00,  9.35it/s, acc=0.6605, cpu=3.8%, gpu_mem=10.5/24.0GB (43.6%), gpu_util=69.0%, loss=2.0363, ram=6.0/30.9GB (25.1%), samples/s=173.1] \n",
      "Epoch 1/5 [Validation]: 100%|██████████| 79/79 [00:03<00:00, 20.78it/s, acc=0.7928, cpu=3.3%, gpu_mem=10.5/24.0GB (43.6%), gpu_util=52.0%, loss=0.8310, ram=5.9/30.9GB (25.0%), samples/s=302.4]  \n"
     ]
    },
    {
     "name": "stdout",
     "output_type": "stream",
     "text": [
      "Epoch 1/5, Train Loss: 0.9718, Train Acc: 0.6605, Train Throughput: 680.34 samples/s | Val Loss: 0.6175, Val Acc: 0.7928, Val Throughput: 1562.52 samples/s | CPU Usage: 11.20% | RAM Usage: 5.6/30.9GB (24.0%) | GPU 0 Util: 52.00% | GPU 0 Mem: 10.5/24.0GB (43.6%)\n"
     ]
    },
    {
     "name": "stderr",
     "output_type": "stream",
     "text": [
      "Epoch 2/5 [Training]: 100%|██████████| 704/704 [01:14<00:00,  9.44it/s, acc=0.7026, cpu=3.7%, gpu_mem=10.5/24.0GB (43.6%), gpu_util=74.0%, loss=0.4809, ram=6.0/30.9GB (25.1%), samples/s=167.0] \n",
      "Epoch 2/5 [Validation]: 100%|██████████| 79/79 [00:03<00:00, 20.68it/s, acc=0.8566, cpu=3.1%, gpu_mem=10.5/24.0GB (43.6%), gpu_util=52.0%, loss=1.0001, ram=5.9/30.9GB (25.0%), samples/s=289.7]  \n"
     ]
    },
    {
     "name": "stdout",
     "output_type": "stream",
     "text": [
      "Epoch 2/5, Train Loss: 0.8564, Train Acc: 0.7026, Train Throughput: 673.07 samples/s | Val Loss: 0.4316, Val Acc: 0.8566, Val Throughput: 1563.24 samples/s | CPU Usage: 12.30% | RAM Usage: 5.6/30.9GB (24.0%) | GPU 0 Util: 52.00% | GPU 0 Mem: 10.5/24.0GB (43.6%)\n"
     ]
    },
    {
     "name": "stderr",
     "output_type": "stream",
     "text": [
      "Epoch 3/5 [Training]: 100%|██████████| 704/704 [01:13<00:00,  9.53it/s, acc=0.7127, cpu=3.8%, gpu_mem=10.5/24.0GB (43.6%), gpu_util=76.0%, loss=1.4395, ram=6.0/30.9GB (25.1%), samples/s=175.4] \n",
      "Epoch 3/5 [Validation]: 100%|██████████| 79/79 [00:03<00:00, 20.68it/s, acc=0.8542, cpu=3.3%, gpu_mem=10.5/24.0GB (43.6%), gpu_util=57.0%, loss=0.4063, ram=5.9/30.9GB (25.0%), samples/s=303.2]  \n"
     ]
    },
    {
     "name": "stdout",
     "output_type": "stream",
     "text": [
      "Epoch 3/5, Train Loss: 0.8220, Train Acc: 0.7127, Train Throughput: 679.80 samples/s | Val Loss: 0.4294, Val Acc: 0.8542, Val Throughput: 1563.65 samples/s | CPU Usage: 12.20% | RAM Usage: 5.6/30.9GB (24.0%) | GPU 0 Util: 45.00% | GPU 0 Mem: 10.5/24.0GB (43.6%)\n"
     ]
    },
    {
     "name": "stderr",
     "output_type": "stream",
     "text": [
      "Epoch 4/5 [Training]: 100%|██████████| 704/704 [01:15<00:00,  9.29it/s, acc=0.7262, cpu=3.1%, gpu_mem=10.6/24.0GB (44.3%), gpu_util=71.0%, loss=1.6857, ram=6.0/30.9GB (25.1%), samples/s=170.4] \n",
      "Epoch 4/5 [Validation]: 100%|██████████| 79/79 [00:04<00:00, 19.45it/s, acc=0.8596, cpu=3.8%, gpu_mem=10.6/24.0GB (44.3%), gpu_util=58.0%, loss=0.6787, ram=5.9/30.9GB (25.0%), samples/s=269.3]  \n"
     ]
    },
    {
     "name": "stdout",
     "output_type": "stream",
     "text": [
      "Epoch 4/5, Train Loss: 0.7801, Train Acc: 0.7262, Train Throughput: 661.34 samples/s | Val Loss: 0.4136, Val Acc: 0.8596, Val Throughput: 1453.48 samples/s | CPU Usage: 11.30% | RAM Usage: 5.6/30.9GB (24.0%) | GPU 0 Util: 58.00% | GPU 0 Mem: 10.6/24.0GB (44.3%)\n"
     ]
    },
    {
     "name": "stderr",
     "output_type": "stream",
     "text": [
      "Epoch 5/5 [Training]: 100%|██████████| 704/704 [01:14<00:00,  9.46it/s, acc=0.7369, cpu=2.4%, gpu_mem=10.6/24.0GB (44.4%), gpu_util=75.0%, loss=0.9510, ram=6.0/30.9GB (25.1%), samples/s=164.7] \n",
      "Epoch 5/5 [Validation]: 100%|██████████| 79/79 [00:03<00:00, 20.40it/s, acc=0.8354, cpu=3.1%, gpu_mem=10.6/24.0GB (44.4%), gpu_util=56.0%, loss=1.3036, ram=5.9/30.9GB (25.0%), samples/s=290.9]  \n",
      "2025-06-13 21:59:35,326 - nnopt.model.quant - INFO - Converting QAT model to a fully quantized model (INT8)...\n",
      "2025-06-13 21:59:35,464 - nnopt.model.quant - INFO - QAT model converted to INT8.\n",
      "2025-06-13 21:59:35,465 - nnopt.model.quant - INFO - Starting evaluation of the QAT quantized model...\n",
      "2025-06-13 21:59:35,466 - nnopt.model.eval - INFO - Starting evaluation on device: cpu, dtype: torch.float32, batch size: 64\n",
      "2025-06-13 21:59:35,467 - nnopt.model.eval - INFO - Starting warmup for 5 batches...\n"
     ]
    },
    {
     "name": "stdout",
     "output_type": "stream",
     "text": [
      "Epoch 5/5, Train Loss: 0.7507, Train Acc: 0.7369, Train Throughput: 674.01 samples/s | Val Loss: 0.4716, Val Acc: 0.8354, Val Throughput: 1549.22 samples/s | CPU Usage: 11.80% | RAM Usage: 5.6/30.9GB (24.0%) | GPU 0 Util: 34.00% | GPU 0 Mem: 10.6/24.0GB (44.4%)\n"
     ]
    },
    {
     "name": "stderr",
     "output_type": "stream",
     "text": [
      "[Warmup]: 100%|██████████| 5/5 [00:00<00:00,  7.09it/s]\n",
      "2025-06-13 21:59:36,266 - nnopt.model.eval - INFO - Warmup complete.\n",
      "[Evaluation]: 100%|██████████| 79/79 [00:07<00:00, 10.85it/s, acc=0.8304, cpu=50.0%, loss=1.2173, ram=6.0/30.9GB (25.1%), samples/s=836.4]\n",
      "2025-06-13 21:59:43,564 - nnopt.model.quant - INFO - Quantization-aware training metrics: {'accuracy': 0.8304, 'avg_loss': 0.5123338083267212, 'samples_per_second': 732.163514265662, 'avg_time_per_batch': 86.44399510126566, 'avg_time_per_sample': 1.3658151225999973, 'params_stats': {'int_weight_params': 2202560, 'float_weight_params': 0, 'float_bias_params': 17066, 'bn_param_params': 0, 'other_float_params': 0, 'total_params': 2219626}}\n",
      "2025-06-13 21:59:43,565 - nnopt.model.eval - INFO - Starting evaluation on device: cpu, dtype: torch.float32, batch size: 32\n",
      "2025-06-13 21:59:43,566 - nnopt.model.eval - INFO - Starting warmup for 5 batches...\n"
     ]
    },
    {
     "name": "stdout",
     "output_type": "stream",
     "text": [
      "Evaluation Complete: Avg Loss: 0.5123, Accuracy: 0.8304\n",
      "Throughput: 732.16 samples/sec | Avg Batch Time: 86.44 ms | Avg Sample Time: 1.37 ms\n",
      "System Stats: CPU Usage: 15.10% | RAM Usage: 5.6/30.9GB (24.1%)\n"
     ]
    },
    {
     "name": "stderr",
     "output_type": "stream",
     "text": [
      "[Warmup]: 100%|██████████| 5/5 [00:00<00:00, 12.76it/s]\n",
      "2025-06-13 21:59:44,052 - nnopt.model.eval - INFO - Warmup complete.\n",
      "[Evaluation]: 100%|██████████| 157/157 [00:07<00:00, 19.76it/s, acc=0.8304, cpu=51.3%, loss=1.2173, ram=5.8/30.9GB (24.7%), samples/s=759.4]\n",
      "2025-06-13 21:59:52,017 - nnopt.model.eval - INFO - Starting evaluation on device: cpu, dtype: torch.float32, batch size: 32\n",
      "2025-06-13 21:59:52,018 - nnopt.model.eval - INFO - Starting warmup for 5 batches...\n"
     ]
    },
    {
     "name": "stdout",
     "output_type": "stream",
     "text": [
      "Evaluation Complete: Avg Loss: 0.5123, Accuracy: 0.8304\n",
      "Throughput: 674.91 samples/sec | Avg Batch Time: 47.19 ms | Avg Sample Time: 1.48 ms\n",
      "System Stats: CPU Usage: 14.20% | RAM Usage: 5.6/30.9GB (24.0%)\n"
     ]
    },
    {
     "name": "stderr",
     "output_type": "stream",
     "text": [
      "[Warmup]: 100%|██████████| 5/5 [00:00<00:00, 12.53it/s]\n",
      "2025-06-13 21:59:52,513 - nnopt.model.eval - INFO - Warmup complete.\n",
      "[Evaluation]: 100%|██████████| 313/313 [00:17<00:00, 18.32it/s, acc=0.8219, cpu=49.1%, loss=0.3345, ram=5.9/30.9GB (24.8%), samples/s=1011.0]\n",
      "2025-06-13 22:00:09,641 - nnopt.recipes.mobilenetv2_cifar10 - INFO - Model saved to /home/pbeuran/repos/nnopt/models/mobilenetv2_cifar10/int8/qat_l1_unstruct_prune_0.7/model.pt\n",
      "2025-06-13 22:00:09,660 - nnopt.recipes.mobilenetv2_cifar10 - INFO - Model state_dict saved to /home/pbeuran/repos/nnopt/models/mobilenetv2_cifar10/int8/qat_l1_unstruct_prune_0.7/state_dict.pt\n",
      "2025-06-13 22:00:09,660 - nnopt.recipes.mobilenetv2_cifar10 - INFO - Metadata saved to /home/pbeuran/repos/nnopt/models/mobilenetv2_cifar10/int8/qat_l1_unstruct_prune_0.7/metadata.json\n",
      "2025-06-13 22:00:09,661 - nnopt.model.prune - INFO - Making pruning permanent by removing reparameterization...\n",
      "2025-06-13 22:00:09,662 - nnopt.model.prune - WARNING - No pruning reparameterization was removed. Was the model pruned?\n",
      "2025-06-13 22:00:09,662 - nnopt.recipes.mobilenetv2_cifar10 - INFO - Saving model in JIT script format...\n"
     ]
    },
    {
     "name": "stdout",
     "output_type": "stream",
     "text": [
      "Evaluation Complete: Avg Loss: 0.5190, Accuracy: 0.8219\n",
      "Throughput: 687.55 samples/sec | Avg Batch Time: 46.47 ms | Avg Sample Time: 1.45 ms\n",
      "System Stats: CPU Usage: 16.80% | RAM Usage: 5.6/30.9GB (24.1%)\n",
      "Validation accuracy of MobileNetV2 on CIFAR-10 (quantized): 0.83\n",
      "Test accuracy of MobileNetV2 on CIFAR-10 (quantized): 0.82\n"
     ]
    },
    {
     "name": "stderr",
     "output_type": "stream",
     "text": [
      "2025-06-13 22:00:09,937 - nnopt.recipes.mobilenetv2_cifar10 - INFO - JIT script model saved to /home/pbeuran/repos/nnopt/models/mobilenetv2_cifar10/int8/qat_l1_unstruct_prune_0.7/jit_script.pt\n",
      "2025-06-13 22:00:09,938 - nnopt.recipes.mobilenetv2_cifar10 - INFO - Saving model in JIT trace format...\n",
      "2025-06-13 22:00:10,662 - nnopt.recipes.mobilenetv2_cifar10 - INFO - JIT model saved to /home/pbeuran/repos/nnopt/models/mobilenetv2_cifar10/int8/qat_l1_unstruct_prune_0.7/jit_trace.pt\n"
     ]
    }
   ],
   "source": [
    "mobilenetv2_cifar10_qat_unstruct_prune, mobilenetv2_cifar10_qat_unstruct_val_metrics, mobilenetv2_cifar10_qat_unstruct_test_metrics = qat_mobilenetv2_cifar10(\n",
    "    version=\"mobilenetv2_cifar10/fp32/l1_unstruct_prune_0.7\"\n",
    ")"
   ]
  },
  {
   "cell_type": "markdown",
   "id": "26df5bde",
   "metadata": {},
   "source": [
    "# "
   ]
  },
  {
   "cell_type": "markdown",
   "id": "494ed4c6",
   "metadata": {},
   "source": [
    "# Analysis"
   ]
  },
  {
   "cell_type": "code",
   "execution_count": 9,
   "id": "eacd3f2a",
   "metadata": {},
   "outputs": [
    {
     "name": "stderr",
     "output_type": "stream",
     "text": [
      "2025-06-13 22:00:10,672 - nnopt.recipes.mobilenetv2_cifar10 - INFO - Loading MobileNetV2 model for CIFAR-10 from version: mobilenetv2_cifar10/fp32/baseline at /home/pbeuran/repos/nnopt/models\n",
      "2025-06-13 22:00:10,673 - nnopt.recipes.mobilenetv2_cifar10 - INFO - Loaded metadata: {'metrics_values': {'val_metrics': {'accuracy': 0.9242, 'avg_loss': 0.21477387733459471, 'samples_per_second': 7911.222902166802, 'avg_time_per_batch': 8.00017140500131, 'avg_time_per_sample': 0.12640270819902072, 'params_stats': {'int_weight_params': 0, 'float_weight_params': 2202560, 'float_bias_params': 10, 'bn_param_params': 34112, 'other_float_params': 0, 'total_params': 2236682}}, 'test_metrics': {'accuracy': 0.9273, 'avg_loss': 0.20880980265140534, 'samples_per_second': 7854.464952039895, 'avg_time_per_batch': 8.109306987152756, 'avg_time_per_sample': 0.12731611969829829, 'params_stats': {'int_weight_params': 0, 'float_weight_params': 2202560, 'float_bias_params': 10, 'bn_param_params': 34112, 'other_float_params': 0, 'total_params': 2236682}}}}\n",
      "2025-06-13 22:00:10,674 - nnopt.recipes.mobilenetv2_cifar10 - INFO - Loading model from /home/pbeuran/repos/nnopt/models/mobilenetv2_cifar10/fp32/baseline/model.pt\n",
      "2025-06-13 22:00:10,724 - nnopt.model.eval - INFO - Starting evaluation on device: cpu, dtype: torch.float32, batch size: 32\n",
      "2025-06-13 22:00:10,743 - nnopt.model.eval - INFO - Starting warmup for 5 batches...\n"
     ]
    },
    {
     "name": "stdout",
     "output_type": "stream",
     "text": [
      "Evaluating FP32 Baseline Model on CPU...\n"
     ]
    },
    {
     "name": "stderr",
     "output_type": "stream",
     "text": [
      "[Warmup]: 100%|██████████| 5/5 [00:02<00:00,  2.04it/s]\n",
      "2025-06-13 22:00:13,289 - nnopt.model.eval - INFO - Warmup complete.\n",
      "[Evaluation]: 100%|██████████| 157/157 [01:12<00:00,  2.18it/s, acc=0.9242, cpu=42.9%, loss=1.0552, ram=6.0/30.9GB (25.1%), samples/s=117.6]\n",
      "2025-06-13 22:01:25,335 - nnopt.model.eval - INFO - Starting evaluation on device: cpu, dtype: torch.float32, batch size: 32\n",
      "2025-06-13 22:01:25,337 - nnopt.model.eval - INFO - Starting warmup for 5 batches...\n"
     ]
    },
    {
     "name": "stdout",
     "output_type": "stream",
     "text": [
      "Evaluation Complete: Avg Loss: 0.2183, Accuracy: 0.9242\n",
      "Throughput: 73.49 samples/sec | Avg Batch Time: 433.32 ms | Avg Sample Time: 13.61 ms\n",
      "System Stats: CPU Usage: 14.80% | RAM Usage: 5.7/30.9GB (24.3%)\n"
     ]
    },
    {
     "name": "stderr",
     "output_type": "stream",
     "text": [
      "[Warmup]: 100%|██████████| 5/5 [00:02<00:00,  2.09it/s]\n",
      "2025-06-13 22:01:27,827 - nnopt.model.eval - INFO - Warmup complete.\n",
      "[Evaluation]: 100%|██████████| 313/313 [02:31<00:00,  2.07it/s, acc=0.9266, cpu=35.5%, loss=0.0986, ram=5.9/30.9GB (25.0%), samples/s=89.9]"
     ]
    },
    {
     "name": "stdout",
     "output_type": "stream",
     "text": [
      "Evaluation Complete: Avg Loss: 0.2120, Accuracy: 0.9266\n",
      "Throughput: 70.44 samples/sec | Avg Batch Time: 453.58 ms | Avg Sample Time: 14.20 ms\n",
      "System Stats: CPU Usage: 15.00% | RAM Usage: 5.7/30.9GB (24.3%)\n"
     ]
    },
    {
     "name": "stderr",
     "output_type": "stream",
     "text": [
      "\n"
     ]
    }
   ],
   "source": [
    "# Load baseline FP32 model and its metadata\n",
    "fp32_baseline_model, fp32_baseline_metadata = load_mobilenetv2_cifar10_model(version=\"mobilenetv2_cifar10/fp32/baseline\")\n",
    "\n",
    "# Evaluate the baseline model on CPU\n",
    "print(\"Evaluating FP32 Baseline Model on CPU...\")\n",
    "fp32_baseline_val_metrics_cpu = eval_model(\n",
    "    model=fp32_baseline_model,\n",
    "    test_dataset=cifar10_val_dataset,\n",
    "    device=\"cpu\",\n",
    "    use_amp=False,\n",
    "    dtype=torch.float32,\n",
    "    batch_size=32 # Using a consistent batch size for eval\n",
    ")\n",
    "fp32_baseline_test_metrics_cpu = eval_model(\n",
    "    model=fp32_baseline_model,\n",
    "    test_dataset=cifar10_test_dataset,\n",
    "    device=\"cpu\",\n",
    "    use_amp=False,\n",
    "    dtype=torch.float32,\n",
    "    batch_size=32 # Using a consistent batch size for eval\n",
    ")\n"
   ]
  },
  {
   "cell_type": "code",
   "execution_count": 10,
   "id": "d8eb6f8e",
   "metadata": {},
   "outputs": [
    {
     "name": "stderr",
     "output_type": "stream",
     "text": [
      "2025-06-13 22:03:59,128 - nnopt.recipes.mobilenetv2_cifar10 - INFO - Loading MobileNetV2 model for CIFAR-10 from version: mobilenetv2_cifar10/fp32/l1_unstruct_prune_0.7 at /home/pbeuran/repos/nnopt/models\n",
      "2025-06-13 22:03:59,130 - nnopt.recipes.mobilenetv2_cifar10 - INFO - Loaded metadata: {'unstructured_sparse_config': {'pruning_amount': 0.7}, 'metrics_values': {'val_metrics': {'accuracy': 0.8686, 'avg_loss': 0.3839114749908447, 'samples_per_second': 8510.816916383365, 'avg_time_per_batch': 7.436552784806189, 'avg_time_per_sample': 0.11749753399993779, 'params_stats': {'int_weight_params': 0, 'float_weight_params': 2202560, 'float_bias_params': 10, 'bn_param_params': 34112, 'other_float_params': 0, 'total_params': 2236682}}, 'test_metrics': {'accuracy': 0.8719, 'avg_loss': 0.37607471809387205, 'samples_per_second': 8470.41367302276, 'avg_time_per_batch': 7.519617101911101, 'avg_time_per_sample': 0.11805798850000429, 'params_stats': {'int_weight_params': 0, 'float_weight_params': 2202560, 'float_bias_params': 10, 'bn_param_params': 34112, 'other_float_params': 0, 'total_params': 2236682}}}}\n",
      "2025-06-13 22:03:59,130 - nnopt.recipes.mobilenetv2_cifar10 - INFO - Loading model from /home/pbeuran/repos/nnopt/models/mobilenetv2_cifar10/fp32/l1_unstruct_prune_0.7/model.pt\n",
      "2025-06-13 22:03:59,235 - nnopt.model.eval - INFO - Starting evaluation on device: cpu, dtype: torch.float32, batch size: 32\n",
      "2025-06-13 22:03:59,258 - nnopt.model.eval - INFO - Starting warmup for 5 batches...\n"
     ]
    },
    {
     "name": "stdout",
     "output_type": "stream",
     "text": [
      "Evaluating L1 Unstructured Pruned Model on CPU...\n"
     ]
    },
    {
     "name": "stderr",
     "output_type": "stream",
     "text": [
      "[Warmup]: 100%|██████████| 5/5 [00:02<00:00,  1.84it/s]\n",
      "2025-06-13 22:04:02,077 - nnopt.model.eval - INFO - Warmup complete.\n",
      "[Evaluation]: 100%|██████████| 157/157 [01:21<00:00,  1.92it/s, acc=0.8688, cpu=44.9%, loss=1.0593, ram=5.9/30.9GB (25.0%), samples/s=119.0]\n",
      "2025-06-13 22:05:23,937 - nnopt.model.eval - INFO - Starting evaluation on device: cpu, dtype: torch.float32, batch size: 32\n",
      "2025-06-13 22:05:23,940 - nnopt.model.eval - INFO - Starting warmup for 5 batches...\n"
     ]
    },
    {
     "name": "stdout",
     "output_type": "stream",
     "text": [
      "Evaluation Complete: Avg Loss: 0.3831, Accuracy: 0.8688\n",
      "Throughput: 64.17 samples/sec | Avg Batch Time: 496.28 ms | Avg Sample Time: 15.58 ms\n",
      "System Stats: CPU Usage: 13.80% | RAM Usage: 5.7/30.9GB (24.4%)\n"
     ]
    },
    {
     "name": "stderr",
     "output_type": "stream",
     "text": [
      "[Warmup]: 100%|██████████| 5/5 [00:02<00:00,  1.87it/s]\n",
      "2025-06-13 22:05:26,708 - nnopt.model.eval - INFO - Warmup complete.\n",
      "[Evaluation]: 100%|██████████| 313/313 [02:44<00:00,  1.90it/s, acc=0.8718, cpu=35.1%, loss=0.3344, ram=5.9/30.9GB (25.0%), samples/s=96.4]"
     ]
    },
    {
     "name": "stdout",
     "output_type": "stream",
     "text": [
      "Evaluation Complete: Avg Loss: 0.3752, Accuracy: 0.8718\n",
      "Throughput: 64.62 samples/sec | Avg Batch Time: 494.41 ms | Avg Sample Time: 15.47 ms\n",
      "System Stats: CPU Usage: 15.40% | RAM Usage: 5.7/30.9GB (24.3%)\n"
     ]
    },
    {
     "name": "stderr",
     "output_type": "stream",
     "text": [
      "\n"
     ]
    }
   ],
   "source": [
    "# Load the L1 unstructured pruned model and its metadata\n",
    "l1_unstruct_pruned_model, l1_unstruct_pruned_metadata = load_mobilenetv2_cifar10_model(version=\"mobilenetv2_cifar10/fp32/l1_unstruct_prune_0.7\")\n",
    "# Evaluate the L1 unstructured pruned model on CPU\n",
    "print(\"Evaluating L1 Unstructured Pruned Model on CPU...\")\n",
    "l1_unstruct_pruned_val_metrics_cpu = eval_model(\n",
    "    model=l1_unstruct_pruned_model,\n",
    "    test_dataset=cifar10_val_dataset,\n",
    "    device=\"cpu\",\n",
    "    use_amp=False,\n",
    "    dtype=torch.float32,\n",
    "    batch_size=32 # Using a consistent batch size for eval\n",
    ")\n",
    "l1_unstruct_pruned_test_metrics_cpu = eval_model(\n",
    "    model=l1_unstruct_pruned_model,\n",
    "    test_dataset=cifar10_test_dataset,\n",
    "    device=\"cpu\",\n",
    "    use_amp=False,\n",
    "    dtype=torch.float32,\n",
    "    batch_size=32 # Using a consistent batch size for eval\n",
    ")"
   ]
  },
  {
   "cell_type": "code",
   "execution_count": 11,
   "id": "ce37c56e",
   "metadata": {},
   "outputs": [
    {
     "name": "stdout",
     "output_type": "stream",
     "text": [
      "FP32 Baseline Validation Accuracy (#CPU): 0.924\n",
      "FP32 Baseline Test Accuracy (CPU): 0.927\n",
      "FP32 Baseline Validation Time/Sample (CPU): 13.606402s\n",
      "FP32 Baseline Test Time/Sample (CPU): 14.197084s\n",
      "L1 Unstructured Pruned Validation Accuracy (CPU): 0.869\n",
      "L1 Unstructured Pruned Test Accuracy (CPU): 0.872\n",
      "L1 Unstructured Pruned Validation Time/Sample (CPU): 15.583120s\n",
      "L1 Unstructured Pruned Test Time/Sample (CPU): 15.474981s\n",
      "------------------------------\n",
      "PTQ INT8 (Baseline) Test Accuracy (CPU): 0.894, Test Time/Sample (CPU): 0.890765s\n",
      "QAT INT8 (Baseline) Test Accuracy (CPU): 0.867, Test Time/Sample (CPU): 1.400638s\n",
      "PTQ INT8 (Unstructured Pruning) Test Accuracy (CPU): 0.855, Test Time/Sample (CPU): 1.362727s\n",
      "QAT INT8 (Unstructured Pruning) Test Accuracy (CPU): 0.822, Test Time/Sample (CPU): 1.454445s\n"
     ]
    }
   ],
   "source": [
    "# Print metrics for the FP32 baseline model\n",
    "print(f\"FP32 Baseline Validation Accuracy (#CPU): {fp32_baseline_val_metrics_cpu['accuracy']:.3f}\")\n",
    "print(f\"FP32 Baseline Test Accuracy (CPU): {fp32_baseline_test_metrics_cpu['accuracy']:.3f}\")\n",
    "print(f\"FP32 Baseline Validation Time/Sample (CPU): {fp32_baseline_val_metrics_cpu['avg_time_per_sample']:.6f}s\")\n",
    "print(f\"FP32 Baseline Test Time/Sample (CPU): {fp32_baseline_test_metrics_cpu['avg_time_per_sample']:.6f}s\")\n",
    "\n",
    "# Print metrics for the L1 unstructured pruned model\n",
    "print (f\"L1 Unstructured Pruned Validation Accuracy (CPU): {l1_unstruct_pruned_val_metrics_cpu['accuracy']:.3f}\")\n",
    "print(f\"L1 Unstructured Pruned Test Accuracy (CPU): {l1_unstruct_pruned_test_metrics_cpu['accuracy']:.3f}\")\n",
    "print(f\"L1 Unstructured Pruned Validation Time/Sample (CPU): {l1_unstruct_pruned_val_metrics_cpu['avg_time_per_sample']:.6f}s\")\n",
    "print(f\"L1 Unstructured Pruned Test Time/Sample (CPU): {l1_unstruct_pruned_test_metrics_cpu['avg_time_per_sample']:.6f}s\")\n",
    "print(\"-\" * 30)\n",
    "\n",
    "# Print metrics for already evaluated quantized models for completeness\n",
    "# Baseline\n",
    "print(\"PTQ INT8 (Baseline) Test Accuracy (CPU): {:.3f}, Test Time/Sample (CPU): {:.6f}s\".format(\n",
    "    mobilenetv2_cifar10_ptq_int8_test_metrics['accuracy'],\n",
    "    mobilenetv2_cifar10_ptq_int8_test_metrics['avg_time_per_sample']\n",
    "))\n",
    "print(\"QAT INT8 (Baseline) Test Accuracy (CPU): {:.3f}, Test Time/Sample (CPU): {:.6f}s\".format(\n",
    "    mobilenetv2_cifar10_qat_int8_test_metrics['accuracy'],\n",
    "    mobilenetv2_cifar10_qat_int8_test_metrics['avg_time_per_sample'],\n",
    "))\n",
    "# Unstructured Pruning\n",
    "print(\"PTQ INT8 (Unstructured Pruning) Test Accuracy (CPU): {:.3f}, Test Time/Sample (CPU): {:.6f}s\".format(\n",
    "    mobilenetv2_cifar10_ptq_unstruct_test_metrics['accuracy'],\n",
    "    mobilenetv2_cifar10_ptq_unstruct_test_metrics['avg_time_per_sample']\n",
    "))\n",
    "print(\"QAT INT8 (Unstructured Pruning) Test Accuracy (CPU): {:.3f}, Test Time/Sample (CPU): {:.6f}s\".format(\n",
    "    mobilenetv2_cifar10_qat_unstruct_test_metrics['accuracy'],\n",
    "    mobilenetv2_cifar10_qat_unstruct_test_metrics['avg_time_per_sample'],\n",
    "))"
   ]
  },
  {
   "cell_type": "code",
   "execution_count": 12,
   "id": "f77918c3",
   "metadata": {},
   "outputs": [],
   "source": [
    "# Data for plotting\n",
    "model_names = [\n",
    "    \"FP32 Baseline\",\n",
    "    \"PTQ INT8 (Baseline)\",\n",
    "    \"QAT INT8 (Baseline)\",\n",
    "    \"FP32 L1 Unstructured Pruning\",\n",
    "    \"PTQ INT8 L1 Unstructured Pruning\",\n",
    "    \"QAT INT8 L1 Unstructured Pruning\"\n",
    "]\n",
    "\n",
    "val_accuracies = [\n",
    "    fp32_baseline_val_metrics_cpu['accuracy'],\n",
    "    mobilenetv2_cifar10_ptq_int8_val_metrics['accuracy'],\n",
    "    mobilenetv2_cifar10_qat_int8_val_metrics['accuracy'],\n",
    "    l1_unstruct_pruned_test_metrics_cpu['accuracy'],\n",
    "    mobilenetv2_cifar10_ptq_unstruct_val_metrics['accuracy'],\n",
    "    mobilenetv2_cifar10_qat_unstruct_val_metrics['accuracy'],\n",
    "]\n",
    "\n",
    "test_accuracies = [\n",
    "    fp32_baseline_test_metrics_cpu['accuracy'],\n",
    "    mobilenetv2_cifar10_ptq_int8_test_metrics['accuracy'],\n",
    "    mobilenetv2_cifar10_qat_int8_test_metrics['accuracy'],\n",
    "    l1_unstruct_pruned_test_metrics_cpu['accuracy'],\n",
    "    mobilenetv2_cifar10_ptq_unstruct_test_metrics['accuracy'],\n",
    "    mobilenetv2_cifar10_qat_unstruct_test_metrics['accuracy'],\n",
    "]\n",
    "\n",
    "cpu_time_per_sample_val = [\n",
    "    fp32_baseline_val_metrics_cpu['avg_time_per_sample'],\n",
    "    mobilenetv2_cifar10_ptq_int8_val_metrics['avg_time_per_sample'],\n",
    "    mobilenetv2_cifar10_qat_int8_val_metrics['avg_time_per_sample'],\n",
    "    l1_unstruct_pruned_val_metrics_cpu['avg_time_per_sample'],\n",
    "    mobilenetv2_cifar10_ptq_unstruct_val_metrics['avg_time_per_sample'],\n",
    "    mobilenetv2_cifar10_qat_unstruct_val_metrics['avg_time_per_sample']\n",
    "]\n",
    "\n",
    "cpu_time_per_sample_test = [\n",
    "    fp32_baseline_test_metrics_cpu['avg_time_per_sample'],\n",
    "    mobilenetv2_cifar10_ptq_int8_test_metrics['avg_time_per_sample'],\n",
    "    mobilenetv2_cifar10_qat_int8_test_metrics['avg_time_per_sample'],\n",
    "    l1_unstruct_pruned_test_metrics_cpu['avg_time_per_sample'],\n",
    "    mobilenetv2_cifar10_ptq_unstruct_test_metrics['avg_time_per_sample'],\n",
    "    mobilenetv2_cifar10_qat_unstruct_test_metrics['avg_time_per_sample']\n",
    "]\n",
    "\n",
    "total_params_mb_fn = lambda metrics, bits, pruning_amount: metrics['params_stats']['total_params'] * bits * (1 - pruning_amount) / 8 / (1024 * 1024)\n",
    "total_params_mb_val = [\n",
    "    total_params_mb_fn(fp32_baseline_val_metrics_cpu, 32, 0),\n",
    "    total_params_mb_fn(mobilenetv2_cifar10_ptq_int8_val_metrics, 8, 0),\n",
    "    total_params_mb_fn(mobilenetv2_cifar10_qat_int8_val_metrics, 8, 0),\n",
    "    total_params_mb_fn(l1_unstruct_pruned_val_metrics_cpu, 32, 0.7),  # L1 unstructured pruning baseline\n",
    "    total_params_mb_fn(mobilenetv2_cifar10_ptq_unstruct_val_metrics, 8, 0.7),\n",
    "    total_params_mb_fn(mobilenetv2_cifar10_qat_unstruct_val_metrics, 8, 0.7)\n",
    "]\n",
    "total_params_mb_test = [\n",
    "    total_params_mb_fn(fp32_baseline_test_metrics_cpu, 32, 0),\n",
    "    total_params_mb_fn(mobilenetv2_cifar10_ptq_int8_test_metrics, 8, 0),\n",
    "    total_params_mb_fn(mobilenetv2_cifar10_qat_int8_test_metrics, 8, 0),\n",
    "    total_params_mb_fn(l1_unstruct_pruned_test_metrics_cpu, 32, 0.7),  # L1 unstructured pruning baseline\n",
    "    total_params_mb_fn(mobilenetv2_cifar10_ptq_unstruct_test_metrics, 8, 0.7),\n",
    "    total_params_mb_fn(mobilenetv2_cifar10_qat_unstruct_test_metrics, 8, 0.7)\n",
    "]"
   ]
  },
  {
   "cell_type": "code",
   "execution_count": 13,
   "id": "fb740b21",
   "metadata": {},
   "outputs": [
    {
     "data": {
      "image/png": "[encoded data removed]",
      "text/plain": [
       "<Figure size 1200x800 with 1 Axes>"
      ]
     },
     "metadata": {},
     "output_type": "display_data"
    },
    {
     "data": {
      "image/png": "[encoded data removed]",
      "text/plain": [
       "<Figure size 1200x800 with 1 Axes>"
      ]
     },
     "metadata": {},
     "output_type": "display_data"
    }
   ],
   "source": [
    "plot_model_performance_scatter(\n",
    "    model_names=model_names,\n",
    "    test_accuracies=test_accuracies,\n",
    "    cpu_time_per_sample_test=cpu_time_per_sample_test,\n",
    "    total_params_mb_test=total_params_mb_test,\n",
    "    model_styles=[\n",
    "        {'color': 'blue', 'marker': 'o'},  # FP32 Baseline\n",
    "        {'color': 'blue', 'marker': 's'},  # PTQ INT8 (Baseline)\n",
    "        {'color': 'blue', 'marker': '^'},  # QAT INT8 (Baseline)\n",
    "        {'color': 'orange', 'marker': 'o'},  # FP32 L1 Unstructured Pruning\n",
    "        {'color': 'orange', 'marker': 's'},  # PTQ INT8 L1 Unstructured Pruning\n",
    "        {'color': 'orange', 'marker': '^'}   # QAT INT8 L1 Unstructured Pruning\n",
    "    ],\n",
    "    output_dir=None  # Set to a directory path to save plots, or None to show them\n",
    ")"
   ]
  },
  {
   "cell_type": "markdown",
   "id": "47be1ea1",
   "metadata": {},
   "source": [
    "## Conclusions"
   ]
  },
  {
   "cell_type": "markdown",
   "id": "c113ff63",
   "metadata": {},
   "source": [
    "* Not only the quantized model is smaller, but it also has a faster inference time on CPU.\n",
    "* PTQ is fast and easy to implement, but leads to a catastrophic accuracy drop.\n",
    "* QAT is more complex (e.g. hard to integrate with pruned models), but it leads to a much smaller accuracy drop compared to PTQ.\n",
    "* INT8 quantization is thus effective for reducing model size and improving inference speed (on CPU for now), while maintaining acceptable accuracy levels, especially when using QAT."
   ]
  }
 ],
 "metadata": {
  "kernelspec": {
   "display_name": ".venv",
   "language": "python",
   "name": "python3"
  },
  "language_info": {
   "codemirror_mode": {
    "name": "ipython",
    "version": 3
   },
   "file_extension": ".py",
   "mimetype": "text/x-python",
   "name": "python",
   "nbconvert_exporter": "python",
   "pygments_lexer": "ipython3",
   "version": "3.12.3"
  }
 },
 "nbformat": 4,
 "nbformat_minor": 5
}
