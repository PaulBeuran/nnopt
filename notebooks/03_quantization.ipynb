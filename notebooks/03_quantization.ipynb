{
 "cells": [
  {
   "cell_type": "markdown",
   "id": "35a11d12",
   "metadata": {},
   "source": [
    "# 3. Quantization\n",
    "\n",
    "This notebook demonstrates how to quantize a model to INT8 using `torch.quantization`. Quantization, and especially INT8 quantization, aims to transform a 32-bits floating-point model into a more efficient 8-bits integer representation, leading up to 4x smaller model size and faster inference times due to integer arithmetic.\n",
    "\n",
    "This is achieved by replacing the floating-point operations in the model with their integer counterparts. This requires a calibration step to determine the scale ($S$) and zero-point ($Z$) for each quantized tensor. The relationship between the real-world floating-point value ($r$) and its quantized integer representation ($q$) is given by:\n",
    "\n",
    "$q = \\text{round}(r / S) + Z$\n",
    "\n",
    "Conversely, the dequantized value ($r_{\\text{approx}}$) can be obtained by:\n",
    "\n",
    "$r_{\\text{approx}} = S \\cdot (q - Z)$\n",
    "\n",
    "The calibration process involves running inference on a representative dataset (the calibration dataset) to observe the range of activation values and determine appropriate $S$ and $Z$ values for each layer's weights and activations to minimize the loss of accuracy due to quantization.\n",
    "\n",
    "Quantization is applied to both the weights and activations of the model. The weights are quantized to INT8, while the activations can be quantized to either INT8 or UINT8, depending on the use case. The choice of quantization type (symmetric vs. asymmetric) also affects how $S$ and $Z$ are calculated.\n",
    "\n",
    "There are two main approaches to quantizing a model:\n",
    "\n",
    "* **Post-Training Quantization (PTQ):** This is the simpler approach where a pre-trained FP32 model is quantized without any retraining. It involves:\n",
    "    * Calibrating the model by feeding it a small, representative dataset (calibration data) to collect statistics (e.g., min/max ranges) of the weights and activations.\n",
    "    *   These statistics are then used to calculate the quantization parameters ($S$ and $Z$) for each layer.\n",
    "PTQ is fast and easy to implement but might lead to a more significant accuracy drop, especially for models sensitive to quantization.\n",
    "\n",
    "* **Quantization-Aware Training (QAT):** QAT simulates the quantization effects (noise and clamping) during the training or fine-tuning process. It inserts \"fake quantization\" modules into the model architecture. These modules mimic the quantization and dequantization steps during the forward pass, while the backward pass uses straight-through estimators (STE) to allow gradients to flow.\n",
    "The model learns to become robust to the quantization noise, often resulting in better accuracy compared to PTQ, but it requires access to the training pipeline and more computational resources.\n",
    "\n",
    "The choice of $S$ and $Z$ is crucial for minimizing the quantization error. Common methods include:\n",
    "\n",
    "* **Min-Max:** The simplest method. $S$ and $Z$ are determined by the minimum ($r_{\\text{min}}$) and maximum ($r_{\\text{max}}$) values observed in the tensor during calibration. Depending on how 0.0f maps to integers, the formulas are:\n",
    "    * For asymmetric quantization (where 0.0f might not map to an integer 0):\n",
    "        $S = (r_{\\text{max}} - r_{\\text{min}}) / (q_{\\text{max}} - q_{\\text{min}})$\n",
    "        $Z = q_{\\text{min}} - \\text{round}(r_{\\text{min}} / S)$\n",
    "        (where $q_{\\text{min}}$ and $q_{\\text{max}}$ are the min/max values of the target integer range, e.g., 0 and 255 for uint8, or -128 and 127 for int8).\n",
    "    * For symmetric quantization (where 0.0f maps to integer 0, so $Z=0$ for signed types or $Z$ is fixed for unsigned types):\n",
    "        $S = \\max(|r_{\\text{min}}|, |r_{\\text{max}}|) / \\text{range\\_limit}$\n",
    "        (e.g., `range_limit` is 127 for int8).\n",
    "This method is sensitive to outliers, as a single extreme value can significantly skew the range and thus the scale.\n",
    "\n",
    "* **Percentile:** Instead of using the absolute min/max, this method uses percentile values (e.g., 1st and 99th percentile, or 0.1th and 99.9th percentile) of the observed data range to determine $r_{\\text{min}}$ and $r_{\\text{max}}$. This helps to mitigate the impact of extreme outliers.\n",
    "\n",
    "* **Histogram (or KL-Divergence):** This method aims to find quantization parameters that minimize the information loss, often measured by the Kullback-Leibler (KL) divergence between the distribution of the original FP32 values and the dequantized INT8 values. It involves iterating through different clipping thresholds (which define the effective $r_{\\text{min}}$ and $r_{\\text{max}}$) and selecting the one that minimizes the KL divergence. This often provides a better trade-off between range coverage and quantization precision, especially when outliers are present.\n",
    "\n",
    "In this notebook, we will apply PTQ and QAT to a MobileNetV2 model adapted for the CIFAR-10 dataset, using the `torch.quantization` default modules and methods (histogram for activations, min-max for weights). We will compare the accuracy of the quantized model with the original FP32 model and observe the impact of quantization on model size and inference speed on CPU."
   ]
  },
  {
   "cell_type": "markdown",
   "id": "66f5c80c",
   "metadata": {},
   "source": [
    "# Setup"
   ]
  },
  {
   "cell_type": "code",
   "execution_count": null,
   "id": "f756debc",
   "metadata": {},
   "outputs": [
    {
     "name": "stderr",
     "output_type": "stream",
     "text": [
      "2025-06-13 15:32:00,074 - nnopt.recipes.mobilenetv2_cifar10 - INFO - Using device: cuda, dtype: torch.bfloat16\n"
     ]
    }
   ],
   "source": [
    "from typing import Any\n",
    "\n",
    "import torch\n",
    "\n",
    "from matplotlib import pyplot as plt\n",
    "\n",
    "from nnopt.model.eval import eval_model\n",
    "from nnopt.model.quant import post_training_quantization, quantization_aware_training\n",
    "from nnopt.model.const import DEVICE, DTYPE\n",
    "from nnopt.model.analysis import plot_model_performance_scatter\n",
    "\n",
    "from nnopt.recipes.mobilenetv2_cifar10 import load_mobilenetv2_cifar10_model, get_cifar10_datasets, save_mobilenetv2_cifar10_model, convert_mobilenetv2_cifar10_to_quantized, save_mobilenetv2_cifar10_model"
   ]
  },
  {
   "cell_type": "code",
   "execution_count": 2,
   "id": "4e3c28fc",
   "metadata": {},
   "outputs": [
    {
     "name": "stderr",
     "output_type": "stream",
     "text": [
      "2025-06-13 15:32:00,081 - nnopt.recipes.mobilenetv2_cifar10 - INFO - Loading existing training and validation datasets...\n",
      "2025-06-13 15:32:01,476 - nnopt.recipes.mobilenetv2_cifar10 - INFO - Loading existing test dataset...\n"
     ]
    }
   ],
   "source": [
    "# CIFAR-10 dataset\n",
    "cifar10_train_dataset, cifar10_val_dataset, cifar10_test_dataset = get_cifar10_datasets()"
   ]
  },
  {
   "cell_type": "code",
   "execution_count": 3,
   "id": "14136a65",
   "metadata": {},
   "outputs": [],
   "source": [
    "def ptq_mobilenetv2_cifar10(\n",
    "    version: str = \"mobilenetv2_cifar10/baseline\",\n",
    "    mode: str = \"model\"\n",
    ") -> tuple[torch.nn.Module, dict[str, Any], dict[str, Any]]:\n",
    "    \"\"\"\n",
    "    Post-training quantization of MobileNetV2 on CIFAR-10.\n",
    "    \"\"\"\n",
    "    # Load the baseline model\n",
    "    mobilenetv2_cifar10_quant, mobilenetv2_cifar10_metadata = load_mobilenetv2_cifar10_model(version=version, mode=mode, convert_to_quantized=True)\n",
    "\n",
    "    # Post-training quantization\n",
    "    mobilenetv2_cifar10_ptq_int8 = post_training_quantization(\n",
    "        model=convert_mobilenetv2_cifar10_to_quantized(mobilenetv2_cifar10_quant),\n",
    "        val_dataset=cifar10_val_dataset,\n",
    "        num_calibration_batches=100,\n",
    "        batch_size=32,\n",
    "    )\n",
    "\n",
    "    # Evaluate the quantized model\n",
    "    val_metrics = eval_model(\n",
    "        model=mobilenetv2_cifar10_ptq_int8,\n",
    "        test_dataset=cifar10_val_dataset,\n",
    "        device=\"cpu\",\n",
    "        use_amp=False,\n",
    "        dtype=torch.float32,\n",
    "    )\n",
    "    test_metrics = eval_model(\n",
    "        model=mobilenetv2_cifar10_ptq_int8,\n",
    "        test_dataset=cifar10_test_dataset,\n",
    "        device=\"cpu\",\n",
    "        use_amp=False,\n",
    "        dtype=torch.float32,\n",
    "    )\n",
    "\n",
    "    mobilenetv2_cifar10_val_accuracy_quantized = val_metrics[\"accuracy\"]\n",
    "    mobilenetv2_cifar10_test_accuracy_quantized = test_metrics[\"accuracy\"]\n",
    "\n",
    "    print(f\"Validation accuracy of MobileNetV2 on CIFAR-10 (quantized): {mobilenetv2_cifar10_val_accuracy_quantized:.2f}\")\n",
    "    print(f\"Test accuracy of MobileNetV2 on CIFAR-10 (quantized): {mobilenetv2_cifar10_test_accuracy_quantized:.2f}\")\n",
    "\n",
    "    # Save the quantized model\n",
    "    sub_version = version.split(\"/\")[-1]\n",
    "    save_mobilenetv2_cifar10_model(\n",
    "        model=mobilenetv2_cifar10_ptq_int8,\n",
    "        version=f\"mobilenetv2_cifar10/int8/ptq_{sub_version}\",\n",
    "        metrics_values=val_metrics,\n",
    "        unstruct_sparse_config=mobilenetv2_cifar10_metadata.get(\"unstruct_sparse_config\", None),\n",
    "    )\n",
    "\n",
    "    return mobilenetv2_cifar10_ptq_int8, val_metrics, test_metrics"
   ]
  },
  {
   "cell_type": "code",
   "execution_count": 4,
   "id": "b30a3734",
   "metadata": {},
   "outputs": [],
   "source": [
    "def qat_mobilenetv2_cifar10(\n",
    "    version: str = \"mobilenetv2_cifar10/baseline\",\n",
    ") -> tuple[torch.nn.Module, dict[str, Any], dict[str, Any]]:\n",
    "    \"\"\"\n",
    "    Quantization-aware training of MobileNetV2 on CIFAR-10.\n",
    "    \"\"\"\n",
    "    # Load the baseline model\n",
    "    mobilenetv2_cifar10_quant, mobilenetv2_cifar10_metadata = load_mobilenetv2_cifar10_model(version=version, convert_to_quantized=True)\n",
    "\n",
    "    # Quantization-aware training\n",
    "    mobilenetv2_cifar10_qat_int8 = quantization_aware_training(\n",
    "        model=mobilenetv2_cifar10_quant,\n",
    "        train_dataset=cifar10_train_dataset,\n",
    "        val_dataset=cifar10_val_dataset,\n",
    "        epochs=5,\n",
    "        batch_size=64,\n",
    "        training_device=DEVICE\n",
    "    )\n",
    "\n",
    "    # Evaluate the quantized model\n",
    "    val_metrics = eval_model(\n",
    "        model=mobilenetv2_cifar10_qat_int8,\n",
    "        test_dataset=cifar10_val_dataset,\n",
    "        device=\"cpu\",\n",
    "        use_amp=False,\n",
    "        dtype=torch.float32,\n",
    "    )\n",
    "    test_metrics = eval_model(\n",
    "        model=mobilenetv2_cifar10_qat_int8,\n",
    "        test_dataset=cifar10_test_dataset,\n",
    "        device=\"cpu\",\n",
    "        use_amp=False,\n",
    "        dtype=torch.float32,\n",
    "    )\n",
    "\n",
    "    mobilenetv2_cifar10_val_accuracy_quantized = val_metrics[\"accuracy\"]\n",
    "    mobilenetv2_cifar10_test_accuracy_quantized = test_metrics[\"accuracy\"]\n",
    "\n",
    "    print(f\"Validation accuracy of MobileNetV2 on CIFAR-10 (quantized): {mobilenetv2_cifar10_val_accuracy_quantized:.2f}\")\n",
    "    print(f\"Test accuracy of MobileNetV2 on CIFAR-10 (quantized): {mobilenetv2_cifar10_test_accuracy_quantized:.2f}\")\n",
    "\n",
    "    # Save the quantized model\n",
    "    sub_version = version.split(\"/\")[-1]\n",
    "    save_mobilenetv2_cifar10_model(\n",
    "        model=mobilenetv2_cifar10_qat_int8,\n",
    "        version=f\"mobilenetv2_cifar10/int8/qat_{sub_version}\",\n",
    "        metrics_values=val_metrics,\n",
    "        unstruct_sparse_config=mobilenetv2_cifar10_metadata.get(\"unstruct_sparse_config\", None),\n",
    "    )\n",
    "    return mobilenetv2_cifar10_qat_int8, val_metrics, test_metrics"
   ]
  },
  {
   "cell_type": "markdown",
   "id": "2dc1e5a1",
   "metadata": {},
   "source": [
    "# Post-Training Quantization (PTQ)"
   ]
  },
  {
   "cell_type": "markdown",
   "id": "1fdeb92b",
   "metadata": {},
   "source": [
    "## Baseline Model"
   ]
  },
  {
   "cell_type": "code",
   "execution_count": 5,
   "id": "4ad609f6",
   "metadata": {},
   "outputs": [
    {
     "name": "stderr",
     "output_type": "stream",
     "text": [
      "2025-06-13 15:32:01,641 - nnopt.recipes.mobilenetv2_cifar10 - INFO - Loading MobileNetV2 model for CIFAR-10 from version: mobilenetv2_cifar10/fp32/baseline at /home/pbeuran/repos/nnopt/models\n",
      "2025-06-13 15:32:01,642 - nnopt.recipes.mobilenetv2_cifar10 - INFO - Loaded metadata: {'metrics_values': {'val_metrics': {'accuracy': 0.9254, 'avg_loss': 0.21455251355171204, 'samples_per_second': 9594.238581494608, 'avg_time_per_batch': 0.006596786050597328, 'avg_time_per_sample': 0.00010422921959943779, 'params_stats': {'int_weight_params': 0, 'float_weight_params': 2202560, 'float_bias_params': 10, 'bn_param_params': 34112, 'other_float_params': 0, 'total_params': 2236682, 'approx_memory_mb_for_params': 8.532264709472656}}, 'test_metrics': {'accuracy': 0.9288, 'avg_loss': 0.20640371625423432, 'samples_per_second': 9116.575566348814, 'avg_time_per_batch': 0.006986643948966146, 'avg_time_per_sample': 0.00010969030999876849, 'params_stats': {'int_weight_params': 0, 'float_weight_params': 2202560, 'float_bias_params': 10, 'bn_param_params': 34112, 'other_float_params': 0, 'total_params': 2236682, 'approx_memory_mb_for_params': 8.532264709472656}}}}\n",
      "2025-06-13 15:32:01,642 - nnopt.recipes.mobilenetv2_cifar10 - INFO - Loading model from /home/pbeuran/repos/nnopt/models/mobilenetv2_cifar10/fp32/baseline/model.pt\n",
      "2025-06-13 15:32:01,833 - nnopt.recipes.mobilenetv2_cifar10 - INFO - Converting model to quantized version...\n",
      "2025-06-13 15:32:01,833 - nnopt.recipes.mobilenetv2_cifar10 - INFO - Loading MobileNetV2 model with weights: None, to_quantize: True, is_quantized: False\n",
      "2025-06-13 15:32:01,864 - nnopt.recipes.mobilenetv2_cifar10 - INFO - Replacing head of the model to match 10 classes\n",
      "2025-06-13 15:32:01,881 - nnopt.recipes.mobilenetv2_cifar10 - INFO - Model converted to quantized version.\n",
      "2025-06-13 15:32:01,881 - nnopt.recipes.mobilenetv2_cifar10 - INFO - Loading MobileNetV2 model with weights: None, to_quantize: True, is_quantized: False\n",
      "2025-06-13 15:32:01,910 - nnopt.recipes.mobilenetv2_cifar10 - INFO - Replacing head of the model to match 10 classes\n",
      "2025-06-13 15:32:01,917 - nnopt.model.quant - INFO - Starting in-place post-training quantization...\n",
      "2025-06-13 15:32:01,919 - nnopt.model.quant - INFO - Attempting to remove pruning reparameterization...\n",
      "2025-06-13 15:32:01,919 - nnopt.model.prune - INFO - Making pruning permanent by removing reparameterization...\n",
      "2025-06-13 15:32:01,920 - nnopt.model.prune - WARNING - No pruning reparameterization was removed. Was the model pruned?\n",
      "2025-06-13 15:32:01,920 - nnopt.model.quant - INFO - Pruning reparameterization removal step completed.\n",
      "2025-06-13 15:32:01,921 - nnopt.model.quant - INFO - Attempting to fuse model modules...\n",
      "2025-06-13 15:32:01,933 - nnopt.model.quant - INFO - Model fusion step completed.\n",
      "2025-06-13 15:32:01,933 - nnopt.model.quant - INFO - Preparing model for quantization (inserting observers)...\n",
      "/home/pbeuran/repos/nnopt/.venv/lib/python3.12/site-packages/torch/ao/quantization/observer.py:244: UserWarning: Please use quant_min and quant_max to specify the range for observers.                     reduce_range will be deprecated in a future release of PyTorch.\n",
      "  warnings.warn(\n",
      "2025-06-13 15:32:01,960 - nnopt.model.quant - INFO - Model prepared for quantization.\n",
      "2025-06-13 15:32:01,960 - nnopt.model.quant - INFO - Starting calibration with 100 batches...\n",
      "100%|██████████| 100/100 [00:14<00:00,  7.09it/s]\n",
      "2025-06-13 15:32:16,207 - nnopt.model.quant - INFO - Calibration completed over 100 batches.\n",
      "2025-06-13 15:32:16,208 - nnopt.model.quant - INFO - Converting model to quantized version...\n",
      "/home/pbeuran/repos/nnopt/.venv/lib/python3.12/site-packages/torch/ao/quantization/observer.py:1333: UserWarning: must run observer before calling calculate_qparams.                                    Returning default scale and zero point \n",
      "  warnings.warn(\n",
      "2025-06-13 15:32:16,585 - nnopt.model.quant - INFO - Model quantization completed.\n",
      "2025-06-13 15:32:16,586 - nnopt.model.quant - INFO - Starting evaluation of the quantized model...\n",
      "2025-06-13 15:32:16,586 - nnopt.model.eval - INFO - Starting evaluation on device: cpu, dtype: torch.float32, batch size: 32\n",
      "2025-06-13 15:32:16,587 - nnopt.model.eval - INFO - Starting warmup for 5 batches...\n",
      "[Warmup]: 100%|██████████| 5/5 [00:00<00:00, 12.49it/s]\n",
      "2025-06-13 15:32:17,062 - nnopt.model.eval - INFO - Warmup complete.\n",
      "[Evaluation]: 100%|██████████| 157/157 [00:06<00:00, 22.90it/s, acc=0.8994, cpu=41.7%, loss=0.8519, ram=7.1/30.9GB (28.5%), samples/s=711.8]\n",
      "2025-06-13 15:32:23,939 - nnopt.model.quant - INFO - Post-training quantization metrics: {'accuracy': 0.8994, 'avg_loss': 0.28536900372505186, 'samples_per_second': 785.4555473339169, 'avg_time_per_batch': 0.040546067649609156, 'avg_time_per_sample': 0.0012731465241977275, 'params_stats': {'int_weight_params': 2202560, 'float_weight_params': 0, 'float_bias_params': 17066, 'bn_param_params': 0, 'other_float_params': 0, 'total_params': 2219626, 'approx_memory_mb_for_params': 2.1656265258789062}}\n",
      "2025-06-13 15:32:23,939 - nnopt.model.eval - INFO - Starting evaluation on device: cpu, dtype: torch.float32, batch size: 32\n",
      "2025-06-13 15:32:23,941 - nnopt.model.eval - INFO - Starting warmup for 5 batches...\n"
     ]
    },
    {
     "name": "stdout",
     "output_type": "stream",
     "text": [
      "Evaluation Complete: Avg Loss: 0.2854, Accuracy: 0.8994\n",
      "Throughput: 785.46 samples/sec | Avg Batch Time: 40.55 ms | Avg Sample Time: 1.27 ms\n",
      "System Stats: CPU Usage: 17.60% | RAM Usage: 6.9/30.9GB (27.9%)\n"
     ]
    },
    {
     "name": "stderr",
     "output_type": "stream",
     "text": [
      "[Warmup]: 100%|██████████| 5/5 [00:00<00:00, 13.95it/s]\n",
      "2025-06-13 15:32:24,380 - nnopt.model.eval - INFO - Warmup complete.\n",
      "[Evaluation]: 100%|██████████| 157/157 [00:07<00:00, 21.61it/s, acc=0.8994, cpu=46.4%, loss=0.8519, ram=7.1/30.9GB (28.4%), samples/s=953.2]\n",
      "2025-06-13 15:32:31,659 - nnopt.model.eval - INFO - Starting evaluation on device: cpu, dtype: torch.float32, batch size: 32\n",
      "2025-06-13 15:32:31,661 - nnopt.model.eval - INFO - Starting warmup for 5 batches...\n"
     ]
    },
    {
     "name": "stdout",
     "output_type": "stream",
     "text": [
      "Evaluation Complete: Avg Loss: 0.2854, Accuracy: 0.8994\n",
      "Throughput: 737.75 samples/sec | Avg Batch Time: 43.17 ms | Avg Sample Time: 1.36 ms\n",
      "System Stats: CPU Usage: 14.60% | RAM Usage: 7.0/30.9GB (27.9%)\n"
     ]
    },
    {
     "name": "stderr",
     "output_type": "stream",
     "text": [
      "[Warmup]: 100%|██████████| 5/5 [00:00<00:00, 13.18it/s]\n",
      "2025-06-13 15:32:32,119 - nnopt.model.eval - INFO - Warmup complete.\n",
      "[Evaluation]: 100%|██████████| 313/313 [00:17<00:00, 18.07it/s, acc=0.9013, cpu=44.1%, loss=0.1563, ram=7.1/30.9GB (28.4%), samples/s=895.0]\n",
      "2025-06-13 15:32:49,481 - nnopt.recipes.mobilenetv2_cifar10 - INFO - Model saved to /home/pbeuran/repos/nnopt/models/mobilenetv2_cifar10/int8/ptq_baseline/model.pt\n",
      "2025-06-13 15:32:49,499 - nnopt.recipes.mobilenetv2_cifar10 - INFO - Model state_dict saved to /home/pbeuran/repos/nnopt/models/mobilenetv2_cifar10/int8/ptq_baseline/state_dict.pt\n",
      "2025-06-13 15:32:49,500 - nnopt.recipes.mobilenetv2_cifar10 - INFO - Metadata saved to /home/pbeuran/repos/nnopt/models/mobilenetv2_cifar10/int8/ptq_baseline/metadata.json\n",
      "2025-06-13 15:32:49,501 - nnopt.model.prune - INFO - Making pruning permanent by removing reparameterization...\n",
      "2025-06-13 15:32:49,501 - nnopt.model.prune - WARNING - No pruning reparameterization was removed. Was the model pruned?\n",
      "2025-06-13 15:32:49,502 - nnopt.recipes.mobilenetv2_cifar10 - INFO - Saving model in JIT script format...\n"
     ]
    },
    {
     "name": "stdout",
     "output_type": "stream",
     "text": [
      "Evaluation Complete: Avg Loss: 0.2754, Accuracy: 0.9013\n",
      "Throughput: 725.97 samples/sec | Avg Batch Time: 44.01 ms | Avg Sample Time: 1.38 ms\n",
      "System Stats: CPU Usage: 15.60% | RAM Usage: 6.9/30.9GB (27.9%)\n",
      "Validation accuracy of MobileNetV2 on CIFAR-10 (quantized): 0.90\n",
      "Test accuracy of MobileNetV2 on CIFAR-10 (quantized): 0.90\n"
     ]
    },
    {
     "name": "stderr",
     "output_type": "stream",
     "text": [
      "2025-06-13 15:32:49,797 - nnopt.recipes.mobilenetv2_cifar10 - INFO - JIT script model saved to /home/pbeuran/repos/nnopt/models/mobilenetv2_cifar10/int8/ptq_baseline/jit_script.pt\n",
      "2025-06-13 15:32:49,797 - nnopt.recipes.mobilenetv2_cifar10 - INFO - Saving model in JIT trace format...\n",
      "2025-06-13 15:32:50,696 - nnopt.recipes.mobilenetv2_cifar10 - INFO - JIT model saved to /home/pbeuran/repos/nnopt/models/mobilenetv2_cifar10/int8/ptq_baseline/jit_trace.pt\n"
     ]
    }
   ],
   "source": [
    "mobilenetv2_cifar10_ptq_int8, mobilenetv2_cifar10_ptq_int8_val_metrics, mobilenetv2_cifar10_ptq_int8_test_metrics = ptq_mobilenetv2_cifar10(\n",
    "    version=\"mobilenetv2_cifar10/fp32/baseline\",\n",
    ")"
   ]
  },
  {
   "cell_type": "markdown",
   "id": "05c4156b",
   "metadata": {},
   "source": [
    "## L1 Unstructured Pruning"
   ]
  },
  {
   "cell_type": "code",
   "execution_count": 6,
   "id": "fee65dcf",
   "metadata": {},
   "outputs": [
    {
     "name": "stderr",
     "output_type": "stream",
     "text": [
      "2025-06-13 15:32:50,707 - nnopt.recipes.mobilenetv2_cifar10 - INFO - Loading MobileNetV2 model for CIFAR-10 from version: mobilenetv2_cifar10/fp32/l1_unstruct_prune_0.7 at /home/pbeuran/repos/nnopt/models\n",
      "2025-06-13 15:32:50,709 - nnopt.recipes.mobilenetv2_cifar10 - INFO - Loaded metadata: {'unstructured_sparse_config': {'pruning_amount': 0.7}, 'metrics_values': {'val_metrics': {'accuracy': 0.871, 'avg_loss': 0.3521343002319336, 'samples_per_second': 8535.882614956985, 'avg_time_per_batch': 0.007414715278488546, 'avg_time_per_sample': 0.00011715250140011903, 'params_stats': {'int_weight_params': 0, 'float_weight_params': 2202560, 'float_bias_params': 10, 'bn_param_params': 34112, 'other_float_params': 0, 'total_params': 2236682, 'approx_memory_mb_for_params': 8.532264709472656}}, 'test_metrics': {'accuracy': 0.8729, 'avg_loss': 0.3661128273010254, 'samples_per_second': 8581.675884406815, 'avg_time_per_batch': 0.007422124579612489, 'avg_time_per_sample': 0.00011652735589991607, 'params_stats': {'int_weight_params': 0, 'float_weight_params': 2202560, 'float_bias_params': 10, 'bn_param_params': 34112, 'other_float_params': 0, 'total_params': 2236682, 'approx_memory_mb_for_params': 8.532264709472656}}}}\n",
      "2025-06-13 15:32:50,709 - nnopt.recipes.mobilenetv2_cifar10 - INFO - Loading model from /home/pbeuran/repos/nnopt/models/mobilenetv2_cifar10/fp32/l1_unstruct_prune_0.7/model.pt\n",
      "2025-06-13 15:32:50,792 - nnopt.recipes.mobilenetv2_cifar10 - INFO - Converting model to quantized version...\n",
      "2025-06-13 15:32:50,793 - nnopt.recipes.mobilenetv2_cifar10 - INFO - Loading MobileNetV2 model with weights: None, to_quantize: True, is_quantized: False\n",
      "2025-06-13 15:32:50,820 - nnopt.recipes.mobilenetv2_cifar10 - INFO - Replacing head of the model to match 10 classes\n",
      "2025-06-13 15:32:50,841 - nnopt.recipes.mobilenetv2_cifar10 - INFO - Model converted to quantized version.\n",
      "2025-06-13 15:32:50,842 - nnopt.recipes.mobilenetv2_cifar10 - INFO - Loading MobileNetV2 model with weights: None, to_quantize: True, is_quantized: False\n",
      "2025-06-13 15:32:50,869 - nnopt.recipes.mobilenetv2_cifar10 - INFO - Replacing head of the model to match 10 classes\n",
      "2025-06-13 15:32:50,876 - nnopt.model.quant - INFO - Starting in-place post-training quantization...\n",
      "2025-06-13 15:32:50,878 - nnopt.model.quant - INFO - Attempting to remove pruning reparameterization...\n",
      "2025-06-13 15:32:50,878 - nnopt.model.prune - INFO - Making pruning permanent by removing reparameterization...\n",
      "2025-06-13 15:32:50,879 - nnopt.model.prune - WARNING - No pruning reparameterization was removed. Was the model pruned?\n",
      "2025-06-13 15:32:50,879 - nnopt.model.quant - INFO - Pruning reparameterization removal step completed.\n",
      "2025-06-13 15:32:50,879 - nnopt.model.quant - INFO - Attempting to fuse model modules...\n",
      "2025-06-13 15:32:50,891 - nnopt.model.quant - INFO - Model fusion step completed.\n",
      "2025-06-13 15:32:50,892 - nnopt.model.quant - INFO - Preparing model for quantization (inserting observers)...\n",
      "2025-06-13 15:32:50,923 - nnopt.model.quant - INFO - Model prepared for quantization.\n",
      "2025-06-13 15:32:50,924 - nnopt.model.quant - INFO - Starting calibration with 100 batches...\n",
      "100%|██████████| 100/100 [00:10<00:00,  9.37it/s]\n",
      "2025-06-13 15:33:01,760 - nnopt.model.quant - INFO - Calibration completed over 100 batches.\n",
      "2025-06-13 15:33:01,761 - nnopt.model.quant - INFO - Converting model to quantized version...\n",
      "2025-06-13 15:33:02,167 - nnopt.model.quant - INFO - Model quantization completed.\n",
      "2025-06-13 15:33:02,168 - nnopt.model.quant - INFO - Starting evaluation of the quantized model...\n",
      "2025-06-13 15:33:02,168 - nnopt.model.eval - INFO - Starting evaluation on device: cpu, dtype: torch.float32, batch size: 32\n",
      "2025-06-13 15:33:02,169 - nnopt.model.eval - INFO - Starting warmup for 5 batches...\n",
      "[Warmup]: 100%|██████████| 5/5 [00:00<00:00, 14.37it/s]\n",
      "2025-06-13 15:33:02,592 - nnopt.model.eval - INFO - Warmup complete.\n",
      "[Evaluation]: 100%|██████████| 157/157 [00:07<00:00, 21.98it/s, acc=0.8504, cpu=57.1%, loss=1.0104, ram=7.2/30.9GB (28.9%), samples/s=872.8]\n",
      "2025-06-13 15:33:09,753 - nnopt.model.quant - INFO - Post-training quantization metrics: {'accuracy': 0.8504, 'avg_loss': 0.4302297712802887, 'samples_per_second': 747.8290344777233, 'avg_time_per_batch': 0.042586115662390026, 'avg_time_per_sample': 0.0013372040317990467, 'params_stats': {'int_weight_params': 2202560, 'float_weight_params': 0, 'float_bias_params': 17066, 'bn_param_params': 0, 'other_float_params': 0, 'total_params': 2219626, 'approx_memory_mb_for_params': 2.1656265258789062}}\n",
      "2025-06-13 15:33:09,754 - nnopt.model.eval - INFO - Starting evaluation on device: cpu, dtype: torch.float32, batch size: 32\n",
      "2025-06-13 15:33:09,755 - nnopt.model.eval - INFO - Starting warmup for 5 batches...\n"
     ]
    },
    {
     "name": "stdout",
     "output_type": "stream",
     "text": [
      "Evaluation Complete: Avg Loss: 0.4302, Accuracy: 0.8504\n",
      "Throughput: 747.83 samples/sec | Avg Batch Time: 42.59 ms | Avg Sample Time: 1.34 ms\n",
      "System Stats: CPU Usage: 17.10% | RAM Usage: 7.0/30.9GB (28.2%)\n"
     ]
    },
    {
     "name": "stderr",
     "output_type": "stream",
     "text": [
      "[Warmup]: 100%|██████████| 5/5 [00:00<00:00, 13.38it/s]\n",
      "2025-06-13 15:33:10,217 - nnopt.model.eval - INFO - Warmup complete.\n",
      "[Evaluation]: 100%|██████████| 157/157 [00:07<00:00, 21.29it/s, acc=0.8504, cpu=48.7%, loss=1.0104, ram=7.2/30.9GB (28.9%), samples/s=721.1]\n",
      "2025-06-13 15:33:17,610 - nnopt.model.eval - INFO - Starting evaluation on device: cpu, dtype: torch.float32, batch size: 32\n",
      "2025-06-13 15:33:17,612 - nnopt.model.eval - INFO - Starting warmup for 5 batches...\n"
     ]
    },
    {
     "name": "stdout",
     "output_type": "stream",
     "text": [
      "Evaluation Complete: Avg Loss: 0.4302, Accuracy: 0.8504\n",
      "Throughput: 726.97 samples/sec | Avg Batch Time: 43.81 ms | Avg Sample Time: 1.38 ms\n",
      "System Stats: CPU Usage: 13.90% | RAM Usage: 7.0/30.9GB (28.2%)\n"
     ]
    },
    {
     "name": "stderr",
     "output_type": "stream",
     "text": [
      "[Warmup]: 100%|██████████| 5/5 [00:00<00:00, 12.77it/s]\n",
      "2025-06-13 15:33:18,085 - nnopt.model.eval - INFO - Warmup complete.\n",
      "[Evaluation]: 100%|██████████| 313/313 [00:17<00:00, 17.99it/s, acc=0.8503, cpu=56.7%, loss=0.3030, ram=7.1/30.9GB (28.5%), samples/s=989.9]\n",
      "2025-06-13 15:33:35,527 - nnopt.recipes.mobilenetv2_cifar10 - INFO - Model saved to /home/pbeuran/repos/nnopt/models/mobilenetv2_cifar10/int8/ptq_l1_unstruct_prune_0.7/model.pt\n",
      "2025-06-13 15:33:35,545 - nnopt.recipes.mobilenetv2_cifar10 - INFO - Model state_dict saved to /home/pbeuran/repos/nnopt/models/mobilenetv2_cifar10/int8/ptq_l1_unstruct_prune_0.7/state_dict.pt\n",
      "2025-06-13 15:33:35,546 - nnopt.recipes.mobilenetv2_cifar10 - INFO - Metadata saved to /home/pbeuran/repos/nnopt/models/mobilenetv2_cifar10/int8/ptq_l1_unstruct_prune_0.7/metadata.json\n",
      "2025-06-13 15:33:35,547 - nnopt.model.prune - INFO - Making pruning permanent by removing reparameterization...\n",
      "2025-06-13 15:33:35,547 - nnopt.model.prune - WARNING - No pruning reparameterization was removed. Was the model pruned?\n",
      "2025-06-13 15:33:35,548 - nnopt.recipes.mobilenetv2_cifar10 - INFO - Saving model in JIT script format...\n"
     ]
    },
    {
     "name": "stdout",
     "output_type": "stream",
     "text": [
      "Evaluation Complete: Avg Loss: 0.4450, Accuracy: 0.8503\n",
      "Throughput: 722.23 samples/sec | Avg Batch Time: 44.24 ms | Avg Sample Time: 1.38 ms\n",
      "System Stats: CPU Usage: 16.40% | RAM Usage: 6.9/30.9GB (27.9%)\n",
      "Validation accuracy of MobileNetV2 on CIFAR-10 (quantized): 0.85\n",
      "Test accuracy of MobileNetV2 on CIFAR-10 (quantized): 0.85\n"
     ]
    },
    {
     "name": "stderr",
     "output_type": "stream",
     "text": [
      "2025-06-13 15:33:35,822 - nnopt.recipes.mobilenetv2_cifar10 - INFO - JIT script model saved to /home/pbeuran/repos/nnopt/models/mobilenetv2_cifar10/int8/ptq_l1_unstruct_prune_0.7/jit_script.pt\n",
      "2025-06-13 15:33:35,823 - nnopt.recipes.mobilenetv2_cifar10 - INFO - Saving model in JIT trace format...\n",
      "2025-06-13 15:33:36,526 - nnopt.recipes.mobilenetv2_cifar10 - INFO - JIT model saved to /home/pbeuran/repos/nnopt/models/mobilenetv2_cifar10/int8/ptq_l1_unstruct_prune_0.7/jit_trace.pt\n"
     ]
    }
   ],
   "source": [
    "mobilenetv2_cifar10_ptq_unstruct_prune, mobilenetv2_cifar10_ptq_unstruct_val_metrics, mobilenetv2_cifar10_ptq_unstruct_test_metrics = ptq_mobilenetv2_cifar10(\n",
    "    version=\"mobilenetv2_cifar10/fp32/l1_unstruct_prune_0.7\"\n",
    ")"
   ]
  },
  {
   "cell_type": "markdown",
   "id": "922b6e93",
   "metadata": {},
   "source": [
    "# Quantization-Aware Training (QAT)"
   ]
  },
  {
   "cell_type": "markdown",
   "id": "acafe863",
   "metadata": {},
   "source": [
    "## Baseline Model"
   ]
  },
  {
   "cell_type": "code",
   "execution_count": 7,
   "id": "20c7894b",
   "metadata": {},
   "outputs": [
    {
     "name": "stderr",
     "output_type": "stream",
     "text": [
      "2025-06-13 15:33:36,538 - nnopt.recipes.mobilenetv2_cifar10 - INFO - Loading MobileNetV2 model for CIFAR-10 from version: mobilenetv2_cifar10/fp32/baseline at /home/pbeuran/repos/nnopt/models\n",
      "2025-06-13 15:33:36,539 - nnopt.recipes.mobilenetv2_cifar10 - INFO - Loaded metadata: {'metrics_values': {'val_metrics': {'accuracy': 0.9254, 'avg_loss': 0.21455251355171204, 'samples_per_second': 9594.238581494608, 'avg_time_per_batch': 0.006596786050597328, 'avg_time_per_sample': 0.00010422921959943779, 'params_stats': {'int_weight_params': 0, 'float_weight_params': 2202560, 'float_bias_params': 10, 'bn_param_params': 34112, 'other_float_params': 0, 'total_params': 2236682, 'approx_memory_mb_for_params': 8.532264709472656}}, 'test_metrics': {'accuracy': 0.9288, 'avg_loss': 0.20640371625423432, 'samples_per_second': 9116.575566348814, 'avg_time_per_batch': 0.006986643948966146, 'avg_time_per_sample': 0.00010969030999876849, 'params_stats': {'int_weight_params': 0, 'float_weight_params': 2202560, 'float_bias_params': 10, 'bn_param_params': 34112, 'other_float_params': 0, 'total_params': 2236682, 'approx_memory_mb_for_params': 8.532264709472656}}}}\n",
      "2025-06-13 15:33:36,540 - nnopt.recipes.mobilenetv2_cifar10 - INFO - Loading model from /home/pbeuran/repos/nnopt/models/mobilenetv2_cifar10/fp32/baseline/model.pt\n",
      "2025-06-13 15:33:36,617 - nnopt.recipes.mobilenetv2_cifar10 - INFO - Converting model to quantized version...\n",
      "2025-06-13 15:33:36,617 - nnopt.recipes.mobilenetv2_cifar10 - INFO - Loading MobileNetV2 model with weights: None, to_quantize: True, is_quantized: False\n",
      "2025-06-13 15:33:36,647 - nnopt.recipes.mobilenetv2_cifar10 - INFO - Replacing head of the model to match 10 classes\n",
      "2025-06-13 15:33:36,668 - nnopt.recipes.mobilenetv2_cifar10 - INFO - Model converted to quantized version.\n",
      "2025-06-13 15:33:36,669 - nnopt.model.quant - INFO - Preparing model for quantization-aware training...\n",
      "2025-06-13 15:33:36,671 - nnopt.model.quant - INFO - Attempting to fuse model modules...\n",
      "2025-06-13 15:33:36,673 - nnopt.model.quant - INFO - Model fusion step completed.\n",
      "2025-06-13 15:33:36,673 - nnopt.model.quant - INFO - Making pruning permanent (if model was pruned) before INT8 conversion...\n",
      "2025-06-13 15:33:36,673 - nnopt.model.prune - INFO - Making pruning permanent by removing reparameterization...\n",
      "2025-06-13 15:33:36,674 - nnopt.model.prune - WARNING - No pruning reparameterization was removed. Was the model pruned?\n",
      "2025-06-13 15:33:36,674 - nnopt.model.quant - INFO - Pruning reparameterization removed.\n",
      "2025-06-13 15:33:36,675 - nnopt.model.quant - INFO - Preparing model for QAT (inserting FakeQuantize modules)...\n",
      "2025-06-13 15:33:36,814 - nnopt.model.quant - INFO - Model prepared for quantization-aware training.\n",
      "2025-06-13 15:33:36,815 - nnopt.model.quant - INFO - Starting quantization-aware training for 5 epochs on cuda...\n",
      "Epoch 1/5 [Training]: 100%|██████████| 704/704 [01:19<00:00,  8.83it/s, acc=0.6451, cpu=3.3%, gpu_mem=14.4/24.0GB (60.0%), gpu_util=76.0%, loss=0.5899, ram=7.8/30.9GB (32.5%), samples/s=97.8]  \n",
      "Epoch 1/5 [Validation]: 100%|██████████| 79/79 [00:04<00:00, 19.70it/s, acc=0.7796, cpu=3.2%, gpu_mem=14.4/24.0GB (60.0%), gpu_util=53.0%, loss=1.7506, ram=7.7/30.9GB (32.1%), samples/s=288.7]  \n"
     ]
    },
    {
     "name": "stdout",
     "output_type": "stream",
     "text": [
      "Epoch 1/5, Train Loss: 1.0328, Train Acc: 0.6451, Train Throughput: 642.26 samples/s | Val Loss: 0.6505, Val Acc: 0.7796, Val Throughput: 1464.90 samples/s | CPU Usage: 11.00% | RAM Usage: 7.4/30.9GB (31.4%) | GPU 0 Util: 53.00% | GPU 0 Mem: 14.4/24.0GB (60.0%)\n"
     ]
    },
    {
     "name": "stderr",
     "output_type": "stream",
     "text": [
      "Epoch 2/5 [Training]: 100%|██████████| 704/704 [01:35<00:00,  7.40it/s, acc=0.6964, cpu=13.6%, gpu_mem=14.8/24.0GB (61.8%), gpu_util=72.0%, loss=1.2006, ram=8.3/30.9GB (35.3%), samples/s=161.0] \n",
      "Epoch 2/5 [Validation]: 100%|██████████| 79/79 [00:10<00:00,  7.48it/s, acc=0.8298, cpu=4.0%, gpu_mem=14.8/24.0GB (61.8%), gpu_util=46.0%, loss=0.8979, ram=8.1/30.9GB (34.8%), samples/s=277.7]  \n"
     ]
    },
    {
     "name": "stdout",
     "output_type": "stream",
     "text": [
      "Epoch 2/5, Train Loss: 0.8768, Train Acc: 0.6964, Train Throughput: 546.03 samples/s | Val Loss: 0.5121, Val Acc: 0.8298, Val Throughput: 527.95 samples/s | CPU Usage: 11.10% | RAM Usage: 7.8/30.9GB (33.9%) | GPU 0 Util: 39.00% | GPU 0 Mem: 14.8/24.0GB (61.8%)\n"
     ]
    },
    {
     "name": "stderr",
     "output_type": "stream",
     "text": [
      "Epoch 3/5 [Training]: 100%|██████████| 704/704 [01:27<00:00,  8.03it/s, acc=0.7127, cpu=3.7%, gpu_mem=14.8/24.0GB (61.7%), gpu_util=74.0%, loss=0.5547, ram=8.2/30.9GB (35.1%), samples/s=166.9] \n",
      "Epoch 3/5 [Validation]: 100%|██████████| 79/79 [00:03<00:00, 20.28it/s, acc=0.8518, cpu=2.2%, gpu_mem=14.8/24.0GB (61.8%), gpu_util=58.0%, loss=0.7603, ram=8.2/30.9GB (35.0%), samples/s=293.1]  \n"
     ]
    },
    {
     "name": "stdout",
     "output_type": "stream",
     "text": [
      "Epoch 3/5, Train Loss: 0.8293, Train Acc: 0.7127, Train Throughput: 598.11 samples/s | Val Loss: 0.4490, Val Acc: 0.8518, Val Throughput: 1512.22 samples/s | CPU Usage: 13.60% | RAM Usage: 7.9/30.9GB (34.1%) | GPU 0 Util: 58.00% | GPU 0 Mem: 14.8/24.0GB (61.8%)\n"
     ]
    },
    {
     "name": "stderr",
     "output_type": "stream",
     "text": [
      "Epoch 4/5 [Training]: 100%|██████████| 704/704 [01:18<00:00,  8.93it/s, acc=0.7298, cpu=4.6%, gpu_mem=14.4/24.0GB (60.1%), gpu_util=78.0%, loss=1.4168, ram=7.6/30.9GB (31.8%), samples/s=155.8] \n",
      "Epoch 4/5 [Validation]: 100%|██████████| 79/79 [00:04<00:00, 18.75it/s, acc=0.8526, cpu=3.8%, gpu_mem=14.4/24.0GB (60.1%), gpu_util=61.0%, loss=0.4754, ram=7.9/30.9GB (32.8%), samples/s=263.1]  \n"
     ]
    },
    {
     "name": "stdout",
     "output_type": "stream",
     "text": [
      "Epoch 4/5, Train Loss: 0.7834, Train Acc: 0.7298, Train Throughput: 649.89 samples/s | Val Loss: 0.4394, Val Acc: 0.8526, Val Throughput: 1389.81 samples/s | CPU Usage: 12.30% | RAM Usage: 7.6/30.9GB (31.9%) | GPU 0 Util: 61.00% | GPU 0 Mem: 14.4/24.0GB (60.1%)\n"
     ]
    },
    {
     "name": "stderr",
     "output_type": "stream",
     "text": [
      "Epoch 5/5 [Training]: 100%|██████████| 704/704 [01:47<00:00,  6.56it/s, acc=0.7477, cpu=99.0%, gpu_mem=14.8/24.0GB (61.8%), gpu_util=38.0%, loss=1.4806, ram=8.9/30.9GB (37.4%), samples/s=39.7]  \n",
      "Epoch 5/5 [Validation]: 100%|██████████| 79/79 [00:13<00:00,  5.82it/s, acc=0.8638, cpu=3.6%, gpu_mem=14.8/24.0GB (61.7%), gpu_util=60.0%, loss=0.7957, ram=8.2/30.9GB (35.2%), samples/s=254.1]  \n",
      "2025-06-13 15:41:41,795 - nnopt.model.quant - INFO - Converting QAT model to a fully quantized model (INT8)...\n",
      "/home/pbeuran/repos/nnopt/.venv/lib/python3.12/site-packages/torch/ao/quantization/utils.py:408: UserWarning: must run observer before calling calculate_qparams. Returning default values.\n",
      "  warnings.warn(\n",
      "2025-06-13 15:41:41,962 - nnopt.model.quant - INFO - QAT model converted to INT8.\n",
      "2025-06-13 15:41:41,963 - nnopt.model.quant - INFO - Starting evaluation of the QAT quantized model...\n",
      "2025-06-13 15:41:41,963 - nnopt.model.eval - INFO - Starting evaluation on device: cpu, dtype: torch.float32, batch size: 64\n",
      "2025-06-13 15:41:41,964 - nnopt.model.eval - INFO - Starting warmup for 5 batches...\n"
     ]
    },
    {
     "name": "stdout",
     "output_type": "stream",
     "text": [
      "Epoch 5/5, Train Loss: 0.7316, Train Acc: 0.7477, Train Throughput: 481.41 samples/s | Val Loss: 0.4086, Val Acc: 0.8638, Val Throughput: 543.45 samples/s | CPU Usage: 12.70% | RAM Usage: 8.0/30.9GB (34.2%) | GPU 0 Util: 60.00% | GPU 0 Mem: 14.8/24.0GB (61.7%)\n"
     ]
    },
    {
     "name": "stderr",
     "output_type": "stream",
     "text": [
      "[Warmup]: 100%|██████████| 5/5 [00:00<00:00,  7.50it/s]\n",
      "2025-06-13 15:41:42,722 - nnopt.model.eval - INFO - Warmup complete.\n",
      "[Evaluation]: 100%|██████████| 79/79 [00:07<00:00, 11.13it/s, acc=0.8630, cpu=52.5%, loss=0.7963, ram=8.3/30.9GB (35.6%), samples/s=789.8]\n",
      "2025-06-13 15:41:49,838 - nnopt.model.quant - INFO - Quantization-aware training metrics: {'accuracy': 0.863, 'avg_loss': 0.4177242396354675, 'samples_per_second': 751.2406566660139, 'avg_time_per_batch': 0.08424882050632179, 'avg_time_per_sample': 0.0013311313639998844, 'params_stats': {'int_weight_params': 2202560, 'float_weight_params': 0, 'float_bias_params': 17066, 'bn_param_params': 0, 'other_float_params': 0, 'total_params': 2219626, 'approx_memory_mb_for_params': 2.1656265258789062}}\n",
      "2025-06-13 15:41:49,838 - nnopt.model.eval - INFO - Starting evaluation on device: cpu, dtype: torch.float32, batch size: 32\n",
      "2025-06-13 15:41:49,840 - nnopt.model.eval - INFO - Starting warmup for 5 batches...\n"
     ]
    },
    {
     "name": "stdout",
     "output_type": "stream",
     "text": [
      "Evaluation Complete: Avg Loss: 0.4177, Accuracy: 0.8630\n",
      "Throughput: 751.24 samples/sec | Avg Batch Time: 84.25 ms | Avg Sample Time: 1.33 ms\n",
      "System Stats: CPU Usage: 10.90% | RAM Usage: 8.0/30.9GB (34.6%)\n"
     ]
    },
    {
     "name": "stderr",
     "output_type": "stream",
     "text": [
      "[Warmup]: 100%|██████████| 5/5 [00:00<00:00, 13.00it/s]\n",
      "2025-06-13 15:41:50,319 - nnopt.model.eval - INFO - Warmup complete.\n",
      "[Evaluation]: 100%|██████████| 157/157 [00:23<00:00,  6.80it/s, acc=0.8630, cpu=51.3%, loss=0.7963, ram=8.2/30.9GB (35.2%), samples/s=794.0]\n",
      "2025-06-13 15:42:13,433 - nnopt.model.eval - INFO - Starting evaluation on device: cpu, dtype: torch.float32, batch size: 32\n",
      "2025-06-13 15:42:13,435 - nnopt.model.eval - INFO - Starting warmup for 5 batches...\n"
     ]
    },
    {
     "name": "stdout",
     "output_type": "stream",
     "text": [
      "Evaluation Complete: Avg Loss: 0.4177, Accuracy: 0.8630\n",
      "Throughput: 255.85 samples/sec | Avg Batch Time: 124.48 ms | Avg Sample Time: 3.91 ms\n",
      "System Stats: CPU Usage: 13.40% | RAM Usage: 8.0/30.9GB (34.6%)\n"
     ]
    },
    {
     "name": "stderr",
     "output_type": "stream",
     "text": [
      "[Warmup]: 100%|██████████| 5/5 [00:00<00:00, 13.08it/s]\n",
      "2025-06-13 15:42:13,913 - nnopt.model.eval - INFO - Warmup complete.\n",
      "[Evaluation]: 100%|██████████| 313/313 [00:15<00:00, 20.73it/s, acc=0.8597, cpu=47.3%, loss=0.2923, ram=8.2/30.9GB (35.3%), samples/s=964.8]\n",
      "2025-06-13 15:42:29,053 - nnopt.recipes.mobilenetv2_cifar10 - INFO - Model saved to /home/pbeuran/repos/nnopt/models/mobilenetv2_cifar10/int8/qat_baseline/model.pt\n",
      "2025-06-13 15:42:29,072 - nnopt.recipes.mobilenetv2_cifar10 - INFO - Model state_dict saved to /home/pbeuran/repos/nnopt/models/mobilenetv2_cifar10/int8/qat_baseline/state_dict.pt\n",
      "2025-06-13 15:42:29,073 - nnopt.recipes.mobilenetv2_cifar10 - INFO - Metadata saved to /home/pbeuran/repos/nnopt/models/mobilenetv2_cifar10/int8/qat_baseline/metadata.json\n",
      "2025-06-13 15:42:29,074 - nnopt.model.prune - INFO - Making pruning permanent by removing reparameterization...\n",
      "2025-06-13 15:42:29,074 - nnopt.model.prune - WARNING - No pruning reparameterization was removed. Was the model pruned?\n",
      "2025-06-13 15:42:29,075 - nnopt.recipes.mobilenetv2_cifar10 - INFO - Saving model in JIT script format...\n"
     ]
    },
    {
     "name": "stdout",
     "output_type": "stream",
     "text": [
      "Evaluation Complete: Avg Loss: 0.4165, Accuracy: 0.8597\n",
      "Throughput: 698.35 samples/sec | Avg Batch Time: 45.75 ms | Avg Sample Time: 1.43 ms\n",
      "System Stats: CPU Usage: 14.60% | RAM Usage: 8.0/30.9GB (34.7%)\n",
      "Validation accuracy of MobileNetV2 on CIFAR-10 (quantized): 0.86\n",
      "Test accuracy of MobileNetV2 on CIFAR-10 (quantized): 0.86\n"
     ]
    },
    {
     "name": "stderr",
     "output_type": "stream",
     "text": [
      "2025-06-13 15:42:29,353 - nnopt.recipes.mobilenetv2_cifar10 - INFO - JIT script model saved to /home/pbeuran/repos/nnopt/models/mobilenetv2_cifar10/int8/qat_baseline/jit_script.pt\n",
      "2025-06-13 15:42:29,354 - nnopt.recipes.mobilenetv2_cifar10 - INFO - Saving model in JIT trace format...\n",
      "2025-06-13 15:42:30,245 - nnopt.recipes.mobilenetv2_cifar10 - INFO - JIT model saved to /home/pbeuran/repos/nnopt/models/mobilenetv2_cifar10/int8/qat_baseline/jit_trace.pt\n"
     ]
    }
   ],
   "source": [
    "mobilenetv2_cifar10_qat_int8, mobilenetv2_cifar10_qat_int8_val_metrics, mobilenetv2_cifar10_qat_int8_test_metrics = qat_mobilenetv2_cifar10(\n",
    "    version=\"mobilenetv2_cifar10/fp32/baseline\"\n",
    ")"
   ]
  },
  {
   "cell_type": "markdown",
   "id": "e5e378bd",
   "metadata": {},
   "source": [
    "# L1 Unstructured Pruning"
   ]
  },
  {
   "cell_type": "code",
   "execution_count": 8,
   "id": "3580886e",
   "metadata": {},
   "outputs": [
    {
     "name": "stderr",
     "output_type": "stream",
     "text": [
      "2025-06-13 15:42:30,255 - nnopt.recipes.mobilenetv2_cifar10 - INFO - Loading MobileNetV2 model for CIFAR-10 from version: mobilenetv2_cifar10/fp32/l1_unstruct_prune_0.7 at /home/pbeuran/repos/nnopt/models\n",
      "2025-06-13 15:42:30,256 - nnopt.recipes.mobilenetv2_cifar10 - INFO - Loaded metadata: {'unstructured_sparse_config': {'pruning_amount': 0.7}, 'metrics_values': {'val_metrics': {'accuracy': 0.871, 'avg_loss': 0.3521343002319336, 'samples_per_second': 8535.882614956985, 'avg_time_per_batch': 0.007414715278488546, 'avg_time_per_sample': 0.00011715250140011903, 'params_stats': {'int_weight_params': 0, 'float_weight_params': 2202560, 'float_bias_params': 10, 'bn_param_params': 34112, 'other_float_params': 0, 'total_params': 2236682, 'approx_memory_mb_for_params': 8.532264709472656}}, 'test_metrics': {'accuracy': 0.8729, 'avg_loss': 0.3661128273010254, 'samples_per_second': 8581.675884406815, 'avg_time_per_batch': 0.007422124579612489, 'avg_time_per_sample': 0.00011652735589991607, 'params_stats': {'int_weight_params': 0, 'float_weight_params': 2202560, 'float_bias_params': 10, 'bn_param_params': 34112, 'other_float_params': 0, 'total_params': 2236682, 'approx_memory_mb_for_params': 8.532264709472656}}}}\n",
      "2025-06-13 15:42:30,257 - nnopt.recipes.mobilenetv2_cifar10 - INFO - Loading model from /home/pbeuran/repos/nnopt/models/mobilenetv2_cifar10/fp32/l1_unstruct_prune_0.7/model.pt\n",
      "2025-06-13 15:42:30,344 - nnopt.recipes.mobilenetv2_cifar10 - INFO - Converting model to quantized version...\n",
      "2025-06-13 15:42:30,345 - nnopt.recipes.mobilenetv2_cifar10 - INFO - Loading MobileNetV2 model with weights: None, to_quantize: True, is_quantized: False\n",
      "2025-06-13 15:42:30,375 - nnopt.recipes.mobilenetv2_cifar10 - INFO - Replacing head of the model to match 10 classes\n",
      "2025-06-13 15:42:30,397 - nnopt.recipes.mobilenetv2_cifar10 - INFO - Model converted to quantized version.\n",
      "2025-06-13 15:42:30,398 - nnopt.model.quant - INFO - Preparing model for quantization-aware training...\n",
      "2025-06-13 15:42:30,400 - nnopt.model.quant - INFO - Attempting to fuse model modules...\n",
      "2025-06-13 15:42:30,402 - nnopt.model.quant - INFO - Model fusion step completed.\n",
      "2025-06-13 15:42:30,403 - nnopt.model.quant - INFO - Making pruning permanent (if model was pruned) before INT8 conversion...\n",
      "2025-06-13 15:42:30,403 - nnopt.model.prune - INFO - Making pruning permanent by removing reparameterization...\n",
      "2025-06-13 15:42:30,404 - nnopt.model.prune - WARNING - No pruning reparameterization was removed. Was the model pruned?\n",
      "2025-06-13 15:42:30,404 - nnopt.model.quant - INFO - Pruning reparameterization removed.\n",
      "2025-06-13 15:42:30,405 - nnopt.model.quant - INFO - Preparing model for QAT (inserting FakeQuantize modules)...\n",
      "2025-06-13 15:42:30,549 - nnopt.model.quant - INFO - Model prepared for quantization-aware training.\n",
      "2025-06-13 15:42:30,550 - nnopt.model.quant - INFO - Starting quantization-aware training for 5 epochs on cuda...\n",
      "Epoch 1/5 [Training]: 100%|██████████| 704/704 [01:45<00:00,  6.69it/s, acc=0.6658, cpu=3.5%, gpu_mem=14.8/24.0GB (61.7%), gpu_util=72.0%, loss=1.8311, ram=8.4/30.9GB (35.8%), samples/s=162.5] \n",
      "Epoch 1/5 [Validation]: 100%|██████████| 79/79 [00:04<00:00, 19.39it/s, acc=0.8002, cpu=3.9%, gpu_mem=14.8/24.0GB (61.7%), gpu_util=57.0%, loss=0.6507, ram=8.4/30.9GB (35.7%), samples/s=275.2]  \n"
     ]
    },
    {
     "name": "stdout",
     "output_type": "stream",
     "text": [
      "Epoch 1/5, Train Loss: 0.9551, Train Acc: 0.6658, Train Throughput: 492.00 samples/s | Val Loss: 0.5769, Val Acc: 0.8002, Val Throughput: 1456.36 samples/s | CPU Usage: 12.20% | RAM Usage: 8.0/30.9GB (34.7%) | GPU 0 Util: 57.00% | GPU 0 Mem: 14.8/24.0GB (61.7%)\n"
     ]
    },
    {
     "name": "stderr",
     "output_type": "stream",
     "text": [
      "Epoch 2/5 [Training]: 100%|██████████| 704/704 [01:29<00:00,  7.90it/s, acc=0.6973, cpu=2.9%, gpu_mem=14.8/24.0GB (61.9%), gpu_util=76.0%, loss=1.1174, ram=8.4/30.9GB (35.9%), samples/s=131.4] \n",
      "Epoch 2/5 [Validation]: 100%|██████████| 79/79 [00:04<00:00, 17.04it/s, acc=0.8290, cpu=4.3%, gpu_mem=14.8/24.0GB (61.9%), gpu_util=59.0%, loss=1.2652, ram=8.5/30.9GB (36.2%), samples/s=242.9]  \n"
     ]
    },
    {
     "name": "stdout",
     "output_type": "stream",
     "text": [
      "Epoch 2/5, Train Loss: 0.8675, Train Acc: 0.6973, Train Throughput: 580.29 samples/s | Val Loss: 0.5082, Val Acc: 0.8290, Val Throughput: 1256.77 samples/s | CPU Usage: 10.70% | RAM Usage: 8.2/30.9GB (35.1%) | GPU 0 Util: 41.00% | GPU 0 Mem: 14.8/24.0GB (61.9%)\n"
     ]
    },
    {
     "name": "stderr",
     "output_type": "stream",
     "text": [
      "Epoch 3/5 [Training]: 100%|██████████| 704/704 [01:31<00:00,  7.72it/s, acc=0.7179, cpu=2.8%, gpu_mem=14.8/24.0GB (61.8%), gpu_util=81.0%, loss=0.8362, ram=8.3/30.9GB (35.6%), samples/s=154.8] \n",
      "Epoch 3/5 [Validation]: 100%|██████████| 79/79 [00:04<00:00, 17.49it/s, acc=0.8598, cpu=4.3%, gpu_mem=14.8/24.0GB (61.8%), gpu_util=64.0%, loss=0.6255, ram=8.3/30.9GB (35.5%), samples/s=240.8]  \n"
     ]
    },
    {
     "name": "stdout",
     "output_type": "stream",
     "text": [
      "Epoch 3/5, Train Loss: 0.8098, Train Acc: 0.7179, Train Throughput: 565.32 samples/s | Val Loss: 0.4298, Val Acc: 0.8598, Val Throughput: 1291.53 samples/s | CPU Usage: 9.20% | RAM Usage: 8.0/30.9GB (34.7%) | GPU 0 Util: 64.00% | GPU 0 Mem: 14.8/24.0GB (61.8%)\n"
     ]
    },
    {
     "name": "stderr",
     "output_type": "stream",
     "text": [
      "Epoch 4/5 [Training]: 100%|██████████| 704/704 [01:26<00:00,  8.14it/s, acc=0.7325, cpu=2.8%, gpu_mem=14.9/24.0GB (62.1%), gpu_util=75.0%, loss=0.8088, ram=8.3/30.9GB (35.6%), samples/s=153.4] \n",
      "Epoch 4/5 [Validation]: 100%|██████████| 79/79 [00:04<00:00, 17.39it/s, acc=0.8764, cpu=2.6%, gpu_mem=14.9/24.0GB (62.1%), gpu_util=59.0%, loss=0.4910, ram=8.4/30.9GB (35.8%), samples/s=240.0]  \n"
     ]
    },
    {
     "name": "stdout",
     "output_type": "stream",
     "text": [
      "Epoch 4/5, Train Loss: 0.7680, Train Acc: 0.7325, Train Throughput: 581.81 samples/s | Val Loss: 0.3626, Val Acc: 0.8764, Val Throughput: 1291.36 samples/s | CPU Usage: 10.90% | RAM Usage: 8.0/30.9GB (34.7%) | GPU 0 Util: 54.00% | GPU 0 Mem: 14.9/24.0GB (62.1%)\n"
     ]
    },
    {
     "name": "stderr",
     "output_type": "stream",
     "text": [
      "Epoch 5/5 [Training]: 100%|██████████| 704/704 [01:26<00:00,  8.17it/s, acc=0.7434, cpu=3.5%, gpu_mem=15.0/24.0GB (62.3%), gpu_util=77.0%, loss=0.7021, ram=8.5/30.9GB (36.1%), samples/s=161.0] \n",
      "Epoch 5/5 [Validation]: 100%|██████████| 79/79 [00:04<00:00, 19.00it/s, acc=0.8504, cpu=4.9%, gpu_mem=14.9/24.0GB (62.3%), gpu_util=61.0%, loss=0.2648, ram=8.5/30.9GB (36.1%), samples/s=275.2]  \n",
      "2025-06-13 15:50:30,738 - nnopt.model.quant - INFO - Converting QAT model to a fully quantized model (INT8)...\n",
      "2025-06-13 15:50:30,878 - nnopt.model.quant - INFO - QAT model converted to INT8.\n",
      "2025-06-13 15:50:30,879 - nnopt.model.quant - INFO - Starting evaluation of the QAT quantized model...\n",
      "2025-06-13 15:50:30,879 - nnopt.model.eval - INFO - Starting evaluation on device: cpu, dtype: torch.float32, batch size: 64\n",
      "2025-06-13 15:50:30,880 - nnopt.model.eval - INFO - Starting warmup for 5 batches...\n"
     ]
    },
    {
     "name": "stdout",
     "output_type": "stream",
     "text": [
      "Epoch 5/5, Train Loss: 0.7435, Train Acc: 0.7434, Train Throughput: 604.20 samples/s | Val Loss: 0.4372, Val Acc: 0.8504, Val Throughput: 1409.43 samples/s | CPU Usage: 11.40% | RAM Usage: 8.1/30.9GB (35.0%) | GPU 0 Util: 61.00% | GPU 0 Mem: 14.9/24.0GB (62.3%)\n"
     ]
    },
    {
     "name": "stderr",
     "output_type": "stream",
     "text": [
      "[Warmup]: 100%|██████████| 5/5 [00:00<00:00,  6.96it/s]\n",
      "2025-06-13 15:50:31,696 - nnopt.model.eval - INFO - Warmup complete.\n",
      "[Evaluation]: 100%|██████████| 79/79 [00:07<00:00, 10.69it/s, acc=0.8520, cpu=50.0%, loss=0.3167, ram=8.5/30.9GB (36.1%), samples/s=753.9]\n",
      "2025-06-13 15:50:39,106 - nnopt.model.quant - INFO - Quantization-aware training metrics: {'accuracy': 0.852, 'avg_loss': 0.445961306142807, 'samples_per_second': 725.6431103794528, 'avg_time_per_batch': 0.08722075402522622, 'avg_time_per_sample': 0.0013780879135985742, 'params_stats': {'int_weight_params': 2202560, 'float_weight_params': 0, 'float_bias_params': 17066, 'bn_param_params': 0, 'other_float_params': 0, 'total_params': 2219626, 'approx_memory_mb_for_params': 2.1656265258789062}}\n",
      "2025-06-13 15:50:39,107 - nnopt.model.eval - INFO - Starting evaluation on device: cpu, dtype: torch.float32, batch size: 32\n",
      "2025-06-13 15:50:39,109 - nnopt.model.eval - INFO - Starting warmup for 5 batches...\n"
     ]
    },
    {
     "name": "stdout",
     "output_type": "stream",
     "text": [
      "Evaluation Complete: Avg Loss: 0.4460, Accuracy: 0.8520\n",
      "Throughput: 725.64 samples/sec | Avg Batch Time: 87.22 ms | Avg Sample Time: 1.38 ms\n",
      "System Stats: CPU Usage: 14.90% | RAM Usage: 8.2/30.9GB (35.1%)\n"
     ]
    },
    {
     "name": "stderr",
     "output_type": "stream",
     "text": [
      "[Warmup]: 100%|██████████| 5/5 [00:00<00:00, 12.05it/s]\n",
      "2025-06-13 15:50:39,622 - nnopt.model.eval - INFO - Warmup complete.\n",
      "[Evaluation]: 100%|██████████| 157/157 [00:10<00:00, 14.49it/s, acc=0.8520, cpu=48.7%, loss=0.3167, ram=8.3/30.9GB (35.5%), samples/s=750.2]\n",
      "2025-06-13 15:50:50,479 - nnopt.model.eval - INFO - Starting evaluation on device: cpu, dtype: torch.float32, batch size: 32\n",
      "2025-06-13 15:50:50,480 - nnopt.model.eval - INFO - Starting warmup for 5 batches...\n"
     ]
    },
    {
     "name": "stdout",
     "output_type": "stream",
     "text": [
      "Evaluation Complete: Avg Loss: 0.4460, Accuracy: 0.8520\n",
      "Throughput: 657.25 samples/sec | Avg Batch Time: 48.45 ms | Avg Sample Time: 1.52 ms\n",
      "System Stats: CPU Usage: 17.90% | RAM Usage: 8.1/30.9GB (34.8%)\n"
     ]
    },
    {
     "name": "stderr",
     "output_type": "stream",
     "text": [
      "[Warmup]: 100%|██████████| 5/5 [00:00<00:00, 12.37it/s]\n",
      "2025-06-13 15:50:50,988 - nnopt.model.eval - INFO - Warmup complete.\n",
      "[Evaluation]: 100%|██████████| 313/313 [00:15<00:00, 19.67it/s, acc=0.8580, cpu=48.1%, loss=0.2972, ram=8.3/30.9GB (35.5%), samples/s=955.1]\n",
      "2025-06-13 15:51:06,946 - nnopt.recipes.mobilenetv2_cifar10 - INFO - Model saved to /home/pbeuran/repos/nnopt/models/mobilenetv2_cifar10/int8/qat_l1_unstruct_prune_0.7/model.pt\n",
      "2025-06-13 15:51:06,965 - nnopt.recipes.mobilenetv2_cifar10 - INFO - Model state_dict saved to /home/pbeuran/repos/nnopt/models/mobilenetv2_cifar10/int8/qat_l1_unstruct_prune_0.7/state_dict.pt\n",
      "2025-06-13 15:51:06,966 - nnopt.recipes.mobilenetv2_cifar10 - INFO - Metadata saved to /home/pbeuran/repos/nnopt/models/mobilenetv2_cifar10/int8/qat_l1_unstruct_prune_0.7/metadata.json\n",
      "2025-06-13 15:51:06,967 - nnopt.model.prune - INFO - Making pruning permanent by removing reparameterization...\n",
      "2025-06-13 15:51:06,967 - nnopt.model.prune - WARNING - No pruning reparameterization was removed. Was the model pruned?\n",
      "2025-06-13 15:51:06,968 - nnopt.recipes.mobilenetv2_cifar10 - INFO - Saving model in JIT script format...\n"
     ]
    },
    {
     "name": "stdout",
     "output_type": "stream",
     "text": [
      "Evaluation Complete: Avg Loss: 0.4260, Accuracy: 0.8580\n",
      "Throughput: 663.36 samples/sec | Avg Batch Time: 48.16 ms | Avg Sample Time: 1.51 ms\n",
      "System Stats: CPU Usage: 14.30% | RAM Usage: 8.1/30.9GB (34.8%)\n",
      "Validation accuracy of MobileNetV2 on CIFAR-10 (quantized): 0.85\n",
      "Test accuracy of MobileNetV2 on CIFAR-10 (quantized): 0.86\n"
     ]
    },
    {
     "name": "stderr",
     "output_type": "stream",
     "text": [
      "2025-06-13 15:51:07,264 - nnopt.recipes.mobilenetv2_cifar10 - INFO - JIT script model saved to /home/pbeuran/repos/nnopt/models/mobilenetv2_cifar10/int8/qat_l1_unstruct_prune_0.7/jit_script.pt\n",
      "2025-06-13 15:51:07,265 - nnopt.recipes.mobilenetv2_cifar10 - INFO - Saving model in JIT trace format...\n",
      "2025-06-13 15:51:08,037 - nnopt.recipes.mobilenetv2_cifar10 - INFO - JIT model saved to /home/pbeuran/repos/nnopt/models/mobilenetv2_cifar10/int8/qat_l1_unstruct_prune_0.7/jit_trace.pt\n"
     ]
    }
   ],
   "source": [
    "mobilenetv2_cifar10_qat_unstruct_prune, mobilenetv2_cifar10_qat_unstruct_val_metrics, mobilenetv2_cifar10_qat_unstruct_test_metrics = qat_mobilenetv2_cifar10(\n",
    "    version=\"mobilenetv2_cifar10/fp32/l1_unstruct_prune_0.7\"\n",
    ")"
   ]
  },
  {
   "cell_type": "markdown",
   "id": "26df5bde",
   "metadata": {},
   "source": [
    "# "
   ]
  },
  {
   "cell_type": "markdown",
   "id": "494ed4c6",
   "metadata": {},
   "source": [
    "# Analysis"
   ]
  },
  {
   "cell_type": "code",
   "execution_count": 9,
   "id": "eacd3f2a",
   "metadata": {},
   "outputs": [
    {
     "name": "stderr",
     "output_type": "stream",
     "text": [
      "2025-06-13 15:51:08,048 - nnopt.recipes.mobilenetv2_cifar10 - INFO - Loading MobileNetV2 model for CIFAR-10 from version: mobilenetv2_cifar10/fp32/baseline at /home/pbeuran/repos/nnopt/models\n",
      "2025-06-13 15:51:08,049 - nnopt.recipes.mobilenetv2_cifar10 - INFO - Loaded metadata: {'metrics_values': {'val_metrics': {'accuracy': 0.9254, 'avg_loss': 0.21455251355171204, 'samples_per_second': 9594.238581494608, 'avg_time_per_batch': 0.006596786050597328, 'avg_time_per_sample': 0.00010422921959943779, 'params_stats': {'int_weight_params': 0, 'float_weight_params': 2202560, 'float_bias_params': 10, 'bn_param_params': 34112, 'other_float_params': 0, 'total_params': 2236682, 'approx_memory_mb_for_params': 8.532264709472656}}, 'test_metrics': {'accuracy': 0.9288, 'avg_loss': 0.20640371625423432, 'samples_per_second': 9116.575566348814, 'avg_time_per_batch': 0.006986643948966146, 'avg_time_per_sample': 0.00010969030999876849, 'params_stats': {'int_weight_params': 0, 'float_weight_params': 2202560, 'float_bias_params': 10, 'bn_param_params': 34112, 'other_float_params': 0, 'total_params': 2236682, 'approx_memory_mb_for_params': 8.532264709472656}}}}\n",
      "2025-06-13 15:51:08,050 - nnopt.recipes.mobilenetv2_cifar10 - INFO - Loading model from /home/pbeuran/repos/nnopt/models/mobilenetv2_cifar10/fp32/baseline/model.pt\n",
      "2025-06-13 15:51:08,169 - nnopt.model.eval - INFO - Starting evaluation on device: cpu, dtype: torch.float32, batch size: 32\n",
      "2025-06-13 15:51:08,187 - nnopt.model.eval - INFO - Starting warmup for 5 batches...\n"
     ]
    },
    {
     "name": "stdout",
     "output_type": "stream",
     "text": [
      "Evaluating FP32 Baseline Model on CPU...\n"
     ]
    },
    {
     "name": "stderr",
     "output_type": "stream",
     "text": [
      "[Warmup]: 100%|██████████| 5/5 [00:02<00:00,  1.79it/s]\n",
      "2025-06-13 15:51:11,083 - nnopt.model.eval - INFO - Warmup complete.\n",
      "[Evaluation]: 100%|██████████| 157/157 [01:25<00:00,  1.83it/s, acc=0.9248, cpu=42.3%, loss=0.5482, ram=8.3/30.9GB (35.6%), samples/s=109.0]\n",
      "2025-06-13 15:52:36,778 - nnopt.model.eval - INFO - Starting evaluation on device: cpu, dtype: torch.float32, batch size: 32\n",
      "2025-06-13 15:52:36,781 - nnopt.model.eval - INFO - Starting warmup for 5 batches...\n"
     ]
    },
    {
     "name": "stdout",
     "output_type": "stream",
     "text": [
      "Evaluation Complete: Avg Loss: 0.2173, Accuracy: 0.9248\n",
      "Throughput: 64.51 samples/sec | Avg Batch Time: 493.69 ms | Avg Sample Time: 15.50 ms\n",
      "System Stats: CPU Usage: 14.00% | RAM Usage: 8.1/30.9GB (35.0%)\n"
     ]
    },
    {
     "name": "stderr",
     "output_type": "stream",
     "text": [
      "[Warmup]: 100%|██████████| 5/5 [00:02<00:00,  1.99it/s]\n",
      "2025-06-13 15:52:39,398 - nnopt.model.eval - INFO - Warmup complete.\n",
      "[Evaluation]: 100%|██████████| 313/313 [02:41<00:00,  1.94it/s, acc=0.9279, cpu=33.8%, loss=0.0346, ram=8.4/30.9GB (35.8%), samples/s=89.2]"
     ]
    },
    {
     "name": "stdout",
     "output_type": "stream",
     "text": [
      "Evaluation Complete: Avg Loss: 0.2091, Accuracy: 0.9279\n",
      "Throughput: 66.60 samples/sec | Avg Batch Time: 479.74 ms | Avg Sample Time: 15.02 ms\n",
      "System Stats: CPU Usage: 14.20% | RAM Usage: 8.2/30.9GB (35.1%)\n"
     ]
    },
    {
     "name": "stderr",
     "output_type": "stream",
     "text": [
      "\n"
     ]
    }
   ],
   "source": [
    "# Load baseline FP32 model and its metadata\n",
    "fp32_baseline_model, fp32_baseline_metadata = load_mobilenetv2_cifar10_model(version=\"mobilenetv2_cifar10/fp32/baseline\")\n",
    "\n",
    "# Evaluate the baseline model on CPU\n",
    "print(\"Evaluating FP32 Baseline Model on CPU...\")\n",
    "fp32_baseline_val_metrics_cpu = eval_model(\n",
    "    model=fp32_baseline_model,\n",
    "    test_dataset=cifar10_val_dataset,\n",
    "    device=\"cpu\",\n",
    "    use_amp=False,\n",
    "    dtype=torch.float32,\n",
    "    batch_size=32 # Using a consistent batch size for eval\n",
    ")\n",
    "fp32_baseline_test_metrics_cpu = eval_model(\n",
    "    model=fp32_baseline_model,\n",
    "    test_dataset=cifar10_test_dataset,\n",
    "    device=\"cpu\",\n",
    "    use_amp=False,\n",
    "    dtype=torch.float32,\n",
    "    batch_size=32 # Using a consistent batch size for eval\n",
    ")\n"
   ]
  },
  {
   "cell_type": "code",
   "execution_count": 10,
   "id": "d8eb6f8e",
   "metadata": {},
   "outputs": [
    {
     "name": "stderr",
     "output_type": "stream",
     "text": [
      "2025-06-13 15:55:20,958 - nnopt.recipes.mobilenetv2_cifar10 - INFO - Loading MobileNetV2 model for CIFAR-10 from version: mobilenetv2_cifar10/fp32/l1_unstruct_prune_0.7 at /home/pbeuran/repos/nnopt/models\n",
      "2025-06-13 15:55:20,960 - nnopt.recipes.mobilenetv2_cifar10 - INFO - Loaded metadata: {'unstructured_sparse_config': {'pruning_amount': 0.7}, 'metrics_values': {'val_metrics': {'accuracy': 0.871, 'avg_loss': 0.3521343002319336, 'samples_per_second': 8535.882614956985, 'avg_time_per_batch': 0.007414715278488546, 'avg_time_per_sample': 0.00011715250140011903, 'params_stats': {'int_weight_params': 0, 'float_weight_params': 2202560, 'float_bias_params': 10, 'bn_param_params': 34112, 'other_float_params': 0, 'total_params': 2236682, 'approx_memory_mb_for_params': 8.532264709472656}}, 'test_metrics': {'accuracy': 0.8729, 'avg_loss': 0.3661128273010254, 'samples_per_second': 8581.675884406815, 'avg_time_per_batch': 0.007422124579612489, 'avg_time_per_sample': 0.00011652735589991607, 'params_stats': {'int_weight_params': 0, 'float_weight_params': 2202560, 'float_bias_params': 10, 'bn_param_params': 34112, 'other_float_params': 0, 'total_params': 2236682, 'approx_memory_mb_for_params': 8.532264709472656}}}}\n",
      "2025-06-13 15:55:20,960 - nnopt.recipes.mobilenetv2_cifar10 - INFO - Loading model from /home/pbeuran/repos/nnopt/models/mobilenetv2_cifar10/fp32/l1_unstruct_prune_0.7/model.pt\n",
      "2025-06-13 15:55:21,076 - nnopt.model.eval - INFO - Starting evaluation on device: cpu, dtype: torch.float32, batch size: 32\n",
      "2025-06-13 15:55:21,096 - nnopt.model.eval - INFO - Starting warmup for 5 batches...\n"
     ]
    },
    {
     "name": "stdout",
     "output_type": "stream",
     "text": [
      "Evaluating L1 Unstructured Pruned Model on CPU...\n"
     ]
    },
    {
     "name": "stderr",
     "output_type": "stream",
     "text": [
      "[Warmup]: 100%|██████████| 5/5 [00:02<00:00,  1.93it/s]\n",
      "2025-06-13 15:55:23,793 - nnopt.model.eval - INFO - Warmup complete.\n",
      "[Evaluation]: 100%|██████████| 157/157 [01:21<00:00,  1.92it/s, acc=0.8704, cpu=41.2%, loss=0.9086, ram=8.7/30.9GB (36.7%), samples/s=123.7]\n",
      "2025-06-13 15:56:45,539 - nnopt.model.eval - INFO - Starting evaluation on device: cpu, dtype: torch.float32, batch size: 32\n",
      "2025-06-13 15:56:45,541 - nnopt.model.eval - INFO - Starting warmup for 5 batches...\n"
     ]
    },
    {
     "name": "stdout",
     "output_type": "stream",
     "text": [
      "Evaluation Complete: Avg Loss: 0.3516, Accuracy: 0.8704\n",
      "Throughput: 68.34 samples/sec | Avg Batch Time: 466.04 ms | Avg Sample Time: 14.63 ms\n",
      "System Stats: CPU Usage: 11.80% | RAM Usage: 8.4/30.9GB (36.0%)\n"
     ]
    },
    {
     "name": "stderr",
     "output_type": "stream",
     "text": [
      "[Warmup]: 100%|██████████| 5/5 [00:02<00:00,  2.00it/s]\n",
      "2025-06-13 15:56:48,142 - nnopt.model.eval - INFO - Warmup complete.\n",
      "[Evaluation]: 100%|██████████| 313/313 [02:37<00:00,  1.99it/s, acc=0.8718, cpu=35.4%, loss=0.3307, ram=8.6/30.9GB (36.6%), samples/s=93.6]"
     ]
    },
    {
     "name": "stdout",
     "output_type": "stream",
     "text": [
      "Evaluation Complete: Avg Loss: 0.3660, Accuracy: 0.8718\n",
      "Throughput: 68.78 samples/sec | Avg Batch Time: 464.50 ms | Avg Sample Time: 14.54 ms\n",
      "System Stats: CPU Usage: 13.10% | RAM Usage: 8.4/30.9GB (35.9%)\n"
     ]
    },
    {
     "name": "stderr",
     "output_type": "stream",
     "text": [
      "\n"
     ]
    }
   ],
   "source": [
    "# Load the L1 unstructured pruned model and its metadata\n",
    "l1_unstruct_pruned_model, l1_unstruct_pruned_metadata = load_mobilenetv2_cifar10_model(version=\"mobilenetv2_cifar10/fp32/l1_unstruct_prune_0.7\")\n",
    "# Evaluate the L1 unstructured pruned model on CPU\n",
    "print(\"Evaluating L1 Unstructured Pruned Model on CPU...\")\n",
    "l1_unstruct_pruned_val_metrics_cpu = eval_model(\n",
    "    model=l1_unstruct_pruned_model,\n",
    "    test_dataset=cifar10_val_dataset,\n",
    "    device=\"cpu\",\n",
    "    use_amp=False,\n",
    "    dtype=torch.float32,\n",
    "    batch_size=32 # Using a consistent batch size for eval\n",
    ")\n",
    "l1_unstruct_pruned_test_metrics_cpu = eval_model(\n",
    "    model=l1_unstruct_pruned_model,\n",
    "    test_dataset=cifar10_test_dataset,\n",
    "    device=\"cpu\",\n",
    "    use_amp=False,\n",
    "    dtype=torch.float32,\n",
    "    batch_size=32 # Using a consistent batch size for eval\n",
    ")"
   ]
  },
  {
   "cell_type": "code",
   "execution_count": 11,
   "id": "ce37c56e",
   "metadata": {},
   "outputs": [
    {
     "name": "stdout",
     "output_type": "stream",
     "text": [
      "FP32 Baseline Validation Accuracy (#CPU): 0.925\n",
      "FP32 Baseline Test Accuracy (CPU): 0.928\n",
      "FP32 Baseline Validation Time/Sample (CPU): 0.015502s\n",
      "FP32 Baseline Test Time/Sample (CPU): 0.015016s\n",
      "L1 Unstructured Pruned Validation Accuracy (CPU): 0.870\n",
      "L1 Unstructured Pruned Test Accuracy (CPU): 0.872\n",
      "L1 Unstructured Pruned Validation Time/Sample (CPU): 0.014634s\n",
      "L1 Unstructured Pruned Test Time/Sample (CPU): 0.014539s\n",
      "------------------------------\n",
      "PTQ INT8 (Baseline) Test Accuracy (CPU): 0.901, Test Time/Sample (CPU): 0.001377s\n",
      "QAT INT8 (Baseline) Test Accuracy (CPU): 0.860, Test Time/Sample (CPU): 0.001432s\n",
      "PTQ INT8 (Unstructured Pruning) Test Accuracy (CPU): 0.850, Test Time/Sample (CPU): 0.001385s\n",
      "QAT INT8 (Unstructured Pruning) Test Accuracy (CPU): 0.858, Test Time/Sample (CPU): 0.001507s\n"
     ]
    }
   ],
   "source": [
    "# Print metrics for the FP32 baseline model\n",
    "print(f\"FP32 Baseline Validation Accuracy (#CPU): {fp32_baseline_val_metrics_cpu['accuracy']:.3f}\")\n",
    "print(f\"FP32 Baseline Test Accuracy (CPU): {fp32_baseline_test_metrics_cpu['accuracy']:.3f}\")\n",
    "print(f\"FP32 Baseline Validation Time/Sample (CPU): {fp32_baseline_val_metrics_cpu['avg_time_per_sample']:.6f}s\")\n",
    "print(f\"FP32 Baseline Test Time/Sample (CPU): {fp32_baseline_test_metrics_cpu['avg_time_per_sample']:.6f}s\")\n",
    "\n",
    "# Print metrics for the L1 unstructured pruned model\n",
    "print (f\"L1 Unstructured Pruned Validation Accuracy (CPU): {l1_unstruct_pruned_val_metrics_cpu['accuracy']:.3f}\")\n",
    "print(f\"L1 Unstructured Pruned Test Accuracy (CPU): {l1_unstruct_pruned_test_metrics_cpu['accuracy']:.3f}\")\n",
    "print(f\"L1 Unstructured Pruned Validation Time/Sample (CPU): {l1_unstruct_pruned_val_metrics_cpu['avg_time_per_sample']:.6f}s\")\n",
    "print(f\"L1 Unstructured Pruned Test Time/Sample (CPU): {l1_unstruct_pruned_test_metrics_cpu['avg_time_per_sample']:.6f}s\")\n",
    "print(\"-\" * 30)\n",
    "\n",
    "# Print metrics for already evaluated quantized models for completeness\n",
    "# Baseline\n",
    "print(\"PTQ INT8 (Baseline) Test Accuracy (CPU): {:.3f}, Test Time/Sample (CPU): {:.6f}s\".format(\n",
    "    mobilenetv2_cifar10_ptq_int8_test_metrics['accuracy'],\n",
    "    mobilenetv2_cifar10_ptq_int8_test_metrics['avg_time_per_sample']\n",
    "))\n",
    "print(\"QAT INT8 (Baseline) Test Accuracy (CPU): {:.3f}, Test Time/Sample (CPU): {:.6f}s\".format(\n",
    "    mobilenetv2_cifar10_qat_int8_test_metrics['accuracy'],\n",
    "    mobilenetv2_cifar10_qat_int8_test_metrics['avg_time_per_sample'],\n",
    "))\n",
    "# Unstructured Pruning\n",
    "print(\"PTQ INT8 (Unstructured Pruning) Test Accuracy (CPU): {:.3f}, Test Time/Sample (CPU): {:.6f}s\".format(\n",
    "    mobilenetv2_cifar10_ptq_unstruct_test_metrics['accuracy'],\n",
    "    mobilenetv2_cifar10_ptq_unstruct_test_metrics['avg_time_per_sample']\n",
    "))\n",
    "print(\"QAT INT8 (Unstructured Pruning) Test Accuracy (CPU): {:.3f}, Test Time/Sample (CPU): {:.6f}s\".format(\n",
    "    mobilenetv2_cifar10_qat_unstruct_test_metrics['accuracy'],\n",
    "    mobilenetv2_cifar10_qat_unstruct_test_metrics['avg_time_per_sample'],\n",
    "))"
   ]
  },
  {
   "cell_type": "code",
   "execution_count": null,
   "id": "f77918c3",
   "metadata": {},
   "outputs": [],
   "source": [
    "import numpy as np\n",
    "import matplotlib.pyplot as plt # Ensure matplotlib is imported\n",
    "\n",
    "# Data for plotting\n",
    "model_names = [\n",
    "    \"FP32 Baseline\",\n",
    "    \"PTQ INT8 (Baseline)\",\n",
    "    \"QAT INT8 (Baseline)\",\n",
    "    \"FP32 L1 Unstructured Pruning\",\n",
    "    \"PTQ INT8 L1 Unstructured Pruning\",\n",
    "    \"QAT INT8 L1 Unstructured Pruning\"\n",
    "]\n",
    "\n",
    "val_accuracies = [\n",
    "    fp32_baseline_val_metrics_cpu['accuracy'],\n",
    "    mobilenetv2_cifar10_ptq_int8_val_metrics['accuracy'],\n",
    "    mobilenetv2_cifar10_qat_int8_val_metrics['accuracy'],\n",
    "    l1_unstruct_pruned_test_metrics_cpu['accuracy'],\n",
    "    mobilenetv2_cifar10_ptq_unstruct_val_metrics['accuracy'],\n",
    "    mobilenetv2_cifar10_qat_unstruct_val_metrics['accuracy'],\n",
    "]\n",
    "\n",
    "test_accuracies = [\n",
    "    fp32_baseline_test_metrics_cpu['accuracy'],\n",
    "    mobilenetv2_cifar10_ptq_int8_test_metrics['accuracy'],\n",
    "    mobilenetv2_cifar10_qat_int8_test_metrics['accuracy'],\n",
    "    l1_unstruct_pruned_test_metrics_cpu['accuracy'],\n",
    "    mobilenetv2_cifar10_ptq_unstruct_test_metrics['accuracy'],\n",
    "    mobilenetv2_cifar10_qat_unstruct_test_metrics['accuracy'],\n",
    "]\n",
    "\n",
    "cpu_time_per_sample_val = [\n",
    "    fp32_baseline_val_metrics_cpu['avg_time_per_sample']/1000,\n",
    "    mobilenetv2_cifar10_ptq_int8_val_metrics['avg_time_per_sample']/1000,\n",
    "    mobilenetv2_cifar10_qat_int8_val_metrics['avg_time_per_sample']/1000,\n",
    "    l1_unstruct_pruned_val_metrics_cpu['avg_time_per_sample']/1000,\n",
    "    mobilenetv2_cifar10_ptq_unstruct_val_metrics['avg_time_per_sample']/1000,\n",
    "    mobilenetv2_cifar10_qat_unstruct_val_metrics['avg_time_per_sample']/1000\n",
    "]\n",
    "\n",
    "cpu_time_per_sample_test = [\n",
    "    fp32_baseline_test_metrics_cpu['avg_time_per_sample']/1000,\n",
    "    mobilenetv2_cifar10_ptq_int8_test_metrics['avg_time_per_sample']/1000,\n",
    "    mobilenetv2_cifar10_qat_int8_test_metrics['avg_time_per_sample']/1000,\n",
    "    l1_unstruct_pruned_test_metrics_cpu['avg_time_per_sample']/1000,\n",
    "    mobilenetv2_cifar10_ptq_unstruct_test_metrics['avg_time_per_sample']/1000,\n",
    "    mobilenetv2_cifar10_qat_unstruct_test_metrics['avg_time_per_sample']/1000\n",
    "]\n",
    "\n",
    "total_params_mb_fn = lambda metrics, bits, pruning_amount: metrics['params_stats']['total_params'] * bits * (1 - pruning_amount) / 8 / (1024 * 1024)\n",
    "total_params_mb_val = [\n",
    "    total_params_mb_fn(fp32_baseline_val_metrics_cpu, 32, 0),\n",
    "    total_params_mb_fn(mobilenetv2_cifar10_ptq_int8_val_metrics, 8, 0),\n",
    "    total_params_mb_fn(mobilenetv2_cifar10_qat_int8_val_metrics, 8, 0),\n",
    "    total_params_mb_fn(l1_unstruct_pruned_val_metrics_cpu, 32, 0.7),  # L1 unstructured pruning baseline\n",
    "    total_params_mb_fn(mobilenetv2_cifar10_ptq_unstruct_val_metrics, 8, 0.7),\n",
    "    total_params_mb_fn(mobilenetv2_cifar10_qat_unstruct_val_metrics, 8, 0.7)\n",
    "]\n",
    "total_params_mb_test = [\n",
    "    total_params_mb_fn(fp32_baseline_test_metrics_cpu, 32, 0),\n",
    "    total_params_mb_fn(mobilenetv2_cifar10_ptq_int8_test_metrics, 8, 0),\n",
    "    total_params_mb_fn(mobilenetv2_cifar10_qat_int8_test_metrics, 8, 0),\n",
    "    total_params_mb_fn(l1_unstruct_pruned_test_metrics_cpu, 32, 0.7),  # L1 unstructured pruning baseline\n",
    "    total_params_mb_fn(mobilenetv2_cifar10_ptq_unstruct_test_metrics, 8, 0.7),\n",
    "    total_params_mb_fn(mobilenetv2_cifar10_qat_unstruct_test_metrics, 8, 0.7)\n",
    "]"
   ]
  },
  {
   "cell_type": "code",
   "execution_count": 29,
   "id": "fb740b21",
   "metadata": {},
   "outputs": [
    {
     "name": "stderr",
     "output_type": "stream",
     "text": [
      "/tmp/ipykernel_38529/840069867.py:35: MatplotlibDeprecationWarning: The get_cmap function was deprecated in Matplotlib 3.7 and will be removed in 3.11. Use ``matplotlib.colormaps[name]`` or ``matplotlib.colormaps.get_cmap()`` or ``pyplot.get_cmap()`` instead.\n",
      "  default_color_map = plt.cm.get_cmap('tab10', num_models)\n"
     ]
    },
    {
     "data": {
      "image/png": "[encoded data removed]",
      "text/plain": [
       "<Figure size 1200x800 with 1 Axes>"
      ]
     },
     "metadata": {},
     "output_type": "display_data"
    },
    {
     "data": {
      "image/png": "[encoded data removed]",
      "text/plain": [
       "<Figure size 1200x800 with 1 Axes>"
      ]
     },
     "metadata": {},
     "output_type": "display_data"
    }
   ],
   "source": [
    "plot_model_performance_scatter(\n",
    "    model_names=model_names,\n",
    "    test_accuracies=test_accuracies,\n",
    "    cpu_time_per_sample_test=cpu_time_per_sample_test,\n",
    "    total_params_mb_test=total_params_mb_test,\n",
    "    model_styles=[\n",
    "        {'color': 'blue', 'marker': 'o'},  # FP32 Baseline\n",
    "        {'color': 'blue', 'marker': 's'},  # PTQ INT8 (Baseline)\n",
    "        {'color': 'blue', 'marker': '^'},  # QAT INT8 (Baseline)\n",
    "        {'color': 'orange', 'marker': 'o'},  # FP32 L1 Unstructured Pruning\n",
    "        {'color': 'orange', 'marker': 's'},  # PTQ INT8 L1 Unstructured Pruning\n",
    "        {'color': 'orange', 'marker': '^'}   # QAT INT8 L1 Unstructured Pruning\n",
    "    ],\n",
    "    output_dir=None  # Set to a directory path to save plots, or None to show them\n",
    ")"
   ]
  },
  {
   "cell_type": "markdown",
   "id": "47be1ea1",
   "metadata": {},
   "source": [
    "## Conclusions"
   ]
  },
  {
   "cell_type": "markdown",
   "id": "c113ff63",
   "metadata": {},
   "source": [
    "* Not only the quantized model is smaller, but it also has a faster inference time on CPU.\n",
    "* PTQ is fast and easy to implement, but leads to a catastrophic accuracy drop.\n",
    "* QAT is more complex (e.g. hard to integrate with pruned models), but it leads to a much smaller accuracy drop compared to PTQ.\n",
    "* INT8 quantization is thus effective for reducing model size and improving inference speed (on CPU for now), while maintaining acceptable accuracy levels, especially when using QAT."
   ]
  }
 ],
 "metadata": {
  "kernelspec": {
   "display_name": ".venv",
   "language": "python",
   "name": "python3"
  },
  "language_info": {
   "codemirror_mode": {
    "name": "ipython",
    "version": 3
   },
   "file_extension": ".py",
   "mimetype": "text/x-python",
   "name": "python",
   "nbconvert_exporter": "python",
   "pygments_lexer": "ipython3",
   "version": "3.12.3"
  }
 },
 "nbformat": 4,
 "nbformat_minor": 5
}
